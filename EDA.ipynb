{
 "cells": [
  {
   "cell_type": "markdown",
   "metadata": {},
   "source": [
    "# EDA"
   ]
  },
  {
   "cell_type": "code",
   "execution_count": 1,
   "metadata": {},
   "outputs": [],
   "source": [
    "import pandas as pd\n",
    "from sklearn.model_selection import train_test_split, StratifiedKFold\n",
    "import matplotlib.pyplot as plt\n",
    "import numpy as np\n",
    "import random\n",
    "import re\n",
    "import pickle\n",
    "import os\n",
    "\n",
    "# fix random seed\n",
    "seed = 0\n",
    "random.seed(seed)\n",
    "np.random.seed(seed)"
   ]
  },
  {
   "cell_type": "code",
   "execution_count": 2,
   "metadata": {},
   "outputs": [],
   "source": [
    "train = pd.read_csv(\"./data/raw_data/train.csv\")\n",
    "test = pd.read_csv(\"./data/raw_data/test.csv\")\n",
    "sample = pd.read_csv(\"./data/raw_data/sample_submission.csv\")"
   ]
  },
  {
   "cell_type": "code",
   "execution_count": 3,
   "metadata": {},
   "outputs": [
    {
     "data": {
      "text/html": [
       "<div>\n",
       "<style scoped>\n",
       "    .dataframe tbody tr th:only-of-type {\n",
       "        vertical-align: middle;\n",
       "    }\n",
       "\n",
       "    .dataframe tbody tr th {\n",
       "        vertical-align: top;\n",
       "    }\n",
       "\n",
       "    .dataframe thead th {\n",
       "        text-align: right;\n",
       "    }\n",
       "</style>\n",
       "<table border=\"1\" class=\"dataframe\">\n",
       "  <thead>\n",
       "    <tr style=\"text-align: right;\">\n",
       "      <th></th>\n",
       "      <th>ID</th>\n",
       "      <th>review</th>\n",
       "      <th>sentiment</th>\n",
       "    </tr>\n",
       "  </thead>\n",
       "  <tbody>\n",
       "    <tr>\n",
       "      <th>0</th>\n",
       "      <td>41411</td>\n",
       "      <td>I watched this film because I'm a big fan of R...</td>\n",
       "      <td>0</td>\n",
       "    </tr>\n",
       "    <tr>\n",
       "      <th>1</th>\n",
       "      <td>37586</td>\n",
       "      <td>It does not seem that this movie managed to pl...</td>\n",
       "      <td>1</td>\n",
       "    </tr>\n",
       "    <tr>\n",
       "      <th>2</th>\n",
       "      <td>6017</td>\n",
       "      <td>Enough is not a bad movie , just mediocre .</td>\n",
       "      <td>0</td>\n",
       "    </tr>\n",
       "    <tr>\n",
       "      <th>3</th>\n",
       "      <td>44656</td>\n",
       "      <td>my friend and i rented this one a few nights a...</td>\n",
       "      <td>0</td>\n",
       "    </tr>\n",
       "    <tr>\n",
       "      <th>4</th>\n",
       "      <td>38711</td>\n",
       "      <td>Just about everything in this movie is wrong, ...</td>\n",
       "      <td>0</td>\n",
       "    </tr>\n",
       "  </tbody>\n",
       "</table>\n",
       "</div>"
      ],
      "text/plain": [
       "      ID                                             review  sentiment\n",
       "0  41411  I watched this film because I'm a big fan of R...          0\n",
       "1  37586  It does not seem that this movie managed to pl...          1\n",
       "2   6017        Enough is not a bad movie , just mediocre .          0\n",
       "3  44656  my friend and i rented this one a few nights a...          0\n",
       "4  38711  Just about everything in this movie is wrong, ...          0"
      ]
     },
     "execution_count": 3,
     "metadata": {},
     "output_type": "execute_result"
    }
   ],
   "source": [
    "train.head()"
   ]
  },
  {
   "cell_type": "code",
   "execution_count": 4,
   "metadata": {},
   "outputs": [
    {
     "data": {
      "text/plain": [
       "ID           0\n",
       "review       0\n",
       "sentiment    0\n",
       "dtype: int64"
      ]
     },
     "execution_count": 4,
     "metadata": {},
     "output_type": "execute_result"
    }
   ],
   "source": [
    "train.isnull().sum()"
   ]
  },
  {
   "cell_type": "code",
   "execution_count": 5,
   "metadata": {},
   "outputs": [
    {
     "data": {
      "text/html": [
       "<div>\n",
       "<style scoped>\n",
       "    .dataframe tbody tr th:only-of-type {\n",
       "        vertical-align: middle;\n",
       "    }\n",
       "\n",
       "    .dataframe tbody tr th {\n",
       "        vertical-align: top;\n",
       "    }\n",
       "\n",
       "    .dataframe thead th {\n",
       "        text-align: right;\n",
       "    }\n",
       "</style>\n",
       "<table border=\"1\" class=\"dataframe\">\n",
       "  <thead>\n",
       "    <tr style=\"text-align: right;\">\n",
       "      <th></th>\n",
       "      <th>ID</th>\n",
       "      <th>review</th>\n",
       "    </tr>\n",
       "  </thead>\n",
       "  <tbody>\n",
       "    <tr>\n",
       "      <th>0</th>\n",
       "      <td>22622</td>\n",
       "      <td>Robert Lansing plays a scientist experimenting...</td>\n",
       "    </tr>\n",
       "    <tr>\n",
       "      <th>1</th>\n",
       "      <td>10162</td>\n",
       "      <td>Well I've enjoy this movie, even though someti...</td>\n",
       "    </tr>\n",
       "    <tr>\n",
       "      <th>2</th>\n",
       "      <td>17468</td>\n",
       "      <td>First things first - though I believe Joel Sch...</td>\n",
       "    </tr>\n",
       "    <tr>\n",
       "      <th>3</th>\n",
       "      <td>42579</td>\n",
       "      <td>I watched this movie on the grounds that Amber...</td>\n",
       "    </tr>\n",
       "    <tr>\n",
       "      <th>4</th>\n",
       "      <td>701</td>\n",
       "      <td>A certain sexiness underlines even the dullest...</td>\n",
       "    </tr>\n",
       "  </tbody>\n",
       "</table>\n",
       "</div>"
      ],
      "text/plain": [
       "      ID                                             review\n",
       "0  22622  Robert Lansing plays a scientist experimenting...\n",
       "1  10162  Well I've enjoy this movie, even though someti...\n",
       "2  17468  First things first - though I believe Joel Sch...\n",
       "3  42579  I watched this movie on the grounds that Amber...\n",
       "4    701  A certain sexiness underlines even the dullest..."
      ]
     },
     "execution_count": 5,
     "metadata": {},
     "output_type": "execute_result"
    }
   ],
   "source": [
    "test.head()"
   ]
  },
  {
   "cell_type": "code",
   "execution_count": 6,
   "metadata": {},
   "outputs": [
    {
     "data": {
      "text/plain": [
       "ID        0\n",
       "review    0\n",
       "dtype: int64"
      ]
     },
     "execution_count": 6,
     "metadata": {},
     "output_type": "execute_result"
    }
   ],
   "source": [
    "test.isnull().sum()"
   ]
  },
  {
   "cell_type": "code",
   "execution_count": 7,
   "metadata": {},
   "outputs": [
    {
     "data": {
      "text/html": [
       "<div>\n",
       "<style scoped>\n",
       "    .dataframe tbody tr th:only-of-type {\n",
       "        vertical-align: middle;\n",
       "    }\n",
       "\n",
       "    .dataframe tbody tr th {\n",
       "        vertical-align: top;\n",
       "    }\n",
       "\n",
       "    .dataframe thead th {\n",
       "        text-align: right;\n",
       "    }\n",
       "</style>\n",
       "<table border=\"1\" class=\"dataframe\">\n",
       "  <thead>\n",
       "    <tr style=\"text-align: right;\">\n",
       "      <th></th>\n",
       "      <th>ID</th>\n",
       "      <th>sentiment</th>\n",
       "    </tr>\n",
       "  </thead>\n",
       "  <tbody>\n",
       "    <tr>\n",
       "      <th>0</th>\n",
       "      <td>22622</td>\n",
       "      <td>1</td>\n",
       "    </tr>\n",
       "    <tr>\n",
       "      <th>1</th>\n",
       "      <td>10162</td>\n",
       "      <td>1</td>\n",
       "    </tr>\n",
       "    <tr>\n",
       "      <th>2</th>\n",
       "      <td>17468</td>\n",
       "      <td>1</td>\n",
       "    </tr>\n",
       "    <tr>\n",
       "      <th>3</th>\n",
       "      <td>42579</td>\n",
       "      <td>1</td>\n",
       "    </tr>\n",
       "    <tr>\n",
       "      <th>4</th>\n",
       "      <td>701</td>\n",
       "      <td>1</td>\n",
       "    </tr>\n",
       "  </tbody>\n",
       "</table>\n",
       "</div>"
      ],
      "text/plain": [
       "      ID  sentiment\n",
       "0  22622          1\n",
       "1  10162          1\n",
       "2  17468          1\n",
       "3  42579          1\n",
       "4    701          1"
      ]
     },
     "execution_count": 7,
     "metadata": {},
     "output_type": "execute_result"
    }
   ],
   "source": [
    "sample.head()"
   ]
  },
  {
   "cell_type": "code",
   "execution_count": 8,
   "metadata": {},
   "outputs": [
    {
     "data": {
      "text/plain": [
       "ID           0\n",
       "sentiment    0\n",
       "dtype: int64"
      ]
     },
     "execution_count": 8,
     "metadata": {},
     "output_type": "execute_result"
    }
   ],
   "source": [
    "sample.isnull().sum()"
   ]
  },
  {
   "cell_type": "markdown",
   "metadata": {},
   "source": [
    "## EDA"
   ]
  },
  {
   "cell_type": "code",
   "execution_count": 9,
   "metadata": {},
   "outputs": [
    {
     "name": "stdout",
     "output_type": "stream",
     "text": [
      "train data: 29341\n",
      "test data: 29341\n"
     ]
    }
   ],
   "source": [
    "print(\"train data:\", len(train))\n",
    "print(\"test data:\", len(test))"
   ]
  },
  {
   "cell_type": "code",
   "execution_count": 10,
   "metadata": {},
   "outputs": [
    {
     "name": "stdout",
     "output_type": "stream",
     "text": [
      "Positive data: 14954\n",
      "Negative data: 14387\n"
     ]
    }
   ],
   "source": [
    "print(\"Positive data:\", len(train[train[\"sentiment\"] == 1]))\n",
    "print(\"Negative data:\", len(train[train[\"sentiment\"] == 0]))"
   ]
  },
  {
   "cell_type": "code",
   "execution_count": 11,
   "metadata": {},
   "outputs": [
    {
     "data": {
      "image/png": "[encoded data removed]",
      "text/plain": [
       "<Figure size 432x288 with 1 Axes>"
      ]
     },
     "metadata": {
      "needs_background": "light"
     },
     "output_type": "display_data"
    }
   ],
   "source": [
    "x_axis_label = [\"Positive\", \"Negative\"]\n",
    "num_data = [len(train[train[\"sentiment\"] == 1]), len(train[train[\"sentiment\"] == 0])]\n",
    "x = np.arange(len(x_axis_label))\n",
    "plt.bar(x, num_data)\n",
    "plt.xticks(x, x_axis_label)\n",
    "plt.xlabel(\"Students\")\n",
    "plt.ylabel(\"number of data\")\n",
    "plt.title(\"Data distribution\")\n",
    "plt.show()"
   ]
  },
  {
   "cell_type": "markdown",
   "metadata": {},
   "source": [
    "### average length"
   ]
  },
  {
   "cell_type": "code",
   "execution_count": 12,
   "metadata": {},
   "outputs": [],
   "source": [
    "len_list = []\n",
    "for i in range(len(train)):\n",
    "    _, review, _ = train.iloc[i]\n",
    "    if \"<br />\" in review:\n",
    "        review_new = re.sub(\"<br />\", \" \", review)\n",
    "        review_new = review_new.strip().split()\n",
    "    else:\n",
    "        review_new = review.strip().split()\n",
    "\n",
    "    len_list.append(len(review_new))"
   ]
  },
  {
   "cell_type": "code",
   "execution_count": 13,
   "metadata": {},
   "outputs": [
    {
     "name": "stdout",
     "output_type": "stream",
     "text": [
      "mean: 196.84\n",
      "max : 2088.00\n",
      "min : 2.00 \n",
      "std : 171.53\n"
     ]
    }
   ],
   "source": [
    "print(\"mean: {:<5.2f}\".format(np.mean(len_list)))\n",
    "print(\"max : {:<5.2f}\".format(np.max(len_list)))\n",
    "print(\"min : {:<5.2f}\".format(np.min(len_list)))\n",
    "print(\"std : {:<5.2f}\".format(np.std(len_list)))"
   ]
  },
  {
   "cell_type": "markdown",
   "metadata": {},
   "source": [
    "### remove `<br />` character"
   ]
  },
  {
   "cell_type": "code",
   "execution_count": 14,
   "metadata": {},
   "outputs": [],
   "source": [
    "# train_rm_br = train.copy()\n",
    "# test_rm_br = test.copy()\n",
    "\n",
    "# # train\n",
    "# for i in range(len(train_rm_br)):\n",
    "#     _,review,_=train_rm_br.iloc[i]\n",
    "#     if ('<br />' in review):\n",
    "#         review_new = re.sub('<br />', ' ', review)\n",
    "#         review_new = ' '.join(review_new.strip().split())\n",
    "#     else:\n",
    "#         review_new = ' '.join(review.strip().split())\n",
    "#     train_rm_br.loc[i, 'review']=review_new\n",
    "\n",
    "# # test\n",
    "# for i in range(len(test_rm_br)):\n",
    "#     _,review=test_rm_br.iloc[i]\n",
    "#     if ('<br />' in review):\n",
    "#         review_new = re.sub('<br />', ' ', review)\n",
    "#         review_new = ' '.join(review_new.strip().split())\n",
    "#     else:\n",
    "#         review_new = ' '.join(review.strip().split())\n",
    "#     test_rm_br.loc[i, 'review']=review_new\n",
    "\n",
    "# train_rm_br.to_pickle(\"./data/train_rm_br.pkl\")\n",
    "# test_rm_br.to_pickle(\"./data/test_rm_br.pkl\")"
   ]
  },
  {
   "cell_type": "code",
   "execution_count": 15,
   "metadata": {},
   "outputs": [],
   "source": [
    "train_rm_br = pd.read_pickle(\"./data/train_rm_br.pkl\")\n",
    "test_rm_br = pd.read_pickle(\"./data/test_rm_br.pkl\")"
   ]
  },
  {
   "cell_type": "code",
   "execution_count": 16,
   "metadata": {},
   "outputs": [
    {
     "name": "stdout",
     "output_type": "stream",
     "text": [
      "Same perenctage: 0.4997\n"
     ]
    }
   ],
   "source": [
    "print(\n",
    "    \"Same perenctage: {:.4f}\".format(\n",
    "        sum(train_rm_br[\"review\"] == train[\"review\"]) / len(train_rm_br[\"review\"])\n",
    "    )\n",
    ")"
   ]
  },
  {
   "cell_type": "code",
   "execution_count": 17,
   "metadata": {},
   "outputs": [
    {
     "name": "stdout",
     "output_type": "stream",
     "text": [
      "Same perenctage: 0.4991\n"
     ]
    }
   ],
   "source": [
    "print(\n",
    "    \"Same perenctage: {:.4f}\".format(\n",
    "        sum(test_rm_br[\"review\"] == test[\"review\"]) / len(test_rm_br[\"review\"])\n",
    "    )\n",
    ")"
   ]
  },
  {
   "cell_type": "markdown",
   "metadata": {},
   "source": [
    "## Train / test split"
   ]
  },
  {
   "cell_type": "code",
   "execution_count": 18,
   "metadata": {},
   "outputs": [],
   "source": [
    "X = train_rm_br[\"review\"]\n",
    "y = train_rm_br[\"sentiment\"]"
   ]
  },
  {
   "cell_type": "code",
   "execution_count": 19,
   "metadata": {},
   "outputs": [],
   "source": [
    "X_train, X_test, y_train, y_test = train_test_split(X, y, test_size=0.2, random_state=0)"
   ]
  },
  {
   "cell_type": "code",
   "execution_count": 20,
   "metadata": {},
   "outputs": [
    {
     "name": "stdout",
     "output_type": "stream",
     "text": [
      "Training set: 23472\n",
      "Test set: 5869\n",
      "sum: 29341\n"
     ]
    }
   ],
   "source": [
    "print(\"Training set:\", len(X_train))\n",
    "print(\"Test set:\", len(X_test))\n",
    "\n",
    "print(\"sum:\", len(X_train) + len(X_test))"
   ]
  },
  {
   "cell_type": "markdown",
   "metadata": {},
   "source": [
    "### check data balance"
   ]
  },
  {
   "cell_type": "code",
   "execution_count": 21,
   "metadata": {},
   "outputs": [
    {
     "name": "stdout",
     "output_type": "stream",
     "text": [
      "Training POS data: 11960\n",
      "Training NEG data: 11512\n",
      "--------------------\n",
      "Test POS data: 2994\n",
      "Test NEG data: 2875\n",
      "--------------------\n",
      "Total: 29341\n"
     ]
    }
   ],
   "source": [
    "print(\"Training POS data:\", sum(y_train == 1))\n",
    "print(\"Training NEG data:\", sum(y_train == 0))\n",
    "print(\"-\" * 20)\n",
    "print(\"Test POS data:\", sum(y_test == 1))\n",
    "print(\"Test NEG data:\", sum(y_test == 0))\n",
    "print(\"-\" * 20)\n",
    "print(\n",
    "    \"Total:\",\n",
    "    sum(y_train == 1) + sum(y_train == 0) + sum(y_test == 1) + sum(y_test == 0),\n",
    ")"
   ]
  },
  {
   "cell_type": "code",
   "execution_count": 22,
   "metadata": {},
   "outputs": [],
   "source": [
    "path = \"./data/train_test_split\"\n",
    "if not os.path.isdir(path):\n",
    "    os.mkdir(path)\n",
    "X_train.to_pickle(os.path.join(path, \"./X_train.pkl\"))\n",
    "X_test.to_pickle(os.path.join(path, \"./X_test.pkl\"))\n",
    "y_train.to_pickle(os.path.join(path, \"./y_train.pkl\"))\n",
    "y_test.to_pickle(os.path.join(path, \"./y_test.pkl\"))"
   ]
  },
  {
   "cell_type": "markdown",
   "metadata": {},
   "source": [
    "## Train / Validation split"
   ]
  },
  {
   "cell_type": "code",
   "execution_count": 25,
   "metadata": {},
   "outputs": [],
   "source": [
    "X_tr, X_va, y_tr, y_va = train_test_split(\n",
    "    X_train, y_train, test_size=0.2, random_state=0\n",
    ")"
   ]
  },
  {
   "cell_type": "markdown",
   "metadata": {},
   "source": [
    "### check data balance"
   ]
  },
  {
   "cell_type": "code",
   "execution_count": 26,
   "metadata": {},
   "outputs": [
    {
     "name": "stdout",
     "output_type": "stream",
     "text": [
      "Training POS data: 9531\n",
      "Training NEG data: 9246\n",
      "--------------------\n",
      "Test POS data: 2429\n",
      "Test NEG data: 2266\n",
      "--------------------\n",
      "Total: 23472\n"
     ]
    }
   ],
   "source": [
    "print(\"Training POS data:\", sum(y_tr == 1))\n",
    "print(\"Training NEG data:\", sum(y_tr == 0))\n",
    "print(\"-\" * 20)\n",
    "print(\"Test POS data:\", sum(y_va == 1))\n",
    "print(\"Test NEG data:\", sum(y_va == 0))\n",
    "print(\"-\" * 20)\n",
    "print(\n",
    "    \"Total:\",\n",
    "    sum(y_tr == 1) + sum(y_tr == 0) + sum(y_va == 1) + sum(y_va == 0),\n",
    ")"
   ]
  },
  {
   "cell_type": "code",
   "execution_count": 27,
   "metadata": {},
   "outputs": [],
   "source": [
    "path = \"./data/train_valid_split\"\n",
    "if not os.path.isdir(path):\n",
    "    os.mkdir(path)\n",
    "X_tr.to_pickle(os.path.join(path, \"X_tr.pkl\"))\n",
    "X_va.to_pickle(os.path.join(path, \"X_va.pkl\"))\n",
    "y_tr.to_pickle(os.path.join(path, \"y_tr.pkl\"))\n",
    "y_va.to_pickle(os.path.join(path, \"y_va.pkl\"))"
   ]
  },
  {
   "cell_type": "markdown",
   "metadata": {},
   "source": [
    "## 5-Fold CV"
   ]
  },
  {
   "cell_type": "code",
   "execution_count": 45,
   "metadata": {},
   "outputs": [
    {
     "name": "stdout",
     "output_type": "stream",
     "text": [
      "StratifiedKFold(n_splits=5, random_state=0, shuffle=True)\n"
     ]
    }
   ],
   "source": [
    "skf = StratifiedKFold(n_splits=5, shuffle=True, random_state=0)\n",
    "print(skf)"
   ]
  },
  {
   "cell_type": "code",
   "execution_count": 46,
   "metadata": {},
   "outputs": [
    {
     "name": "stdout",
     "output_type": "stream",
     "text": [
      "***[Fold 1]***\n",
      "TRAIN: 18777 TEST: 4695\n",
      "\n",
      "Training POS data: 9568\n",
      "Training NEG data: 9209\n",
      "\n",
      "Test POS data: 2392\n",
      "Test NEG data: 2303\n",
      "\n",
      "Total: 23472\n",
      "====================\n",
      "***[Fold 2]***\n",
      "TRAIN: 18777 TEST: 4695\n",
      "\n",
      "Training POS data: 9568\n",
      "Training NEG data: 9209\n",
      "\n",
      "Test POS data: 2392\n",
      "Test NEG data: 2303\n",
      "\n",
      "Total: 23472\n",
      "====================\n",
      "***[Fold 3]***\n",
      "TRAIN: 18778 TEST: 4694\n",
      "\n",
      "Training POS data: 9568\n",
      "Training NEG data: 9210\n",
      "\n",
      "Test POS data: 2392\n",
      "Test NEG data: 2302\n",
      "\n",
      "Total: 23472\n",
      "====================\n",
      "***[Fold 4]***\n",
      "TRAIN: 18778 TEST: 4694\n",
      "\n",
      "Training POS data: 9568\n",
      "Training NEG data: 9210\n",
      "\n",
      "Test POS data: 2392\n",
      "Test NEG data: 2302\n",
      "\n",
      "Total: 23472\n",
      "====================\n",
      "***[Fold 5]***\n",
      "TRAIN: 18778 TEST: 4694\n",
      "\n",
      "Training POS data: 9568\n",
      "Training NEG data: 9210\n",
      "\n",
      "Test POS data: 2392\n",
      "Test NEG data: 2302\n",
      "\n",
      "Total: 23472\n",
      "====================\n"
     ]
    }
   ],
   "source": [
    "def cv(X, y):\n",
    "    X_train_list = []\n",
    "    X_valid_list = []\n",
    "    y_train_list = []\n",
    "    y_valid_list = []\n",
    "    count = 1\n",
    "\n",
    "    for train_index, test_index in skf.split(X, y):\n",
    "        X_train, X_test = X[train_index], X[test_index]\n",
    "        y_train, y_test = y[train_index], y[test_index]\n",
    "        print(f\"***[Fold {count}]***\")\n",
    "        print(\"TRAIN:\", len(train_index), \"TEST:\", len(test_index))\n",
    "        print()\n",
    "        print(\"Training POS data:\", sum(y_train == 1))\n",
    "        print(\"Training NEG data:\", sum(y_train == 0))\n",
    "        print()\n",
    "        print(\"Test POS data:\", sum(y_test == 1))\n",
    "        print(\"Test NEG data:\", sum(y_test == 0))\n",
    "        print()\n",
    "        print(\n",
    "            \"Total:\",\n",
    "            sum(y_train == 1) + sum(y_train == 0) + sum(y_test == 1) + sum(y_test == 0),\n",
    "        )\n",
    "        X_train_list.append(X_train)\n",
    "        X_valid_list.append(X_test)\n",
    "        y_train_list.append(y_train)\n",
    "        y_valid_list.append(y_test)\n",
    "        print(\"=\" * 20)\n",
    "        count += 1\n",
    "    return X_train_list, X_valid_list, y_train_list, y_valid_list\n",
    "\n",
    "\n",
    "X_train_list, X_valid_list, y_train_list, y_valid_list = cv(\n",
    "    X_train.values, y_train.values\n",
    ")"
   ]
  },
  {
   "cell_type": "code",
   "execution_count": 49,
   "metadata": {},
   "outputs": [],
   "source": [
    "path = \"./data/5_fold\"\n",
    "if not os.path.isdir(path):\n",
    "    os.mkdir(path)\n",
    "\n",
    "with open(os.path.join(path, \"X_train_list.pkl\"), \"wb\") as f:\n",
    "    pickle.dump(X_train_list, f)\n",
    "\n",
    "with open(os.path.join(path, \"X_valid_list.pkl\"), \"wb\") as f:\n",
    "    pickle.dump(X_valid_list, f)\n",
    "\n",
    "with open(os.path.join(path, \"y_train_list.pkl\"), \"wb\") as f:\n",
    "    pickle.dump(y_train_list, f)\n",
    "\n",
    "with open(os.path.join(path, \"y_valid_list.pkl\"), \"wb\") as f:\n",
    "    pickle.dump(y_valid_list, f)"
   ]
  },
  {
   "cell_type": "code",
   "execution_count": null,
   "metadata": {},
   "outputs": [],
   "source": []
  }
 ],
 "metadata": {
  "interpreter": {
   "hash": "aad9fa7f6ed343a042bd460ce7fa15eb6fc8d0afdca2e8e62a1852ae0075cd4e"
  },
  "kernelspec": {
   "display_name": "Python 3",
   "language": "python",
   "name": "python3"
  },
  "language_info": {
   "codemirror_mode": {
    "name": "ipython",
    "version": 3
   },
   "file_extension": ".py",
   "mimetype": "text/x-python",
   "name": "python",
   "nbconvert_exporter": "python",
   "pygments_lexer": "ipython3",
   "version": "3.8.6"
  },
  "toc": {
   "base_numbering": 1,
   "nav_menu": {},
   "number_sections": true,
   "sideBar": true,
   "skip_h1_title": true,
   "title_cell": "Table of Contents",
   "title_sidebar": "Contents",
   "toc_cell": false,
   "toc_position": {
    "height": "calc(100% - 180px)",
    "left": "10px",
    "top": "150px",
    "width": "304.475px"
   },
   "toc_section_display": true,
   "toc_window_display": false
  }
 },
 "nbformat": 4,
 "nbformat_minor": 5
}
