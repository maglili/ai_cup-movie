{
 "cells": [
  {
   "cell_type": "markdown",
   "id": "1f3d99cf",
   "metadata": {},
   "source": [
    "# EDA"
   ]
  },
  {
   "cell_type": "code",
   "execution_count": 1,
   "id": "86aff915",
   "metadata": {},
   "outputs": [
    {
     "name": "stderr",
     "output_type": "stream",
     "text": [
      "/home/lichang/.virtualenvs/py38/lib/python3.8/site-packages/pandas/compat/__init__.py:97: UserWarning: Could not import the lzma module. Your installed Python is incomplete. Attempting to use lzma compression will result in a RuntimeError.\n",
      "  warnings.warn(msg)\n"
     ]
    }
   ],
   "source": [
    "import pandas as pd\n",
    "from sklearn.model_selection import train_test_split, StratifiedKFold\n",
    "import matplotlib.pyplot as plt\n",
    "import numpy as np\n",
    "import random\n",
    "import re\n",
    "import pickle\n",
    "import os\n",
    "\n",
    "# fix random seed\n",
    "seed = 0\n",
    "random.seed(seed)\n",
    "np.random.seed(seed)"
   ]
  },
  {
   "cell_type": "code",
   "execution_count": 2,
   "id": "3066f4d0",
   "metadata": {},
   "outputs": [],
   "source": [
    "train = pd.read_csv(\"./data/raw_data/train.csv\")\n",
    "test = pd.read_csv(\"./data/raw_data/test.csv\")\n",
    "sample = pd.read_csv(\"./data/raw_data/sample_submission.csv\")"
   ]
  },
  {
   "cell_type": "code",
   "execution_count": 3,
   "id": "0476006c",
   "metadata": {},
   "outputs": [
    {
     "data": {
      "text/html": [
       "<div>\n",
       "<style scoped>\n",
       "    .dataframe tbody tr th:only-of-type {\n",
       "        vertical-align: middle;\n",
       "    }\n",
       "\n",
       "    .dataframe tbody tr th {\n",
       "        vertical-align: top;\n",
       "    }\n",
       "\n",
       "    .dataframe thead th {\n",
       "        text-align: right;\n",
       "    }\n",
       "</style>\n",
       "<table border=\"1\" class=\"dataframe\">\n",
       "  <thead>\n",
       "    <tr style=\"text-align: right;\">\n",
       "      <th></th>\n",
       "      <th>ID</th>\n",
       "      <th>review</th>\n",
       "      <th>sentiment</th>\n",
       "    </tr>\n",
       "  </thead>\n",
       "  <tbody>\n",
       "    <tr>\n",
       "      <th>0</th>\n",
       "      <td>41411</td>\n",
       "      <td>I watched this film because I'm a big fan of R...</td>\n",
       "      <td>0</td>\n",
       "    </tr>\n",
       "    <tr>\n",
       "      <th>1</th>\n",
       "      <td>37586</td>\n",
       "      <td>It does not seem that this movie managed to pl...</td>\n",
       "      <td>1</td>\n",
       "    </tr>\n",
       "    <tr>\n",
       "      <th>2</th>\n",
       "      <td>6017</td>\n",
       "      <td>Enough is not a bad movie , just mediocre .</td>\n",
       "      <td>0</td>\n",
       "    </tr>\n",
       "    <tr>\n",
       "      <th>3</th>\n",
       "      <td>44656</td>\n",
       "      <td>my friend and i rented this one a few nights a...</td>\n",
       "      <td>0</td>\n",
       "    </tr>\n",
       "    <tr>\n",
       "      <th>4</th>\n",
       "      <td>38711</td>\n",
       "      <td>Just about everything in this movie is wrong, ...</td>\n",
       "      <td>0</td>\n",
       "    </tr>\n",
       "  </tbody>\n",
       "</table>\n",
       "</div>"
      ],
      "text/plain": [
       "      ID                                             review  sentiment\n",
       "0  41411  I watched this film because I'm a big fan of R...          0\n",
       "1  37586  It does not seem that this movie managed to pl...          1\n",
       "2   6017        Enough is not a bad movie , just mediocre .          0\n",
       "3  44656  my friend and i rented this one a few nights a...          0\n",
       "4  38711  Just about everything in this movie is wrong, ...          0"
      ]
     },
     "execution_count": 3,
     "metadata": {},
     "output_type": "execute_result"
    }
   ],
   "source": [
    "train.head()"
   ]
  },
  {
   "cell_type": "code",
   "execution_count": 4,
   "id": "2e286fd3",
   "metadata": {},
   "outputs": [
    {
     "data": {
      "text/plain": [
       "ID           0\n",
       "review       0\n",
       "sentiment    0\n",
       "dtype: int64"
      ]
     },
     "execution_count": 4,
     "metadata": {},
     "output_type": "execute_result"
    }
   ],
   "source": [
    "train.isnull().sum()"
   ]
  },
  {
   "cell_type": "code",
   "execution_count": 5,
   "id": "90de7d35",
   "metadata": {},
   "outputs": [
    {
     "data": {
      "text/html": [
       "<div>\n",
       "<style scoped>\n",
       "    .dataframe tbody tr th:only-of-type {\n",
       "        vertical-align: middle;\n",
       "    }\n",
       "\n",
       "    .dataframe tbody tr th {\n",
       "        vertical-align: top;\n",
       "    }\n",
       "\n",
       "    .dataframe thead th {\n",
       "        text-align: right;\n",
       "    }\n",
       "</style>\n",
       "<table border=\"1\" class=\"dataframe\">\n",
       "  <thead>\n",
       "    <tr style=\"text-align: right;\">\n",
       "      <th></th>\n",
       "      <th>ID</th>\n",
       "      <th>review</th>\n",
       "    </tr>\n",
       "  </thead>\n",
       "  <tbody>\n",
       "    <tr>\n",
       "      <th>0</th>\n",
       "      <td>22622</td>\n",
       "      <td>Robert Lansing plays a scientist experimenting...</td>\n",
       "    </tr>\n",
       "    <tr>\n",
       "      <th>1</th>\n",
       "      <td>10162</td>\n",
       "      <td>Well I've enjoy this movie, even though someti...</td>\n",
       "    </tr>\n",
       "    <tr>\n",
       "      <th>2</th>\n",
       "      <td>17468</td>\n",
       "      <td>First things first - though I believe Joel Sch...</td>\n",
       "    </tr>\n",
       "    <tr>\n",
       "      <th>3</th>\n",
       "      <td>42579</td>\n",
       "      <td>I watched this movie on the grounds that Amber...</td>\n",
       "    </tr>\n",
       "    <tr>\n",
       "      <th>4</th>\n",
       "      <td>701</td>\n",
       "      <td>A certain sexiness underlines even the dullest...</td>\n",
       "    </tr>\n",
       "  </tbody>\n",
       "</table>\n",
       "</div>"
      ],
      "text/plain": [
       "      ID                                             review\n",
       "0  22622  Robert Lansing plays a scientist experimenting...\n",
       "1  10162  Well I've enjoy this movie, even though someti...\n",
       "2  17468  First things first - though I believe Joel Sch...\n",
       "3  42579  I watched this movie on the grounds that Amber...\n",
       "4    701  A certain sexiness underlines even the dullest..."
      ]
     },
     "execution_count": 5,
     "metadata": {},
     "output_type": "execute_result"
    }
   ],
   "source": [
    "test.head()"
   ]
  },
  {
   "cell_type": "code",
   "execution_count": 6,
   "id": "e1facde4",
   "metadata": {},
   "outputs": [
    {
     "data": {
      "text/plain": [
       "ID        0\n",
       "review    0\n",
       "dtype: int64"
      ]
     },
     "execution_count": 6,
     "metadata": {},
     "output_type": "execute_result"
    }
   ],
   "source": [
    "test.isnull().sum()"
   ]
  },
  {
   "cell_type": "code",
   "execution_count": 7,
   "id": "a0275804",
   "metadata": {},
   "outputs": [
    {
     "data": {
      "text/html": [
       "<div>\n",
       "<style scoped>\n",
       "    .dataframe tbody tr th:only-of-type {\n",
       "        vertical-align: middle;\n",
       "    }\n",
       "\n",
       "    .dataframe tbody tr th {\n",
       "        vertical-align: top;\n",
       "    }\n",
       "\n",
       "    .dataframe thead th {\n",
       "        text-align: right;\n",
       "    }\n",
       "</style>\n",
       "<table border=\"1\" class=\"dataframe\">\n",
       "  <thead>\n",
       "    <tr style=\"text-align: right;\">\n",
       "      <th></th>\n",
       "      <th>ID</th>\n",
       "      <th>sentiment</th>\n",
       "    </tr>\n",
       "  </thead>\n",
       "  <tbody>\n",
       "    <tr>\n",
       "      <th>0</th>\n",
       "      <td>22622</td>\n",
       "      <td>1</td>\n",
       "    </tr>\n",
       "    <tr>\n",
       "      <th>1</th>\n",
       "      <td>10162</td>\n",
       "      <td>1</td>\n",
       "    </tr>\n",
       "    <tr>\n",
       "      <th>2</th>\n",
       "      <td>17468</td>\n",
       "      <td>1</td>\n",
       "    </tr>\n",
       "    <tr>\n",
       "      <th>3</th>\n",
       "      <td>42579</td>\n",
       "      <td>1</td>\n",
       "    </tr>\n",
       "    <tr>\n",
       "      <th>4</th>\n",
       "      <td>701</td>\n",
       "      <td>1</td>\n",
       "    </tr>\n",
       "  </tbody>\n",
       "</table>\n",
       "</div>"
      ],
      "text/plain": [
       "      ID  sentiment\n",
       "0  22622          1\n",
       "1  10162          1\n",
       "2  17468          1\n",
       "3  42579          1\n",
       "4    701          1"
      ]
     },
     "execution_count": 7,
     "metadata": {},
     "output_type": "execute_result"
    }
   ],
   "source": [
    "sample.head()"
   ]
  },
  {
   "cell_type": "code",
   "execution_count": 8,
   "id": "8a314f31",
   "metadata": {},
   "outputs": [
    {
     "data": {
      "text/plain": [
       "ID           0\n",
       "sentiment    0\n",
       "dtype: int64"
      ]
     },
     "execution_count": 8,
     "metadata": {},
     "output_type": "execute_result"
    }
   ],
   "source": [
    "sample.isnull().sum()"
   ]
  },
  {
   "cell_type": "markdown",
   "id": "e49232ef",
   "metadata": {},
   "source": [
    "## EDA"
   ]
  },
  {
   "cell_type": "code",
   "execution_count": 9,
   "id": "71fccaf0",
   "metadata": {},
   "outputs": [
    {
     "name": "stdout",
     "output_type": "stream",
     "text": [
      "train data: 29341\n",
      "test data: 29341\n"
     ]
    }
   ],
   "source": [
    "print(\"train data:\", len(train))\n",
    "print(\"test data:\", len(test))"
   ]
  },
  {
   "cell_type": "code",
   "execution_count": 10,
   "id": "4af933ab",
   "metadata": {},
   "outputs": [
    {
     "name": "stdout",
     "output_type": "stream",
     "text": [
      "Positive data: 14954\n",
      "Negative data: 14387\n"
     ]
    }
   ],
   "source": [
    "print(\"Positive data:\", len(train[train[\"sentiment\"] == 1]))\n",
    "print(\"Negative data:\", len(train[train[\"sentiment\"] == 0]))"
   ]
  },
  {
   "cell_type": "code",
   "execution_count": 11,
   "id": "fb5018bb",
   "metadata": {},
   "outputs": [
    {
     "data": {
      "image/png": "[encoded data removed]",
      "text/plain": [
       "<Figure size 432x288 with 1 Axes>"
      ]
     },
     "metadata": {
      "needs_background": "light"
     },
     "output_type": "display_data"
    }
   ],
   "source": [
    "x_axis_label = [\"Positive\", \"Negative\"]\n",
    "num_data = [len(train[train[\"sentiment\"] == 1]), len(train[train[\"sentiment\"] == 0])]\n",
    "x = np.arange(len(x_axis_label))\n",
    "plt.bar(x, num_data)\n",
    "plt.xticks(x, x_axis_label)\n",
    "plt.xlabel(\"Students\")\n",
    "plt.ylabel(\"number of data\")\n",
    "plt.title(\"Data distribution\")\n",
    "plt.show()"
   ]
  },
  {
   "cell_type": "markdown",
   "id": "89e2faf1",
   "metadata": {},
   "source": [
    "### average length"
   ]
  },
  {
   "cell_type": "code",
   "execution_count": 12,
   "id": "ca44e349",
   "metadata": {},
   "outputs": [],
   "source": [
    "len_list = []\n",
    "for i in range(len(train)):\n",
    "    _, review, _ = train.iloc[i]\n",
    "    if \"<br />\" in review:\n",
    "        review_new = re.sub(\"<br />\", \" \", review)\n",
    "        review_new = review_new.strip().split()\n",
    "    else:\n",
    "        review_new = review.strip().split()\n",
    "\n",
    "    len_list.append(len(review_new))"
   ]
  },
  {
   "cell_type": "code",
   "execution_count": 13,
   "id": "a773bc42",
   "metadata": {},
   "outputs": [
    {
     "name": "stdout",
     "output_type": "stream",
     "text": [
      "mean: 196.84\n",
      "max : 2088.00\n",
      "min : 2.00 \n",
      "std : 171.53\n"
     ]
    }
   ],
   "source": [
    "print(\"mean: {:<5.2f}\".format(np.mean(len_list)))\n",
    "print(\"max : {:<5.2f}\".format(np.max(len_list)))\n",
    "print(\"min : {:<5.2f}\".format(np.min(len_list)))\n",
    "print(\"std : {:<5.2f}\".format(np.std(len_list)))"
   ]
  },
  {
   "cell_type": "markdown",
   "id": "19470744",
   "metadata": {},
   "source": [
    "### remove `<br />` character"
   ]
  },
  {
   "cell_type": "code",
   "execution_count": 14,
   "id": "83168ec8",
   "metadata": {},
   "outputs": [],
   "source": [
    "# train_rm_br = train.copy()\n",
    "# test_rm_br = test.copy()\n",
    "\n",
    "# # train\n",
    "# for i in range(len(train_rm_br)):\n",
    "#     _, review, _ = train_rm_br.iloc[i]\n",
    "#     if \"<br />\" in review:\n",
    "#         review_new = re.sub(\"<br />\", \" \", review)\n",
    "#         review_new = \" \".join(review_new.strip().split())\n",
    "#     else:\n",
    "#         review_new = \" \".join(review.strip().split())\n",
    "#     train_rm_br.loc[i, \"review\"] = review_new\n",
    "\n",
    "# # test\n",
    "# for i in range(len(test_rm_br)):\n",
    "#     _, review = test_rm_br.iloc[i]\n",
    "#     if \"<br />\" in review:\n",
    "#         review_new = re.sub(\"<br />\", \" \", review)\n",
    "#         review_new = \" \".join(review_new.strip().split())\n",
    "#     else:\n",
    "#         review_new = \" \".join(review.strip().split())\n",
    "#     test_rm_br.loc[i, \"review\"] = review_new\n",
    "\n",
    "# train_rm_br.to_pickle(\"./data/train_rm_br.pkl\")\n",
    "# test_rm_br.to_pickle(\"./data/test_rm_br.pkl\")"
   ]
  },
  {
   "cell_type": "code",
   "execution_count": 15,
   "id": "75326c5f",
   "metadata": {},
   "outputs": [],
   "source": [
    "train_rm_br = pd.read_pickle(\"./data/train_rm_br.pkl\")\n",
    "test_rm_br = pd.read_pickle(\"./data/test_rm_br.pkl\")"
   ]
  },
  {
   "cell_type": "code",
   "execution_count": 16,
   "id": "b443fbd4",
   "metadata": {},
   "outputs": [
    {
     "name": "stdout",
     "output_type": "stream",
     "text": [
      "Same perenctage: 0.4997\n"
     ]
    }
   ],
   "source": [
    "print(\n",
    "    \"Same perenctage: {:.4f}\".format(\n",
    "        sum(train_rm_br[\"review\"] == train[\"review\"]) / len(train_rm_br[\"review\"])\n",
    "    )\n",
    ")"
   ]
  },
  {
   "cell_type": "code",
   "execution_count": 17,
   "id": "19c350b9",
   "metadata": {},
   "outputs": [
    {
     "name": "stdout",
     "output_type": "stream",
     "text": [
      "Same perenctage: 0.4991\n"
     ]
    }
   ],
   "source": [
    "print(\n",
    "    \"Same perenctage: {:.4f}\".format(\n",
    "        sum(test_rm_br[\"review\"] == test[\"review\"]) / len(test_rm_br[\"review\"])\n",
    "    )\n",
    ")"
   ]
  },
  {
   "cell_type": "code",
   "execution_count": 18,
   "id": "8ab79cd9",
   "metadata": {},
   "outputs": [
    {
     "data": {
      "text/html": [
       "<div>\n",
       "<style scoped>\n",
       "    .dataframe tbody tr th:only-of-type {\n",
       "        vertical-align: middle;\n",
       "    }\n",
       "\n",
       "    .dataframe tbody tr th {\n",
       "        vertical-align: top;\n",
       "    }\n",
       "\n",
       "    .dataframe thead th {\n",
       "        text-align: right;\n",
       "    }\n",
       "</style>\n",
       "<table border=\"1\" class=\"dataframe\">\n",
       "  <thead>\n",
       "    <tr style=\"text-align: right;\">\n",
       "      <th></th>\n",
       "      <th>ID</th>\n",
       "      <th>review</th>\n",
       "      <th>sentiment</th>\n",
       "    </tr>\n",
       "  </thead>\n",
       "  <tbody>\n",
       "    <tr>\n",
       "      <th>0</th>\n",
       "      <td>True</td>\n",
       "      <td>True</td>\n",
       "      <td>True</td>\n",
       "    </tr>\n",
       "    <tr>\n",
       "      <th>1</th>\n",
       "      <td>True</td>\n",
       "      <td>False</td>\n",
       "      <td>True</td>\n",
       "    </tr>\n",
       "    <tr>\n",
       "      <th>2</th>\n",
       "      <td>True</td>\n",
       "      <td>True</td>\n",
       "      <td>True</td>\n",
       "    </tr>\n",
       "    <tr>\n",
       "      <th>3</th>\n",
       "      <td>True</td>\n",
       "      <td>True</td>\n",
       "      <td>True</td>\n",
       "    </tr>\n",
       "    <tr>\n",
       "      <th>4</th>\n",
       "      <td>True</td>\n",
       "      <td>True</td>\n",
       "      <td>True</td>\n",
       "    </tr>\n",
       "    <tr>\n",
       "      <th>...</th>\n",
       "      <td>...</td>\n",
       "      <td>...</td>\n",
       "      <td>...</td>\n",
       "    </tr>\n",
       "    <tr>\n",
       "      <th>29336</th>\n",
       "      <td>True</td>\n",
       "      <td>True</td>\n",
       "      <td>True</td>\n",
       "    </tr>\n",
       "    <tr>\n",
       "      <th>29337</th>\n",
       "      <td>True</td>\n",
       "      <td>True</td>\n",
       "      <td>True</td>\n",
       "    </tr>\n",
       "    <tr>\n",
       "      <th>29338</th>\n",
       "      <td>True</td>\n",
       "      <td>False</td>\n",
       "      <td>True</td>\n",
       "    </tr>\n",
       "    <tr>\n",
       "      <th>29339</th>\n",
       "      <td>True</td>\n",
       "      <td>False</td>\n",
       "      <td>True</td>\n",
       "    </tr>\n",
       "    <tr>\n",
       "      <th>29340</th>\n",
       "      <td>True</td>\n",
       "      <td>False</td>\n",
       "      <td>True</td>\n",
       "    </tr>\n",
       "  </tbody>\n",
       "</table>\n",
       "<p>29341 rows × 3 columns</p>\n",
       "</div>"
      ],
      "text/plain": [
       "         ID  review  sentiment\n",
       "0      True    True       True\n",
       "1      True   False       True\n",
       "2      True    True       True\n",
       "3      True    True       True\n",
       "4      True    True       True\n",
       "...     ...     ...        ...\n",
       "29336  True    True       True\n",
       "29337  True    True       True\n",
       "29338  True   False       True\n",
       "29339  True   False       True\n",
       "29340  True   False       True\n",
       "\n",
       "[29341 rows x 3 columns]"
      ]
     },
     "execution_count": 18,
     "metadata": {},
     "output_type": "execute_result"
    }
   ],
   "source": [
    "train_rm_br == train"
   ]
  },
  {
   "cell_type": "code",
   "execution_count": 19,
   "id": "6057e8e7",
   "metadata": {},
   "outputs": [
    {
     "data": {
      "text/html": [
       "<div>\n",
       "<style scoped>\n",
       "    .dataframe tbody tr th:only-of-type {\n",
       "        vertical-align: middle;\n",
       "    }\n",
       "\n",
       "    .dataframe tbody tr th {\n",
       "        vertical-align: top;\n",
       "    }\n",
       "\n",
       "    .dataframe thead th {\n",
       "        text-align: right;\n",
       "    }\n",
       "</style>\n",
       "<table border=\"1\" class=\"dataframe\">\n",
       "  <thead>\n",
       "    <tr style=\"text-align: right;\">\n",
       "      <th></th>\n",
       "      <th>ID</th>\n",
       "      <th>review</th>\n",
       "    </tr>\n",
       "  </thead>\n",
       "  <tbody>\n",
       "    <tr>\n",
       "      <th>0</th>\n",
       "      <td>True</td>\n",
       "      <td>False</td>\n",
       "    </tr>\n",
       "    <tr>\n",
       "      <th>1</th>\n",
       "      <td>True</td>\n",
       "      <td>False</td>\n",
       "    </tr>\n",
       "    <tr>\n",
       "      <th>2</th>\n",
       "      <td>True</td>\n",
       "      <td>False</td>\n",
       "    </tr>\n",
       "    <tr>\n",
       "      <th>3</th>\n",
       "      <td>True</td>\n",
       "      <td>False</td>\n",
       "    </tr>\n",
       "    <tr>\n",
       "      <th>4</th>\n",
       "      <td>True</td>\n",
       "      <td>True</td>\n",
       "    </tr>\n",
       "    <tr>\n",
       "      <th>...</th>\n",
       "      <td>...</td>\n",
       "      <td>...</td>\n",
       "    </tr>\n",
       "    <tr>\n",
       "      <th>29336</th>\n",
       "      <td>True</td>\n",
       "      <td>False</td>\n",
       "    </tr>\n",
       "    <tr>\n",
       "      <th>29337</th>\n",
       "      <td>True</td>\n",
       "      <td>True</td>\n",
       "    </tr>\n",
       "    <tr>\n",
       "      <th>29338</th>\n",
       "      <td>True</td>\n",
       "      <td>True</td>\n",
       "    </tr>\n",
       "    <tr>\n",
       "      <th>29339</th>\n",
       "      <td>True</td>\n",
       "      <td>True</td>\n",
       "    </tr>\n",
       "    <tr>\n",
       "      <th>29340</th>\n",
       "      <td>True</td>\n",
       "      <td>False</td>\n",
       "    </tr>\n",
       "  </tbody>\n",
       "</table>\n",
       "<p>29341 rows × 2 columns</p>\n",
       "</div>"
      ],
      "text/plain": [
       "         ID  review\n",
       "0      True   False\n",
       "1      True   False\n",
       "2      True   False\n",
       "3      True   False\n",
       "4      True    True\n",
       "...     ...     ...\n",
       "29336  True   False\n",
       "29337  True    True\n",
       "29338  True    True\n",
       "29339  True    True\n",
       "29340  True   False\n",
       "\n",
       "[29341 rows x 2 columns]"
      ]
     },
     "execution_count": 19,
     "metadata": {},
     "output_type": "execute_result"
    }
   ],
   "source": [
    "test_rm_br == test"
   ]
  },
  {
   "cell_type": "markdown",
   "id": "4171d9c3",
   "metadata": {},
   "source": [
    "### Data leakage"
   ]
  },
  {
   "cell_type": "code",
   "execution_count": 61,
   "id": "6ac56961",
   "metadata": {},
   "outputs": [],
   "source": [
    "import torch\n",
    "from torch.utils.data import DataLoader, TensorDataset\n",
    "from transformers import BertTokenizer, BertModel\n",
    "import numpy as np\n",
    "import matplotlib.pyplot as plt\n",
    "\n",
    "%matplotlib inline\n",
    "\n",
    "tokenizer = BertTokenizer.from_pretrained(\"bert-base-uncased\")"
   ]
  },
  {
   "cell_type": "code",
   "execution_count": 30,
   "id": "f076ecea",
   "metadata": {},
   "outputs": [],
   "source": [
    "device = torch.device(\"cuda:0\") if torch.cuda.is_available() else torch.device(\"cpu\")"
   ]
  },
  {
   "cell_type": "code",
   "execution_count": 22,
   "id": "eda6626c",
   "metadata": {},
   "outputs": [],
   "source": [
    "def tokenizing(sent_list, sent_label, tokenizer):\n",
    "    \"\"\"\n",
    "    Main tokenizing process.\n",
    "    \"\"\"\n",
    "\n",
    "    # Tokenize all of the sentences and map the tokens to thier word IDs.\n",
    "    input_ids_list = []\n",
    "    attention_masks_list = []\n",
    "    # For every sentence...\n",
    "    for sent in sent_list:\n",
    "        encoded_dict = tokenizer.encode_plus(\n",
    "            sent,  # Sentence to encode.\n",
    "            add_special_tokens=True,  # Add '[CLS]' and '[SEP]'\n",
    "            max_length=400,  # 512,  # Pad & truncate all sentences.\n",
    "            padding=\"max_length\",\n",
    "            return_attention_mask=True,  # Construct attn. masks.\n",
    "            return_tensors=\"pt\",  # Return pytorch tensors.\n",
    "            truncation=True,\n",
    "        )\n",
    "\n",
    "        # Add the encoded sentence to the list.\n",
    "        input_ids_list.append(encoded_dict[\"input_ids\"])\n",
    "\n",
    "        # And its attention mask (simply differentiates padding from non-padding).\n",
    "        attention_masks_list.append(encoded_dict[\"attention_mask\"])\n",
    "\n",
    "    # Convert the lists into tensors.\n",
    "    input_ids = torch.cat(input_ids_list, dim=0)\n",
    "    attention_masks = torch.cat(attention_masks_list, dim=0)\n",
    "    if sent_label is not None:\n",
    "        labels = torch.tensor(sent_label)\n",
    "    else:\n",
    "        labels = None\n",
    "\n",
    "    return input_ids, attention_masks, labels"
   ]
  },
  {
   "cell_type": "code",
   "execution_count": 23,
   "id": "848b2f44",
   "metadata": {},
   "outputs": [],
   "source": [
    "input_ids, attention_masks, _ = tokenizing(test.review.values, None, tokenizer)"
   ]
  },
  {
   "cell_type": "code",
   "execution_count": 28,
   "id": "5d04358b",
   "metadata": {},
   "outputs": [],
   "source": [
    "# dataset\n",
    "dataset = TensorDataset(input_ids, attention_masks)\n",
    "data_loader = DataLoader(dataset, shuffle=False, batch_size=8)"
   ]
  },
  {
   "cell_type": "code",
   "execution_count": 32,
   "id": "345f2b70",
   "metadata": {},
   "outputs": [
    {
     "data": {
      "text/plain": [
       "BertModel(\n",
       "  (embeddings): BertEmbeddings(\n",
       "    (word_embeddings): Embedding(30522, 768, padding_idx=0)\n",
       "    (position_embeddings): Embedding(512, 768)\n",
       "    (token_type_embeddings): Embedding(2, 768)\n",
       "    (LayerNorm): LayerNorm((768,), eps=1e-12, elementwise_affine=True)\n",
       "    (dropout): Dropout(p=0.1, inplace=False)\n",
       "  )\n",
       "  (encoder): BertEncoder(\n",
       "    (layer): ModuleList(\n",
       "      (0): BertLayer(\n",
       "        (attention): BertAttention(\n",
       "          (self): BertSelfAttention(\n",
       "            (query): Linear(in_features=768, out_features=768, bias=True)\n",
       "            (key): Linear(in_features=768, out_features=768, bias=True)\n",
       "            (value): Linear(in_features=768, out_features=768, bias=True)\n",
       "            (dropout): Dropout(p=0.1, inplace=False)\n",
       "          )\n",
       "          (output): BertSelfOutput(\n",
       "            (dense): Linear(in_features=768, out_features=768, bias=True)\n",
       "            (LayerNorm): LayerNorm((768,), eps=1e-12, elementwise_affine=True)\n",
       "            (dropout): Dropout(p=0.1, inplace=False)\n",
       "          )\n",
       "        )\n",
       "        (intermediate): BertIntermediate(\n",
       "          (dense): Linear(in_features=768, out_features=3072, bias=True)\n",
       "        )\n",
       "        (output): BertOutput(\n",
       "          (dense): Linear(in_features=3072, out_features=768, bias=True)\n",
       "          (LayerNorm): LayerNorm((768,), eps=1e-12, elementwise_affine=True)\n",
       "          (dropout): Dropout(p=0.1, inplace=False)\n",
       "        )\n",
       "      )\n",
       "      (1): BertLayer(\n",
       "        (attention): BertAttention(\n",
       "          (self): BertSelfAttention(\n",
       "            (query): Linear(in_features=768, out_features=768, bias=True)\n",
       "            (key): Linear(in_features=768, out_features=768, bias=True)\n",
       "            (value): Linear(in_features=768, out_features=768, bias=True)\n",
       "            (dropout): Dropout(p=0.1, inplace=False)\n",
       "          )\n",
       "          (output): BertSelfOutput(\n",
       "            (dense): Linear(in_features=768, out_features=768, bias=True)\n",
       "            (LayerNorm): LayerNorm((768,), eps=1e-12, elementwise_affine=True)\n",
       "            (dropout): Dropout(p=0.1, inplace=False)\n",
       "          )\n",
       "        )\n",
       "        (intermediate): BertIntermediate(\n",
       "          (dense): Linear(in_features=768, out_features=3072, bias=True)\n",
       "        )\n",
       "        (output): BertOutput(\n",
       "          (dense): Linear(in_features=3072, out_features=768, bias=True)\n",
       "          (LayerNorm): LayerNorm((768,), eps=1e-12, elementwise_affine=True)\n",
       "          (dropout): Dropout(p=0.1, inplace=False)\n",
       "        )\n",
       "      )\n",
       "      (2): BertLayer(\n",
       "        (attention): BertAttention(\n",
       "          (self): BertSelfAttention(\n",
       "            (query): Linear(in_features=768, out_features=768, bias=True)\n",
       "            (key): Linear(in_features=768, out_features=768, bias=True)\n",
       "            (value): Linear(in_features=768, out_features=768, bias=True)\n",
       "            (dropout): Dropout(p=0.1, inplace=False)\n",
       "          )\n",
       "          (output): BertSelfOutput(\n",
       "            (dense): Linear(in_features=768, out_features=768, bias=True)\n",
       "            (LayerNorm): LayerNorm((768,), eps=1e-12, elementwise_affine=True)\n",
       "            (dropout): Dropout(p=0.1, inplace=False)\n",
       "          )\n",
       "        )\n",
       "        (intermediate): BertIntermediate(\n",
       "          (dense): Linear(in_features=768, out_features=3072, bias=True)\n",
       "        )\n",
       "        (output): BertOutput(\n",
       "          (dense): Linear(in_features=3072, out_features=768, bias=True)\n",
       "          (LayerNorm): LayerNorm((768,), eps=1e-12, elementwise_affine=True)\n",
       "          (dropout): Dropout(p=0.1, inplace=False)\n",
       "        )\n",
       "      )\n",
       "      (3): BertLayer(\n",
       "        (attention): BertAttention(\n",
       "          (self): BertSelfAttention(\n",
       "            (query): Linear(in_features=768, out_features=768, bias=True)\n",
       "            (key): Linear(in_features=768, out_features=768, bias=True)\n",
       "            (value): Linear(in_features=768, out_features=768, bias=True)\n",
       "            (dropout): Dropout(p=0.1, inplace=False)\n",
       "          )\n",
       "          (output): BertSelfOutput(\n",
       "            (dense): Linear(in_features=768, out_features=768, bias=True)\n",
       "            (LayerNorm): LayerNorm((768,), eps=1e-12, elementwise_affine=True)\n",
       "            (dropout): Dropout(p=0.1, inplace=False)\n",
       "          )\n",
       "        )\n",
       "        (intermediate): BertIntermediate(\n",
       "          (dense): Linear(in_features=768, out_features=3072, bias=True)\n",
       "        )\n",
       "        (output): BertOutput(\n",
       "          (dense): Linear(in_features=3072, out_features=768, bias=True)\n",
       "          (LayerNorm): LayerNorm((768,), eps=1e-12, elementwise_affine=True)\n",
       "          (dropout): Dropout(p=0.1, inplace=False)\n",
       "        )\n",
       "      )\n",
       "      (4): BertLayer(\n",
       "        (attention): BertAttention(\n",
       "          (self): BertSelfAttention(\n",
       "            (query): Linear(in_features=768, out_features=768, bias=True)\n",
       "            (key): Linear(in_features=768, out_features=768, bias=True)\n",
       "            (value): Linear(in_features=768, out_features=768, bias=True)\n",
       "            (dropout): Dropout(p=0.1, inplace=False)\n",
       "          )\n",
       "          (output): BertSelfOutput(\n",
       "            (dense): Linear(in_features=768, out_features=768, bias=True)\n",
       "            (LayerNorm): LayerNorm((768,), eps=1e-12, elementwise_affine=True)\n",
       "            (dropout): Dropout(p=0.1, inplace=False)\n",
       "          )\n",
       "        )\n",
       "        (intermediate): BertIntermediate(\n",
       "          (dense): Linear(in_features=768, out_features=3072, bias=True)\n",
       "        )\n",
       "        (output): BertOutput(\n",
       "          (dense): Linear(in_features=3072, out_features=768, bias=True)\n",
       "          (LayerNorm): LayerNorm((768,), eps=1e-12, elementwise_affine=True)\n",
       "          (dropout): Dropout(p=0.1, inplace=False)\n",
       "        )\n",
       "      )\n",
       "      (5): BertLayer(\n",
       "        (attention): BertAttention(\n",
       "          (self): BertSelfAttention(\n",
       "            (query): Linear(in_features=768, out_features=768, bias=True)\n",
       "            (key): Linear(in_features=768, out_features=768, bias=True)\n",
       "            (value): Linear(in_features=768, out_features=768, bias=True)\n",
       "            (dropout): Dropout(p=0.1, inplace=False)\n",
       "          )\n",
       "          (output): BertSelfOutput(\n",
       "            (dense): Linear(in_features=768, out_features=768, bias=True)\n",
       "            (LayerNorm): LayerNorm((768,), eps=1e-12, elementwise_affine=True)\n",
       "            (dropout): Dropout(p=0.1, inplace=False)\n",
       "          )\n",
       "        )\n",
       "        (intermediate): BertIntermediate(\n",
       "          (dense): Linear(in_features=768, out_features=3072, bias=True)\n",
       "        )\n",
       "        (output): BertOutput(\n",
       "          (dense): Linear(in_features=3072, out_features=768, bias=True)\n",
       "          (LayerNorm): LayerNorm((768,), eps=1e-12, elementwise_affine=True)\n",
       "          (dropout): Dropout(p=0.1, inplace=False)\n",
       "        )\n",
       "      )\n",
       "      (6): BertLayer(\n",
       "        (attention): BertAttention(\n",
       "          (self): BertSelfAttention(\n",
       "            (query): Linear(in_features=768, out_features=768, bias=True)\n",
       "            (key): Linear(in_features=768, out_features=768, bias=True)\n",
       "            (value): Linear(in_features=768, out_features=768, bias=True)\n",
       "            (dropout): Dropout(p=0.1, inplace=False)\n",
       "          )\n",
       "          (output): BertSelfOutput(\n",
       "            (dense): Linear(in_features=768, out_features=768, bias=True)\n",
       "            (LayerNorm): LayerNorm((768,), eps=1e-12, elementwise_affine=True)\n",
       "            (dropout): Dropout(p=0.1, inplace=False)\n",
       "          )\n",
       "        )\n",
       "        (intermediate): BertIntermediate(\n",
       "          (dense): Linear(in_features=768, out_features=3072, bias=True)\n",
       "        )\n",
       "        (output): BertOutput(\n",
       "          (dense): Linear(in_features=3072, out_features=768, bias=True)\n",
       "          (LayerNorm): LayerNorm((768,), eps=1e-12, elementwise_affine=True)\n",
       "          (dropout): Dropout(p=0.1, inplace=False)\n",
       "        )\n",
       "      )\n",
       "      (7): BertLayer(\n",
       "        (attention): BertAttention(\n",
       "          (self): BertSelfAttention(\n",
       "            (query): Linear(in_features=768, out_features=768, bias=True)\n",
       "            (key): Linear(in_features=768, out_features=768, bias=True)\n",
       "            (value): Linear(in_features=768, out_features=768, bias=True)\n",
       "            (dropout): Dropout(p=0.1, inplace=False)\n",
       "          )\n",
       "          (output): BertSelfOutput(\n",
       "            (dense): Linear(in_features=768, out_features=768, bias=True)\n",
       "            (LayerNorm): LayerNorm((768,), eps=1e-12, elementwise_affine=True)\n",
       "            (dropout): Dropout(p=0.1, inplace=False)\n",
       "          )\n",
       "        )\n",
       "        (intermediate): BertIntermediate(\n",
       "          (dense): Linear(in_features=768, out_features=3072, bias=True)\n",
       "        )\n",
       "        (output): BertOutput(\n",
       "          (dense): Linear(in_features=3072, out_features=768, bias=True)\n",
       "          (LayerNorm): LayerNorm((768,), eps=1e-12, elementwise_affine=True)\n",
       "          (dropout): Dropout(p=0.1, inplace=False)\n",
       "        )\n",
       "      )\n",
       "      (8): BertLayer(\n",
       "        (attention): BertAttention(\n",
       "          (self): BertSelfAttention(\n",
       "            (query): Linear(in_features=768, out_features=768, bias=True)\n",
       "            (key): Linear(in_features=768, out_features=768, bias=True)\n",
       "            (value): Linear(in_features=768, out_features=768, bias=True)\n",
       "            (dropout): Dropout(p=0.1, inplace=False)\n",
       "          )\n",
       "          (output): BertSelfOutput(\n",
       "            (dense): Linear(in_features=768, out_features=768, bias=True)\n",
       "            (LayerNorm): LayerNorm((768,), eps=1e-12, elementwise_affine=True)\n",
       "            (dropout): Dropout(p=0.1, inplace=False)\n",
       "          )\n",
       "        )\n",
       "        (intermediate): BertIntermediate(\n",
       "          (dense): Linear(in_features=768, out_features=3072, bias=True)\n",
       "        )\n",
       "        (output): BertOutput(\n",
       "          (dense): Linear(in_features=3072, out_features=768, bias=True)\n",
       "          (LayerNorm): LayerNorm((768,), eps=1e-12, elementwise_affine=True)\n",
       "          (dropout): Dropout(p=0.1, inplace=False)\n",
       "        )\n",
       "      )\n",
       "      (9): BertLayer(\n",
       "        (attention): BertAttention(\n",
       "          (self): BertSelfAttention(\n",
       "            (query): Linear(in_features=768, out_features=768, bias=True)\n",
       "            (key): Linear(in_features=768, out_features=768, bias=True)\n",
       "            (value): Linear(in_features=768, out_features=768, bias=True)\n",
       "            (dropout): Dropout(p=0.1, inplace=False)\n",
       "          )\n",
       "          (output): BertSelfOutput(\n",
       "            (dense): Linear(in_features=768, out_features=768, bias=True)\n",
       "            (LayerNorm): LayerNorm((768,), eps=1e-12, elementwise_affine=True)\n",
       "            (dropout): Dropout(p=0.1, inplace=False)\n",
       "          )\n",
       "        )\n",
       "        (intermediate): BertIntermediate(\n",
       "          (dense): Linear(in_features=768, out_features=3072, bias=True)\n",
       "        )\n",
       "        (output): BertOutput(\n",
       "          (dense): Linear(in_features=3072, out_features=768, bias=True)\n",
       "          (LayerNorm): LayerNorm((768,), eps=1e-12, elementwise_affine=True)\n",
       "          (dropout): Dropout(p=0.1, inplace=False)\n",
       "        )\n",
       "      )\n",
       "      (10): BertLayer(\n",
       "        (attention): BertAttention(\n",
       "          (self): BertSelfAttention(\n",
       "            (query): Linear(in_features=768, out_features=768, bias=True)\n",
       "            (key): Linear(in_features=768, out_features=768, bias=True)\n",
       "            (value): Linear(in_features=768, out_features=768, bias=True)\n",
       "            (dropout): Dropout(p=0.1, inplace=False)\n",
       "          )\n",
       "          (output): BertSelfOutput(\n",
       "            (dense): Linear(in_features=768, out_features=768, bias=True)\n",
       "            (LayerNorm): LayerNorm((768,), eps=1e-12, elementwise_affine=True)\n",
       "            (dropout): Dropout(p=0.1, inplace=False)\n",
       "          )\n",
       "        )\n",
       "        (intermediate): BertIntermediate(\n",
       "          (dense): Linear(in_features=768, out_features=3072, bias=True)\n",
       "        )\n",
       "        (output): BertOutput(\n",
       "          (dense): Linear(in_features=3072, out_features=768, bias=True)\n",
       "          (LayerNorm): LayerNorm((768,), eps=1e-12, elementwise_affine=True)\n",
       "          (dropout): Dropout(p=0.1, inplace=False)\n",
       "        )\n",
       "      )\n",
       "      (11): BertLayer(\n",
       "        (attention): BertAttention(\n",
       "          (self): BertSelfAttention(\n",
       "            (query): Linear(in_features=768, out_features=768, bias=True)\n",
       "            (key): Linear(in_features=768, out_features=768, bias=True)\n",
       "            (value): Linear(in_features=768, out_features=768, bias=True)\n",
       "            (dropout): Dropout(p=0.1, inplace=False)\n",
       "          )\n",
       "          (output): BertSelfOutput(\n",
       "            (dense): Linear(in_features=768, out_features=768, bias=True)\n",
       "            (LayerNorm): LayerNorm((768,), eps=1e-12, elementwise_affine=True)\n",
       "            (dropout): Dropout(p=0.1, inplace=False)\n",
       "          )\n",
       "        )\n",
       "        (intermediate): BertIntermediate(\n",
       "          (dense): Linear(in_features=768, out_features=3072, bias=True)\n",
       "        )\n",
       "        (output): BertOutput(\n",
       "          (dense): Linear(in_features=3072, out_features=768, bias=True)\n",
       "          (LayerNorm): LayerNorm((768,), eps=1e-12, elementwise_affine=True)\n",
       "          (dropout): Dropout(p=0.1, inplace=False)\n",
       "        )\n",
       "      )\n",
       "    )\n",
       "  )\n",
       "  (pooler): BertPooler(\n",
       "    (dense): Linear(in_features=768, out_features=768, bias=True)\n",
       "    (activation): Tanh()\n",
       "  )\n",
       ")"
      ]
     },
     "execution_count": 32,
     "metadata": {},
     "output_type": "execute_result"
    }
   ],
   "source": [
    "# Load pre-trained model (weights)\n",
    "model = BertModel.from_pretrained(\n",
    "    \"bert-base-uncased\",\n",
    "    output_hidden_states=True,  # Whether the model returns all hidden-states.\n",
    ")\n",
    "\n",
    "# Put the model in \"evaluation\" mode, meaning feed-forward operation.\n",
    "model.eval()\n",
    "model.to(device)"
   ]
  },
  {
   "cell_type": "code",
   "execution_count": 50,
   "id": "f60369ac",
   "metadata": {},
   "outputs": [],
   "source": [
    "embeding_list = []\n",
    "with torch.no_grad():\n",
    "    for batch in data_loader:\n",
    "        b_input_ids = batch[0].to(device)\n",
    "        b_input_mask = batch[1].to(device)\n",
    "        outputs = model(b_input_ids, b_input_mask)\n",
    "        word_embedding = outputs[0][:, 0, :].cpu().numpy()\n",
    "        embeding_list.extend(word_embedding)\n",
    "#         print(\"last_hidden_state:\", outputs[0].shape)\n",
    "#         print(\"word_embedding:\", word_embedding.shape)"
   ]
  },
  {
   "cell_type": "code",
   "execution_count": 51,
   "id": "6dd3881b",
   "metadata": {},
   "outputs": [
    {
     "data": {
      "text/plain": [
       "29341"
      ]
     },
     "execution_count": 51,
     "metadata": {},
     "output_type": "execute_result"
    }
   ],
   "source": [
    "len(embeding_list)"
   ]
  },
  {
   "cell_type": "code",
   "execution_count": 52,
   "id": "8e7a6114",
   "metadata": {},
   "outputs": [],
   "source": [
    "df = test_rm_br.copy()"
   ]
  },
  {
   "cell_type": "code",
   "execution_count": 53,
   "id": "36e21b98",
   "metadata": {},
   "outputs": [],
   "source": [
    "df[\"word_embedding\"] = embeding_list"
   ]
  },
  {
   "cell_type": "code",
   "execution_count": 57,
   "id": "ae7fe56b",
   "metadata": {},
   "outputs": [
    {
     "data": {
      "text/html": [
       "<div>\n",
       "<style scoped>\n",
       "    .dataframe tbody tr th:only-of-type {\n",
       "        vertical-align: middle;\n",
       "    }\n",
       "\n",
       "    .dataframe tbody tr th {\n",
       "        vertical-align: top;\n",
       "    }\n",
       "\n",
       "    .dataframe thead th {\n",
       "        text-align: right;\n",
       "    }\n",
       "</style>\n",
       "<table border=\"1\" class=\"dataframe\">\n",
       "  <thead>\n",
       "    <tr style=\"text-align: right;\">\n",
       "      <th></th>\n",
       "      <th>ID</th>\n",
       "      <th>review</th>\n",
       "      <th>word_embedding</th>\n",
       "    </tr>\n",
       "  </thead>\n",
       "  <tbody>\n",
       "    <tr>\n",
       "      <th>0</th>\n",
       "      <td>22622</td>\n",
       "      <td>Robert Lansing plays a scientist experimenting...</td>\n",
       "      <td>[0.19319223, -0.23533346, -0.11448899, -0.1030...</td>\n",
       "    </tr>\n",
       "    <tr>\n",
       "      <th>1</th>\n",
       "      <td>10162</td>\n",
       "      <td>Well I've enjoy this movie, even though someti...</td>\n",
       "      <td>[-0.009197136, -0.19855839, 0.1142654, -0.1513...</td>\n",
       "    </tr>\n",
       "    <tr>\n",
       "      <th>2</th>\n",
       "      <td>17468</td>\n",
       "      <td>First things first - though I believe Joel Sch...</td>\n",
       "      <td>[-0.37200502, -0.4342512, -0.18357867, -0.0142...</td>\n",
       "    </tr>\n",
       "    <tr>\n",
       "      <th>3</th>\n",
       "      <td>42579</td>\n",
       "      <td>I watched this movie on the grounds that Amber...</td>\n",
       "      <td>[-0.009973719, -0.022616692, 0.101972125, -0.2...</td>\n",
       "    </tr>\n",
       "    <tr>\n",
       "      <th>4</th>\n",
       "      <td>701</td>\n",
       "      <td>A certain sexiness underlines even the dullest...</td>\n",
       "      <td>[0.0035906716, 0.14114958, -0.49467295, 0.2219...</td>\n",
       "    </tr>\n",
       "    <tr>\n",
       "      <th>...</th>\n",
       "      <td>...</td>\n",
       "      <td>...</td>\n",
       "      <td>...</td>\n",
       "    </tr>\n",
       "    <tr>\n",
       "      <th>29336</th>\n",
       "      <td>30370</td>\n",
       "      <td>It is difficult to rate a writer/director's fi...</td>\n",
       "      <td>[0.098918095, -0.46373388, 0.19135708, -0.0207...</td>\n",
       "    </tr>\n",
       "    <tr>\n",
       "      <th>29337</th>\n",
       "      <td>18654</td>\n",
       "      <td>After watching this movie once, it quickly bec...</td>\n",
       "      <td>[0.21501364, -0.23446126, 0.2605786, -0.406986...</td>\n",
       "    </tr>\n",
       "    <tr>\n",
       "      <th>29338</th>\n",
       "      <td>47985</td>\n",
       "      <td>Even though i sat and watched the whole thing,...</td>\n",
       "      <td>[-0.0183749, -0.4181855, 0.4547821, -0.3024411...</td>\n",
       "    </tr>\n",
       "    <tr>\n",
       "      <th>29339</th>\n",
       "      <td>9866</td>\n",
       "      <td>Warning Spoilers following. Superb recreation ...</td>\n",
       "      <td>[-0.44533634, -0.2653322, -0.21847115, -0.1641...</td>\n",
       "    </tr>\n",
       "    <tr>\n",
       "      <th>29340</th>\n",
       "      <td>35559</td>\n",
       "      <td>My, my, my: Peter Cushing and Donald Pleasance...</td>\n",
       "      <td>[-0.6589202, -0.015514414, -0.3831433, 0.07827...</td>\n",
       "    </tr>\n",
       "  </tbody>\n",
       "</table>\n",
       "<p>29341 rows × 3 columns</p>\n",
       "</div>"
      ],
      "text/plain": [
       "          ID                                             review  \\\n",
       "0      22622  Robert Lansing plays a scientist experimenting...   \n",
       "1      10162  Well I've enjoy this movie, even though someti...   \n",
       "2      17468  First things first - though I believe Joel Sch...   \n",
       "3      42579  I watched this movie on the grounds that Amber...   \n",
       "4        701  A certain sexiness underlines even the dullest...   \n",
       "...      ...                                                ...   \n",
       "29336  30370  It is difficult to rate a writer/director's fi...   \n",
       "29337  18654  After watching this movie once, it quickly bec...   \n",
       "29338  47985  Even though i sat and watched the whole thing,...   \n",
       "29339   9866  Warning Spoilers following. Superb recreation ...   \n",
       "29340  35559  My, my, my: Peter Cushing and Donald Pleasance...   \n",
       "\n",
       "                                          word_embedding  \n",
       "0      [0.19319223, -0.23533346, -0.11448899, -0.1030...  \n",
       "1      [-0.009197136, -0.19855839, 0.1142654, -0.1513...  \n",
       "2      [-0.37200502, -0.4342512, -0.18357867, -0.0142...  \n",
       "3      [-0.009973719, -0.022616692, 0.101972125, -0.2...  \n",
       "4      [0.0035906716, 0.14114958, -0.49467295, 0.2219...  \n",
       "...                                                  ...  \n",
       "29336  [0.098918095, -0.46373388, 0.19135708, -0.0207...  \n",
       "29337  [0.21501364, -0.23446126, 0.2605786, -0.406986...  \n",
       "29338  [-0.0183749, -0.4181855, 0.4547821, -0.3024411...  \n",
       "29339  [-0.44533634, -0.2653322, -0.21847115, -0.1641...  \n",
       "29340  [-0.6589202, -0.015514414, -0.3831433, 0.07827...  \n",
       "\n",
       "[29341 rows x 3 columns]"
      ]
     },
     "execution_count": 57,
     "metadata": {},
     "output_type": "execute_result"
    }
   ],
   "source": [
    "df"
   ]
  },
  {
   "cell_type": "code",
   "execution_count": 76,
   "id": "9d82254d",
   "metadata": {},
   "outputs": [],
   "source": [
    "correlation_matrix = np.corrcoef(np.array(embeding_list))"
   ]
  },
  {
   "cell_type": "code",
   "execution_count": 77,
   "id": "d7d241c7",
   "metadata": {},
   "outputs": [
    {
     "data": {
      "text/plain": [
       "(29341, 29341)"
      ]
     },
     "execution_count": 77,
     "metadata": {},
     "output_type": "execute_result"
    }
   ],
   "source": [
    "correlation_matrix.shape"
   ]
  },
  {
   "cell_type": "code",
   "execution_count": 94,
   "id": "a05f6c0d",
   "metadata": {},
   "outputs": [
    {
     "data": {
      "image/png": "[encoded data removed]",
      "text/plain": [
       "<Figure size 1368x1080 with 2 Axes>"
      ]
     },
     "metadata": {
      "needs_background": "light"
     },
     "output_type": "display_data"
    }
   ],
   "source": [
    "f = plt.figure(figsize=(19, 15))\n",
    "plt.matshow(correlation_matrix[:100, :100], fignum=f.number)\n",
    "cb = plt.colorbar()\n",
    "cb.ax.tick_params(labelsize=14)\n",
    "plt.show()"
   ]
  },
  {
   "cell_type": "code",
   "execution_count": 96,
   "id": "bc3b3587",
   "metadata": {},
   "outputs": [
    {
     "data": {
      "text/plain": [
       "(29341, 29341)"
      ]
     },
     "execution_count": 96,
     "metadata": {},
     "output_type": "execute_result"
    }
   ],
   "source": [
    "correlation_matrix"
   ]
  },
  {
   "cell_type": "code",
   "execution_count": 98,
   "id": "44c7100a",
   "metadata": {},
   "outputs": [],
   "source": [
    "cm_flatten = correlation_matrix.reshape(\n",
    "    -1,\n",
    ")"
   ]
  },
  {
   "cell_type": "code",
   "execution_count": 99,
   "id": "b921bbc9",
   "metadata": {},
   "outputs": [
    {
     "data": {
      "text/plain": [
       "(860894281,)"
      ]
     },
     "execution_count": 99,
     "metadata": {},
     "output_type": "execute_result"
    }
   ],
   "source": [
    "cm_flatten.shape"
   ]
  },
  {
   "cell_type": "code",
   "execution_count": 102,
   "id": "a901b3a5",
   "metadata": {},
   "outputs": [],
   "source": [
    "cm_qni_val = np.unique(cm_flatten)"
   ]
  },
  {
   "cell_type": "code",
   "execution_count": 106,
   "id": "eb0197e9",
   "metadata": {},
   "outputs": [
    {
     "data": {
      "text/plain": [
       "array([0.04700922, 0.04700922, 0.05024383, 0.09957466, 0.09957466])"
      ]
     },
     "execution_count": 106,
     "metadata": {},
     "output_type": "execute_result"
    }
   ],
   "source": [
    "cm_qni_val[:5]"
   ]
  },
  {
   "cell_type": "code",
   "execution_count": 107,
   "id": "61e1b9c7",
   "metadata": {},
   "outputs": [],
   "source": [
    "pred = cm_qni_val > 0.5"
   ]
  },
  {
   "cell_type": "code",
   "execution_count": null,
   "id": "3a208ac3",
   "metadata": {},
   "outputs": [],
   "source": []
  },
  {
   "cell_type": "markdown",
   "id": "ac903279",
   "metadata": {
    "heading_collapsed": true
   },
   "source": [
    "## Train / test split"
   ]
  },
  {
   "cell_type": "code",
   "execution_count": 20,
   "id": "3485221f",
   "metadata": {
    "hidden": true
   },
   "outputs": [],
   "source": [
    "X = train_rm_br[\"review\"]\n",
    "y = train_rm_br[\"sentiment\"]"
   ]
  },
  {
   "cell_type": "code",
   "execution_count": 21,
   "id": "685fd7b0",
   "metadata": {
    "hidden": true
   },
   "outputs": [],
   "source": [
    "X_train, X_test, y_train, y_test = train_test_split(X, y, test_size=0.2, random_state=0)"
   ]
  },
  {
   "cell_type": "markdown",
   "id": "717b1e90",
   "metadata": {
    "hidden": true
   },
   "source": [
    "### check data balance"
   ]
  },
  {
   "cell_type": "code",
   "execution_count": 22,
   "id": "24ffa88e",
   "metadata": {
    "hidden": true
   },
   "outputs": [
    {
     "name": "stdout",
     "output_type": "stream",
     "text": [
      "Training set: 23472\n",
      "Test set: 5869\n",
      "\n",
      "Training POS data: 11960\n",
      "Training NEG data: 11512\n",
      "--------------------\n",
      "Test POS data: 2994\n",
      "Test NEG data: 2875\n",
      "--------------------\n",
      "Total: 29341\n"
     ]
    }
   ],
   "source": [
    "print(\"Training set:\", len(X_train))\n",
    "print(\"Test set:\", len(X_test))\n",
    "print()\n",
    "print(\"Training POS data:\", sum(y_train == 1))\n",
    "print(\"Training NEG data:\", sum(y_train == 0))\n",
    "print(\"-\" * 20)\n",
    "print(\"Test POS data:\", sum(y_test == 1))\n",
    "print(\"Test NEG data:\", sum(y_test == 0))\n",
    "print(\"-\" * 20)\n",
    "print(\n",
    "    \"Total:\",\n",
    "    sum(y_train == 1) + sum(y_train == 0) + sum(y_test == 1) + sum(y_test == 0),\n",
    ")"
   ]
  },
  {
   "cell_type": "code",
   "execution_count": 23,
   "id": "0a1e58b4",
   "metadata": {
    "hidden": true
   },
   "outputs": [],
   "source": [
    "path = \"./data/train_test_split\"\n",
    "if not os.path.isdir(path):\n",
    "    os.mkdir(path)\n",
    "X_train.to_pickle(os.path.join(path, \"./X_tr.pkl\"))\n",
    "X_test.to_pickle(os.path.join(path, \"./X_te.pkl\"))\n",
    "y_train.to_pickle(os.path.join(path, \"./y_tr.pkl\"))\n",
    "y_test.to_pickle(os.path.join(path, \"./y_te.pkl\"))"
   ]
  },
  {
   "cell_type": "markdown",
   "id": "fb5591ba",
   "metadata": {
    "heading_collapsed": true
   },
   "source": [
    "## Train / Validation split (Holdout)\n",
    "\n",
    "![holdout](./pics/holdout.png)"
   ]
  },
  {
   "cell_type": "markdown",
   "id": "c0a21295",
   "metadata": {
    "hidden": true
   },
   "source": [
    "**Holdout:** Level 1 and Level 2 data split, 10% holdout."
   ]
  },
  {
   "cell_type": "code",
   "execution_count": 24,
   "id": "a55b25f5",
   "metadata": {
    "hidden": true
   },
   "outputs": [],
   "source": [
    "X_l1, X_l2, y_l1, y_l2 = train_test_split(\n",
    "    X_train, y_train, test_size=0.1, random_state=0\n",
    ")"
   ]
  },
  {
   "cell_type": "markdown",
   "id": "71dc15ba",
   "metadata": {
    "hidden": true
   },
   "source": [
    "### check data balance"
   ]
  },
  {
   "cell_type": "code",
   "execution_count": 25,
   "id": "9c95970d",
   "metadata": {
    "hidden": true
   },
   "outputs": [
    {
     "name": "stdout",
     "output_type": "stream",
     "text": [
      "Level 1: 21124\n",
      "Level 2: 2348\n",
      "\n",
      "Training POS data: 10725\n",
      "Training NEG data: 10399\n",
      "--------------------\n",
      "Test POS data: 1235\n",
      "Test NEG data: 1113\n",
      "--------------------\n",
      "Total: 23472\n"
     ]
    }
   ],
   "source": [
    "print(\"Level 1:\", len(y_l1))\n",
    "print(\"Level 2:\", len(y_l2))\n",
    "print()\n",
    "print(\"Training POS data:\", sum(y_l1 == 1))\n",
    "print(\"Training NEG data:\", sum(y_l1 == 0))\n",
    "print(\"-\" * 20)\n",
    "print(\"Test POS data:\", sum(y_l2 == 1))\n",
    "print(\"Test NEG data:\", sum(y_l2 == 0))\n",
    "print(\"-\" * 20)\n",
    "print(\n",
    "    \"Total:\",\n",
    "    sum(y_l1 == 1) + sum(y_l1 == 0) + sum(y_l2 == 1) + sum(y_l2 == 0),\n",
    ")"
   ]
  },
  {
   "cell_type": "markdown",
   "id": "8f33e02b",
   "metadata": {
    "hidden": true
   },
   "source": [
    "**Holdout:** Level 1 data split, 10% holdout."
   ]
  },
  {
   "cell_type": "code",
   "execution_count": 26,
   "id": "1aa71243",
   "metadata": {
    "hidden": true
   },
   "outputs": [],
   "source": [
    "X_tr_l1, X_va_l1, y_tr_l1, y_va_l1 = train_test_split(\n",
    "    X_l1, y_l1, test_size=0.1, random_state=0\n",
    ")"
   ]
  },
  {
   "cell_type": "code",
   "execution_count": 27,
   "id": "01965c64",
   "metadata": {
    "hidden": true
   },
   "outputs": [
    {
     "name": "stdout",
     "output_type": "stream",
     "text": [
      "Level 1 Train: 19011\n",
      "Level 1 valid: 2113\n",
      "\n",
      "Training POS data: 9625\n",
      "Training NEG data: 9386\n",
      "--------------------\n",
      "Test POS data: 1100\n",
      "Test NEG data: 1013\n",
      "--------------------\n",
      "Total: 21124\n"
     ]
    }
   ],
   "source": [
    "print(\"Level 1 Train:\", len(y_tr_l1))\n",
    "print(\"Level 1 valid:\", len(y_va_l1))\n",
    "print()\n",
    "print(\"Training POS data:\", sum(y_tr_l1 == 1))\n",
    "print(\"Training NEG data:\", sum(y_tr_l1 == 0))\n",
    "print(\"-\" * 20)\n",
    "print(\"Test POS data:\", sum(y_va_l1 == 1))\n",
    "print(\"Test NEG data:\", sum(y_va_l1 == 0))\n",
    "print(\"-\" * 20)\n",
    "print(\n",
    "    \"Total:\",\n",
    "    sum(y_tr_l1 == 1) + sum(y_tr_l1 == 0) + sum(y_va_l1 == 1) + sum(y_va_l1 == 0),\n",
    ")"
   ]
  },
  {
   "cell_type": "code",
   "execution_count": 33,
   "id": "635fa969",
   "metadata": {
    "hidden": true
   },
   "outputs": [],
   "source": [
    "path = \"./data/train_valid_split/\"\n",
    "if not os.path.isdir(path):\n",
    "    os.mkdir(path)\n",
    "\n",
    "path_l1 = \"./data/train_valid_split/level_1\"\n",
    "path_l2 = \"./data/train_valid_split/level_2\"\n",
    "\n",
    "if not os.path.isdir(path_l1):\n",
    "    os.mkdir(path_l1)\n",
    "if not os.path.isdir(path_l2):\n",
    "    os.mkdir(path_l2)\n",
    "\n",
    "X_tr_l1.to_pickle(os.path.join(path_l1, \"X_tr.pkl\"))\n",
    "X_va_l1.to_pickle(os.path.join(path_l1, \"X_va.pkl\"))\n",
    "y_tr_l1.to_pickle(os.path.join(path_l1, \"y_tr.pkl\"))\n",
    "y_va_l1.to_pickle(os.path.join(path_l1, \"y_va.pkl\"))\n",
    "\n",
    "X_l2.to_pickle(os.path.join(path_l2, \"X_l2.pkl\"))\n",
    "y_l2.to_pickle(os.path.join(path_l2, \"y_l2.pkl\"))"
   ]
  },
  {
   "cell_type": "markdown",
   "id": "a83662c8",
   "metadata": {
    "heading_collapsed": true
   },
   "source": [
    "## 5-Fold CV\n",
    "\n",
    "![5-fold crossvalidation](./pics/cv.png)"
   ]
  },
  {
   "cell_type": "code",
   "execution_count": 34,
   "id": "ddd9f79f",
   "metadata": {
    "hidden": true
   },
   "outputs": [
    {
     "name": "stdout",
     "output_type": "stream",
     "text": [
      "23472\n"
     ]
    }
   ],
   "source": [
    "print(len(X_train))"
   ]
  },
  {
   "cell_type": "code",
   "execution_count": 35,
   "id": "fdc58529",
   "metadata": {
    "hidden": true
   },
   "outputs": [
    {
     "name": "stdout",
     "output_type": "stream",
     "text": [
      "StratifiedKFold(n_splits=5, random_state=0, shuffle=True)\n"
     ]
    }
   ],
   "source": [
    "skf = StratifiedKFold(n_splits=5, shuffle=True, random_state=0)\n",
    "print(skf)"
   ]
  },
  {
   "cell_type": "code",
   "execution_count": 36,
   "id": "41459ff5",
   "metadata": {
    "hidden": true
   },
   "outputs": [
    {
     "name": "stdout",
     "output_type": "stream",
     "text": [
      "***[Fold 1]***\n",
      "TRAIN: 18777 TEST: 4695\n",
      "\n",
      "Training POS data: 9568\n",
      "Training NEG data: 9209\n",
      "\n",
      "Test POS data: 2392\n",
      "Test NEG data: 2303\n",
      "\n",
      "Total: 23472\n",
      "====================\n",
      "***[Fold 2]***\n",
      "TRAIN: 18777 TEST: 4695\n",
      "\n",
      "Training POS data: 9568\n",
      "Training NEG data: 9209\n",
      "\n",
      "Test POS data: 2392\n",
      "Test NEG data: 2303\n",
      "\n",
      "Total: 23472\n",
      "====================\n",
      "***[Fold 3]***\n",
      "TRAIN: 18778 TEST: 4694\n",
      "\n",
      "Training POS data: 9568\n",
      "Training NEG data: 9210\n",
      "\n",
      "Test POS data: 2392\n",
      "Test NEG data: 2302\n",
      "\n",
      "Total: 23472\n",
      "====================\n",
      "***[Fold 4]***\n",
      "TRAIN: 18778 TEST: 4694\n",
      "\n",
      "Training POS data: 9568\n",
      "Training NEG data: 9210\n",
      "\n",
      "Test POS data: 2392\n",
      "Test NEG data: 2302\n",
      "\n",
      "Total: 23472\n",
      "====================\n",
      "***[Fold 5]***\n",
      "TRAIN: 18778 TEST: 4694\n",
      "\n",
      "Training POS data: 9568\n",
      "Training NEG data: 9210\n",
      "\n",
      "Test POS data: 2392\n",
      "Test NEG data: 2302\n",
      "\n",
      "Total: 23472\n",
      "====================\n"
     ]
    }
   ],
   "source": [
    "def cv(X, y):\n",
    "    X_train_list = []\n",
    "    X_valid_list = []\n",
    "    y_train_list = []\n",
    "    y_valid_list = []\n",
    "    count = 1\n",
    "\n",
    "    for train_index, test_index in skf.split(X, y):\n",
    "        X_train, X_test = X[train_index], X[test_index]\n",
    "        y_train, y_test = y[train_index], y[test_index]\n",
    "        print(f\"***[Fold {count}]***\")\n",
    "        print(\"TRAIN:\", len(train_index), \"TEST:\", len(test_index))\n",
    "        print()\n",
    "        print(\"Training POS data:\", sum(y_train == 1))\n",
    "        print(\"Training NEG data:\", sum(y_train == 0))\n",
    "        print()\n",
    "        print(\"Test POS data:\", sum(y_test == 1))\n",
    "        print(\"Test NEG data:\", sum(y_test == 0))\n",
    "        print()\n",
    "        print(\n",
    "            \"Total:\",\n",
    "            sum(y_train == 1) + sum(y_train == 0) + sum(y_test == 1) + sum(y_test == 0),\n",
    "        )\n",
    "        X_train_list.append(X_train)\n",
    "        X_valid_list.append(X_test)\n",
    "        y_train_list.append(y_train)\n",
    "        y_valid_list.append(y_test)\n",
    "        print(\"=\" * 20)\n",
    "        count += 1\n",
    "    return X_train_list, X_valid_list, y_train_list, y_valid_list\n",
    "\n",
    "\n",
    "X_train_list, X_valid_list, y_train_list, y_valid_list = cv(\n",
    "    X_train.values, y_train.values\n",
    ")"
   ]
  },
  {
   "cell_type": "code",
   "execution_count": 37,
   "id": "2736be10",
   "metadata": {
    "hidden": true
   },
   "outputs": [],
   "source": [
    "path = \"./data/5_fold\"\n",
    "if not os.path.isdir(path):\n",
    "    os.mkdir(path)\n",
    "\n",
    "with open(os.path.join(path, \"X_train_list.pkl\"), \"wb\") as f:\n",
    "    pickle.dump(X_train_list, f)\n",
    "\n",
    "with open(os.path.join(path, \"X_valid_list.pkl\"), \"wb\") as f:\n",
    "    pickle.dump(X_valid_list, f)\n",
    "\n",
    "with open(os.path.join(path, \"y_train_list.pkl\"), \"wb\") as f:\n",
    "    pickle.dump(y_train_list, f)\n",
    "\n",
    "with open(os.path.join(path, \"y_valid_list.pkl\"), \"wb\") as f:\n",
    "    pickle.dump(y_valid_list, f)"
   ]
  },
  {
   "cell_type": "code",
   "execution_count": null,
   "id": "390dbf26",
   "metadata": {
    "hidden": true
   },
   "outputs": [],
   "source": []
  }
 ],
 "metadata": {
  "interpreter": {
   "hash": "aad9fa7f6ed343a042bd460ce7fa15eb6fc8d0afdca2e8e62a1852ae0075cd4e"
  },
  "kernelspec": {
   "display_name": "Python 3.8.0 64-bit ('py38': virtualenvwrapper)",
   "language": "python",
   "name": "python380jvsc74a57bd0aad9fa7f6ed343a042bd460ce7fa15eb6fc8d0afdca2e8e62a1852ae0075cd4e"
  },
  "language_info": {
   "codemirror_mode": {
    "name": "ipython",
    "version": 3
   },
   "file_extension": ".py",
   "mimetype": "text/x-python",
   "name": "python",
   "nbconvert_exporter": "python",
   "pygments_lexer": "ipython3",
   "version": "3.8.0"
  },
  "toc": {
   "base_numbering": 1,
   "nav_menu": {},
   "number_sections": true,
   "sideBar": true,
   "skip_h1_title": true,
   "title_cell": "Table of Contents",
   "title_sidebar": "Contents",
   "toc_cell": false,
   "toc_position": {
    "height": "calc(100% - 180px)",
    "left": "10px",
    "top": "150px",
    "width": "304.475px"
   },
   "toc_section_display": true,
   "toc_window_display": false
  }
 },
 "nbformat": 4,
 "nbformat_minor": 5
}
