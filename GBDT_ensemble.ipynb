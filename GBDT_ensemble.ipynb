{
 "cells": [
  {
   "cell_type": "markdown",
   "metadata": {},
   "source": [
    "# GBDT_ensemble\n",
    "\n",
    "**reference:**\n",
    "\n",
    "-[CatBoost Tutorial](https://github.com/catboost/catboost/blob/v0.25.1/catboost/tutorials/python_tutorial.ipynb)"
   ]
  },
  {
   "cell_type": "markdown",
   "metadata": {},
   "source": [
    "## softmax feature"
   ]
  },
  {
   "cell_type": "code",
   "execution_count": 1,
   "metadata": {},
   "outputs": [],
   "source": [
    "import pandas as pd\n",
    "import pickle\n",
    "import os"
   ]
  },
  {
   "cell_type": "code",
   "execution_count": 2,
   "metadata": {},
   "outputs": [],
   "source": [
    "df1 = pd.read_csv(\n",
    "    os.path.join(\"result\", \"bert-base-cased_bs_8_epo7\", \"l2\", \"level2_softmax.csv\")\n",
    ")\n",
    "df2 = pd.read_csv(\n",
    "    os.path.join(\"result\", \"roberta-base_bs_8_epo10\", \"l2\", \"level2_softmax.csv\")\n",
    ")\n",
    "df3 = pd.read_csv(\n",
    "    os.path.join(\"result\", \"xlnet-base-cased_bs_8_epo10\", \"l2\", \"level2_softmax.csv\")\n",
    ")\n",
    "df4 = pd.read_csv(\n",
    "    os.path.join(\n",
    "        \"result\",\n",
    "        \"google_electra-base-discriminator_bs_8_epo10\",\n",
    "        \"l2\",\n",
    "        \"level2_softmax.csv\",\n",
    "    )\n",
    ")\n",
    "df5 = pd.read_csv(\n",
    "    os.path.join(\n",
    "        \"result\", \"microsoft_deberta-base_bs_4_epo9\", \"l2\", \"level2_softmax.csv\"\n",
    "    )\n",
    ")"
   ]
  },
  {
   "cell_type": "code",
   "execution_count": 3,
   "metadata": {},
   "outputs": [
    {
     "data": {
      "text/plain": [
       "0       0.025889\n",
       "1       0.002131\n",
       "2       0.004950\n",
       "3       0.055823\n",
       "4       0.002406\n",
       "          ...   \n",
       "2343    0.992563\n",
       "2344    0.002670\n",
       "2345    0.985187\n",
       "2346    0.003030\n",
       "2347    0.069894\n",
       "Name: sentiment, Length: 2348, dtype: float64"
      ]
     },
     "execution_count": 3,
     "metadata": {},
     "output_type": "execute_result"
    }
   ],
   "source": [
    "df1[\"sentiment\"]"
   ]
  },
  {
   "cell_type": "code",
   "execution_count": 4,
   "metadata": {},
   "outputs": [],
   "source": [
    "with open(os.path.join(\"data\", \"train_valid_split\", \"level_2\", \"y_l2.pkl\"), \"rb\") as f:\n",
    "    y = pickle.load(f)"
   ]
  },
  {
   "cell_type": "code",
   "execution_count": 5,
   "metadata": {},
   "outputs": [
    {
     "data": {
      "text/html": [
       "<div>\n",
       "<style scoped>\n",
       "    .dataframe tbody tr th:only-of-type {\n",
       "        vertical-align: middle;\n",
       "    }\n",
       "\n",
       "    .dataframe tbody tr th {\n",
       "        vertical-align: top;\n",
       "    }\n",
       "\n",
       "    .dataframe thead th {\n",
       "        text-align: right;\n",
       "    }\n",
       "</style>\n",
       "<table border=\"1\" class=\"dataframe\">\n",
       "  <thead>\n",
       "    <tr style=\"text-align: right;\">\n",
       "      <th></th>\n",
       "      <th>model_1</th>\n",
       "      <th>model_2</th>\n",
       "      <th>model_3</th>\n",
       "      <th>model_4</th>\n",
       "      <th>model_5</th>\n",
       "    </tr>\n",
       "  </thead>\n",
       "  <tbody>\n",
       "    <tr>\n",
       "      <th>0</th>\n",
       "      <td>0.025889</td>\n",
       "      <td>0.003011</td>\n",
       "      <td>0.004297</td>\n",
       "      <td>0.009604</td>\n",
       "      <td>0.005394</td>\n",
       "    </tr>\n",
       "    <tr>\n",
       "      <th>1</th>\n",
       "      <td>0.002131</td>\n",
       "      <td>0.002943</td>\n",
       "      <td>0.000889</td>\n",
       "      <td>0.002825</td>\n",
       "      <td>0.000381</td>\n",
       "    </tr>\n",
       "    <tr>\n",
       "      <th>2</th>\n",
       "      <td>0.004950</td>\n",
       "      <td>0.002949</td>\n",
       "      <td>0.000739</td>\n",
       "      <td>0.004916</td>\n",
       "      <td>0.001335</td>\n",
       "    </tr>\n",
       "    <tr>\n",
       "      <th>3</th>\n",
       "      <td>0.055823</td>\n",
       "      <td>0.002976</td>\n",
       "      <td>0.009089</td>\n",
       "      <td>0.003739</td>\n",
       "      <td>0.001982</td>\n",
       "    </tr>\n",
       "    <tr>\n",
       "      <th>4</th>\n",
       "      <td>0.002406</td>\n",
       "      <td>0.002948</td>\n",
       "      <td>0.000767</td>\n",
       "      <td>0.002968</td>\n",
       "      <td>0.000456</td>\n",
       "    </tr>\n",
       "    <tr>\n",
       "      <th>...</th>\n",
       "      <td>...</td>\n",
       "      <td>...</td>\n",
       "      <td>...</td>\n",
       "      <td>...</td>\n",
       "      <td>...</td>\n",
       "    </tr>\n",
       "    <tr>\n",
       "      <th>2343</th>\n",
       "      <td>0.992563</td>\n",
       "      <td>0.996553</td>\n",
       "      <td>0.997342</td>\n",
       "      <td>0.988435</td>\n",
       "      <td>0.998907</td>\n",
       "    </tr>\n",
       "    <tr>\n",
       "      <th>2344</th>\n",
       "      <td>0.002670</td>\n",
       "      <td>0.002945</td>\n",
       "      <td>0.000779</td>\n",
       "      <td>0.002885</td>\n",
       "      <td>0.000744</td>\n",
       "    </tr>\n",
       "    <tr>\n",
       "      <th>2345</th>\n",
       "      <td>0.985187</td>\n",
       "      <td>0.996455</td>\n",
       "      <td>0.995898</td>\n",
       "      <td>0.985997</td>\n",
       "      <td>0.997631</td>\n",
       "    </tr>\n",
       "    <tr>\n",
       "      <th>2346</th>\n",
       "      <td>0.003030</td>\n",
       "      <td>0.002957</td>\n",
       "      <td>0.000789</td>\n",
       "      <td>0.002995</td>\n",
       "      <td>0.004879</td>\n",
       "    </tr>\n",
       "    <tr>\n",
       "      <th>2347</th>\n",
       "      <td>0.069894</td>\n",
       "      <td>0.003009</td>\n",
       "      <td>0.002027</td>\n",
       "      <td>0.165495</td>\n",
       "      <td>0.009625</td>\n",
       "    </tr>\n",
       "  </tbody>\n",
       "</table>\n",
       "<p>2348 rows × 5 columns</p>\n",
       "</div>"
      ],
      "text/plain": [
       "       model_1   model_2   model_3   model_4   model_5\n",
       "0     0.025889  0.003011  0.004297  0.009604  0.005394\n",
       "1     0.002131  0.002943  0.000889  0.002825  0.000381\n",
       "2     0.004950  0.002949  0.000739  0.004916  0.001335\n",
       "3     0.055823  0.002976  0.009089  0.003739  0.001982\n",
       "4     0.002406  0.002948  0.000767  0.002968  0.000456\n",
       "...        ...       ...       ...       ...       ...\n",
       "2343  0.992563  0.996553  0.997342  0.988435  0.998907\n",
       "2344  0.002670  0.002945  0.000779  0.002885  0.000744\n",
       "2345  0.985187  0.996455  0.995898  0.985997  0.997631\n",
       "2346  0.003030  0.002957  0.000789  0.002995  0.004879\n",
       "2347  0.069894  0.003009  0.002027  0.165495  0.009625\n",
       "\n",
       "[2348 rows x 5 columns]"
      ]
     },
     "execution_count": 5,
     "metadata": {},
     "output_type": "execute_result"
    }
   ],
   "source": [
    "X = pd.DataFrame(\n",
    "    {\n",
    "        \"model_1\": df1[\"sentiment\"],\n",
    "        \"model_2\": df2[\"sentiment\"],\n",
    "        \"model_3\": df3[\"sentiment\"],\n",
    "        \"model_4\": df4[\"sentiment\"],\n",
    "        \"model_5\": df5[\"sentiment\"],\n",
    "    }\n",
    ")\n",
    "X"
   ]
  },
  {
   "cell_type": "code",
   "execution_count": 6,
   "metadata": {},
   "outputs": [
    {
     "data": {
      "text/plain": [
       "array([0, 0, 0, ..., 1, 0, 0], dtype=int64)"
      ]
     },
     "execution_count": 7,
     "metadata": {},
     "output_type": "execute_result"
    }
   ],
   "source": [
    "y"
   ]
  },
  {
   "cell_type": "markdown",
   "metadata": {},
   "source": [
    "### Data Splitting"
   ]
  },
  {
   "cell_type": "code",
   "execution_count": 7,
   "metadata": {},
   "outputs": [],
   "source": [
    "from sklearn.model_selection import train_test_split\n",
    "\n",
    "X_tr, X_va, y_tr, y_va = train_test_split(X, y, train_size=0.8, random_state=0)"
   ]
  },
  {
   "cell_type": "code",
   "execution_count": 8,
   "metadata": {},
   "outputs": [],
   "source": [
    "from catboost import CatBoostClassifier, Pool, cv\n",
    "from sklearn.metrics import accuracy_score"
   ]
  },
  {
   "cell_type": "code",
   "execution_count": 9,
   "metadata": {},
   "outputs": [],
   "source": [
    "model = CatBoostClassifier(\n",
    "    custom_loss=[\"Accuracy\"],\n",
    "    random_seed=0,\n",
    "    logging_level=\"Silent\",\n",
    ")"
   ]
  },
  {
   "cell_type": "code",
   "execution_count": 11,
   "metadata": {
    "scrolled": false
   },
   "outputs": [
    {
     "data": {
      "application/vnd.jupyter.widget-view+json": {
       "model_id": "38e7355e068b4043ab40f91d9007e06d",
       "version_major": 2,
       "version_minor": 0
      },
      "text/plain": [
       "MetricVisualizer(layout=Layout(align_self='stretch', height='500px'))"
      ]
     },
     "metadata": {},
     "output_type": "display_data"
    },
    {
     "data": {
      "text/plain": [
       "<catboost.core.CatBoostClassifier at 0x1e1f21762e0>"
      ]
     },
     "execution_count": 11,
     "metadata": {},
     "output_type": "execute_result"
    }
   ],
   "source": [
    "model.fit(\n",
    "    X_tr,\n",
    "    y_tr,\n",
    "    eval_set=(X_va, y_va),\n",
    "    # logging_level='Verbose',  # you can uncomment this for text output\n",
    "    plot=True,\n",
    ")"
   ]
  },
  {
   "cell_type": "code",
   "execution_count": 12,
   "metadata": {},
   "outputs": [
    {
     "data": {
      "application/vnd.jupyter.widget-view+json": {
       "model_id": "469c039a645549f6a456763058cdcb73",
       "version_major": 2,
       "version_minor": 0
      },
      "text/plain": [
       "MetricVisualizer(layout=Layout(align_self='stretch', height='500px'))"
      ]
     },
     "metadata": {},
     "output_type": "display_data"
    }
   ],
   "source": [
    "cv_params = model.get_params()\n",
    "cv_params.update({\"loss_function\": \"Logloss\"})\n",
    "cv_data = cv(Pool(X, y), cv_params, plot=True)"
   ]
  },
  {
   "cell_type": "markdown",
   "metadata": {},
   "source": [
    "## Hard-label feature"
   ]
  },
  {
   "cell_type": "code",
   "execution_count": 13,
   "metadata": {},
   "outputs": [],
   "source": [
    "import pandas as pd\n",
    "import pickle\n",
    "import os"
   ]
  },
  {
   "cell_type": "code",
   "execution_count": 14,
   "metadata": {},
   "outputs": [],
   "source": [
    "df1 = pd.read_csv(\n",
    "    os.path.join(\"result\", \"bert-base-cased_bs_8_epo7\", \"l2\", \"level2.csv\")\n",
    ")\n",
    "df2 = pd.read_csv(os.path.join(\"result\", \"roberta-base_bs_8_epo10\", \"l2\", \"level2.csv\"))\n",
    "df3 = pd.read_csv(\n",
    "    os.path.join(\"result\", \"xlnet-base-cased_bs_8_epo10\", \"l2\", \"level2.csv\")\n",
    ")\n",
    "df4 = pd.read_csv(\n",
    "    os.path.join(\n",
    "        \"result\",\n",
    "        \"google_electra-base-discriminator_bs_8_epo10\",\n",
    "        \"l2\",\n",
    "        \"level2.csv\",\n",
    "    )\n",
    ")\n",
    "df5 = pd.read_csv(\n",
    "    os.path.join(\"result\", \"microsoft_deberta-base_bs_4_epo9\", \"l2\", \"level2.csv\")\n",
    ")"
   ]
  },
  {
   "cell_type": "code",
   "execution_count": 15,
   "metadata": {},
   "outputs": [],
   "source": [
    "with open(os.path.join(\"data\", \"train_valid_split\", \"level_2\", \"y_l2.pkl\"), \"rb\") as f:\n",
    "    y = pickle.load(f)"
   ]
  },
  {
   "cell_type": "code",
   "execution_count": 16,
   "metadata": {},
   "outputs": [
    {
     "data": {
      "text/html": [
       "<div>\n",
       "<style scoped>\n",
       "    .dataframe tbody tr th:only-of-type {\n",
       "        vertical-align: middle;\n",
       "    }\n",
       "\n",
       "    .dataframe tbody tr th {\n",
       "        vertical-align: top;\n",
       "    }\n",
       "\n",
       "    .dataframe thead th {\n",
       "        text-align: right;\n",
       "    }\n",
       "</style>\n",
       "<table border=\"1\" class=\"dataframe\">\n",
       "  <thead>\n",
       "    <tr style=\"text-align: right;\">\n",
       "      <th></th>\n",
       "      <th>model_1</th>\n",
       "      <th>model_2</th>\n",
       "      <th>model_3</th>\n",
       "      <th>model_4</th>\n",
       "      <th>model_5</th>\n",
       "    </tr>\n",
       "  </thead>\n",
       "  <tbody>\n",
       "    <tr>\n",
       "      <th>0</th>\n",
       "      <td>0</td>\n",
       "      <td>0</td>\n",
       "      <td>0</td>\n",
       "      <td>0</td>\n",
       "      <td>0</td>\n",
       "    </tr>\n",
       "    <tr>\n",
       "      <th>1</th>\n",
       "      <td>0</td>\n",
       "      <td>0</td>\n",
       "      <td>0</td>\n",
       "      <td>0</td>\n",
       "      <td>0</td>\n",
       "    </tr>\n",
       "    <tr>\n",
       "      <th>2</th>\n",
       "      <td>0</td>\n",
       "      <td>0</td>\n",
       "      <td>0</td>\n",
       "      <td>0</td>\n",
       "      <td>0</td>\n",
       "    </tr>\n",
       "    <tr>\n",
       "      <th>3</th>\n",
       "      <td>0</td>\n",
       "      <td>0</td>\n",
       "      <td>0</td>\n",
       "      <td>0</td>\n",
       "      <td>0</td>\n",
       "    </tr>\n",
       "    <tr>\n",
       "      <th>4</th>\n",
       "      <td>0</td>\n",
       "      <td>0</td>\n",
       "      <td>0</td>\n",
       "      <td>0</td>\n",
       "      <td>0</td>\n",
       "    </tr>\n",
       "    <tr>\n",
       "      <th>...</th>\n",
       "      <td>...</td>\n",
       "      <td>...</td>\n",
       "      <td>...</td>\n",
       "      <td>...</td>\n",
       "      <td>...</td>\n",
       "    </tr>\n",
       "    <tr>\n",
       "      <th>2343</th>\n",
       "      <td>1</td>\n",
       "      <td>1</td>\n",
       "      <td>1</td>\n",
       "      <td>1</td>\n",
       "      <td>1</td>\n",
       "    </tr>\n",
       "    <tr>\n",
       "      <th>2344</th>\n",
       "      <td>0</td>\n",
       "      <td>0</td>\n",
       "      <td>0</td>\n",
       "      <td>0</td>\n",
       "      <td>0</td>\n",
       "    </tr>\n",
       "    <tr>\n",
       "      <th>2345</th>\n",
       "      <td>1</td>\n",
       "      <td>1</td>\n",
       "      <td>1</td>\n",
       "      <td>1</td>\n",
       "      <td>1</td>\n",
       "    </tr>\n",
       "    <tr>\n",
       "      <th>2346</th>\n",
       "      <td>0</td>\n",
       "      <td>0</td>\n",
       "      <td>0</td>\n",
       "      <td>0</td>\n",
       "      <td>0</td>\n",
       "    </tr>\n",
       "    <tr>\n",
       "      <th>2347</th>\n",
       "      <td>0</td>\n",
       "      <td>0</td>\n",
       "      <td>0</td>\n",
       "      <td>0</td>\n",
       "      <td>0</td>\n",
       "    </tr>\n",
       "  </tbody>\n",
       "</table>\n",
       "<p>2348 rows × 5 columns</p>\n",
       "</div>"
      ],
      "text/plain": [
       "      model_1  model_2  model_3  model_4  model_5\n",
       "0           0        0        0        0        0\n",
       "1           0        0        0        0        0\n",
       "2           0        0        0        0        0\n",
       "3           0        0        0        0        0\n",
       "4           0        0        0        0        0\n",
       "...       ...      ...      ...      ...      ...\n",
       "2343        1        1        1        1        1\n",
       "2344        0        0        0        0        0\n",
       "2345        1        1        1        1        1\n",
       "2346        0        0        0        0        0\n",
       "2347        0        0        0        0        0\n",
       "\n",
       "[2348 rows x 5 columns]"
      ]
     },
     "execution_count": 16,
     "metadata": {},
     "output_type": "execute_result"
    }
   ],
   "source": [
    "X = pd.DataFrame(\n",
    "    {\n",
    "        \"model_1\": df1[\"sentiment\"],\n",
    "        \"model_2\": df2[\"sentiment\"],\n",
    "        \"model_3\": df3[\"sentiment\"],\n",
    "        \"model_4\": df4[\"sentiment\"],\n",
    "        \"model_5\": df5[\"sentiment\"],\n",
    "    }\n",
    ")\n",
    "X"
   ]
  },
  {
   "cell_type": "code",
   "execution_count": 21,
   "metadata": {},
   "outputs": [
    {
     "name": "stdout",
     "output_type": "stream",
     "text": [
      "['model_1', 'model_2', 'model_3', 'model_4', 'model_5']\n"
     ]
    }
   ],
   "source": [
    "print(list(X.columns))"
   ]
  },
  {
   "cell_type": "code",
   "execution_count": 17,
   "metadata": {},
   "outputs": [
    {
     "data": {
      "text/plain": [
       "array([0, 0, 0, ..., 1, 0, 0], dtype=int64)"
      ]
     },
     "execution_count": 17,
     "metadata": {},
     "output_type": "execute_result"
    }
   ],
   "source": [
    "y.values"
   ]
  },
  {
   "cell_type": "markdown",
   "metadata": {},
   "source": [
    "### Data Splitting"
   ]
  },
  {
   "cell_type": "code",
   "execution_count": 18,
   "metadata": {},
   "outputs": [],
   "source": [
    "from sklearn.model_selection import train_test_split\n",
    "\n",
    "X_tr, X_va, y_tr, y_va = train_test_split(X, y, train_size=0.8, random_state=0)"
   ]
  },
  {
   "cell_type": "code",
   "execution_count": 19,
   "metadata": {},
   "outputs": [],
   "source": [
    "from catboost import CatBoostClassifier, Pool, cv\n",
    "from sklearn.metrics import accuracy_score"
   ]
  },
  {
   "cell_type": "code",
   "execution_count": 22,
   "metadata": {},
   "outputs": [],
   "source": [
    "model = CatBoostClassifier(\n",
    "    custom_loss=[\"Accuracy\"],\n",
    "    random_seed=0,\n",
    "    logging_level=\"Silent\",\n",
    ")"
   ]
  },
  {
   "cell_type": "code",
   "execution_count": 23,
   "metadata": {},
   "outputs": [
    {
     "data": {
      "application/vnd.jupyter.widget-view+json": {
       "model_id": "bd4b52ad955a4deba977140f661cdf10",
       "version_major": 2,
       "version_minor": 0
      },
      "text/plain": [
       "MetricVisualizer(layout=Layout(align_self='stretch', height='500px'))"
      ]
     },
     "metadata": {},
     "output_type": "display_data"
    },
    {
     "data": {
      "text/plain": [
       "<catboost.core.CatBoostClassifier at 0x1e1f530ec70>"
      ]
     },
     "execution_count": 23,
     "metadata": {},
     "output_type": "execute_result"
    }
   ],
   "source": [
    "model.fit(\n",
    "    X_tr,\n",
    "    y_tr,\n",
    "    cat_features=list(X.columns),\n",
    "    eval_set=(X_va, y_va),\n",
    "    # logging_level='Verbose',  # you can uncomment this for text output\n",
    "    plot=True,\n",
    ")"
   ]
  },
  {
   "cell_type": "code",
   "execution_count": 24,
   "metadata": {},
   "outputs": [
    {
     "data": {
      "application/vnd.jupyter.widget-view+json": {
       "model_id": "b788ac4cf7f1479b97541ad58326857a",
       "version_major": 2,
       "version_minor": 0
      },
      "text/plain": [
       "MetricVisualizer(layout=Layout(align_self='stretch', height='500px'))"
      ]
     },
     "metadata": {},
     "output_type": "display_data"
    }
   ],
   "source": [
    "cv_params = model.get_params()\n",
    "cv_params.update({\n",
    "    'loss_function': 'Logloss'\n",
    "})\n",
    "cv_data = cv(\n",
    "    Pool(X, y, cat_features=list(X.columns)),\n",
    "    cv_params,\n",
    "    plot=True\n",
    ")"
   ]
  },
  {
   "cell_type": "code",
   "execution_count": null,
   "metadata": {},
   "outputs": [],
   "source": []
  }
 ],
 "metadata": {
  "kernelspec": {
   "display_name": "Python 3",
   "language": "python",
   "name": "python3"
  },
  "language_info": {
   "codemirror_mode": {
    "name": "ipython",
    "version": 3
   },
   "file_extension": ".py",
   "mimetype": "text/x-python",
   "name": "python",
   "nbconvert_exporter": "python",
   "pygments_lexer": "ipython3",
   "version": "3.8.6"
  },
  "toc": {
   "base_numbering": 1,
   "nav_menu": {},
   "number_sections": true,
   "sideBar": true,
   "skip_h1_title": true,
   "title_cell": "Table of Contents",
   "title_sidebar": "Contents",
   "toc_cell": false,
   "toc_position": {},
   "toc_section_display": true,
   "toc_window_display": false
  }
 },
 "nbformat": 4,
 "nbformat_minor": 5
}
