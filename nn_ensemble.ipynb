{
 "cells": [
  {
   "cell_type": "markdown",
   "metadata": {},
   "source": [
    "# Ensemble learning"
   ]
  },
  {
   "cell_type": "markdown",
   "metadata": {},
   "source": [
    "## load data"
   ]
  },
  {
   "cell_type": "code",
   "execution_count": 145,
   "metadata": {},
   "outputs": [],
   "source": [
    "import pandas as pd\n",
    "import pickle\n",
    "import os"
   ]
  },
  {
   "cell_type": "code",
   "execution_count": 146,
   "metadata": {},
   "outputs": [],
   "source": [
    "df1 = pd.read_csv(\n",
    "    os.path.join(\"result\", \"bert-base-cased_bs_8_epo7\", \"l2\", \"level2_softmax.csv\")\n",
    ")\n",
    "df2 = pd.read_csv(\n",
    "    os.path.join(\"result\", \"roberta-base_bs_8_epo10\", \"l2\", \"level2_softmax.csv\")\n",
    ")\n",
    "df3 = pd.read_csv(\n",
    "    os.path.join(\"result\", \"xlnet-base-cased_bs_8_epo10\", \"l2\", \"level2_softmax.csv\")\n",
    ")\n",
    "df4 = pd.read_csv(\n",
    "    os.path.join(\n",
    "        \"result\",\n",
    "        \"google_electra-base-discriminator_bs_8_epo10\",\n",
    "        \"l2\",\n",
    "        \"level2_softmax.csv\",\n",
    "    )\n",
    ")\n",
    "df5 = pd.read_csv(\n",
    "    os.path.join(\n",
    "        \"result\", \"microsoft_deberta-base_bs_4_epo9\", \"l2\", \"level2_softmax.csv\"\n",
    "    )\n",
    ")"
   ]
  },
  {
   "cell_type": "code",
   "execution_count": 147,
   "metadata": {},
   "outputs": [
    {
     "data": {
      "text/plain": [
       "0       0.025889\n",
       "1       0.002131\n",
       "2       0.004950\n",
       "3       0.055823\n",
       "4       0.002406\n",
       "          ...   \n",
       "2343    0.992563\n",
       "2344    0.002670\n",
       "2345    0.985187\n",
       "2346    0.003030\n",
       "2347    0.069894\n",
       "Name: sentiment, Length: 2348, dtype: float64"
      ]
     },
     "execution_count": 147,
     "metadata": {},
     "output_type": "execute_result"
    }
   ],
   "source": [
    "df1[\"sentiment\"]"
   ]
  },
  {
   "cell_type": "code",
   "execution_count": 148,
   "metadata": {},
   "outputs": [],
   "source": [
    "with open(os.path.join(\"data\", \"train_valid_split\", \"level_2\", \"y_l2.pkl\"), \"rb\") as f:\n",
    "    y = pickle.load(f)"
   ]
  },
  {
   "cell_type": "code",
   "execution_count": 149,
   "metadata": {},
   "outputs": [
    {
     "data": {
      "text/html": [
       "<div>\n",
       "<style scoped>\n",
       "    .dataframe tbody tr th:only-of-type {\n",
       "        vertical-align: middle;\n",
       "    }\n",
       "\n",
       "    .dataframe tbody tr th {\n",
       "        vertical-align: top;\n",
       "    }\n",
       "\n",
       "    .dataframe thead th {\n",
       "        text-align: right;\n",
       "    }\n",
       "</style>\n",
       "<table border=\"1\" class=\"dataframe\">\n",
       "  <thead>\n",
       "    <tr style=\"text-align: right;\">\n",
       "      <th></th>\n",
       "      <th>model_1</th>\n",
       "      <th>model_2</th>\n",
       "      <th>model_3</th>\n",
       "      <th>model_4</th>\n",
       "      <th>model_5</th>\n",
       "    </tr>\n",
       "  </thead>\n",
       "  <tbody>\n",
       "    <tr>\n",
       "      <th>0</th>\n",
       "      <td>0.025889</td>\n",
       "      <td>0.003011</td>\n",
       "      <td>0.004297</td>\n",
       "      <td>0.009604</td>\n",
       "      <td>0.005394</td>\n",
       "    </tr>\n",
       "    <tr>\n",
       "      <th>1</th>\n",
       "      <td>0.002131</td>\n",
       "      <td>0.002943</td>\n",
       "      <td>0.000889</td>\n",
       "      <td>0.002825</td>\n",
       "      <td>0.000381</td>\n",
       "    </tr>\n",
       "    <tr>\n",
       "      <th>2</th>\n",
       "      <td>0.004950</td>\n",
       "      <td>0.002949</td>\n",
       "      <td>0.000739</td>\n",
       "      <td>0.004916</td>\n",
       "      <td>0.001335</td>\n",
       "    </tr>\n",
       "    <tr>\n",
       "      <th>3</th>\n",
       "      <td>0.055823</td>\n",
       "      <td>0.002976</td>\n",
       "      <td>0.009089</td>\n",
       "      <td>0.003739</td>\n",
       "      <td>0.001982</td>\n",
       "    </tr>\n",
       "    <tr>\n",
       "      <th>4</th>\n",
       "      <td>0.002406</td>\n",
       "      <td>0.002948</td>\n",
       "      <td>0.000767</td>\n",
       "      <td>0.002968</td>\n",
       "      <td>0.000456</td>\n",
       "    </tr>\n",
       "    <tr>\n",
       "      <th>...</th>\n",
       "      <td>...</td>\n",
       "      <td>...</td>\n",
       "      <td>...</td>\n",
       "      <td>...</td>\n",
       "      <td>...</td>\n",
       "    </tr>\n",
       "    <tr>\n",
       "      <th>2343</th>\n",
       "      <td>0.992563</td>\n",
       "      <td>0.996553</td>\n",
       "      <td>0.997342</td>\n",
       "      <td>0.988435</td>\n",
       "      <td>0.998907</td>\n",
       "    </tr>\n",
       "    <tr>\n",
       "      <th>2344</th>\n",
       "      <td>0.002670</td>\n",
       "      <td>0.002945</td>\n",
       "      <td>0.000779</td>\n",
       "      <td>0.002885</td>\n",
       "      <td>0.000744</td>\n",
       "    </tr>\n",
       "    <tr>\n",
       "      <th>2345</th>\n",
       "      <td>0.985187</td>\n",
       "      <td>0.996455</td>\n",
       "      <td>0.995898</td>\n",
       "      <td>0.985997</td>\n",
       "      <td>0.997631</td>\n",
       "    </tr>\n",
       "    <tr>\n",
       "      <th>2346</th>\n",
       "      <td>0.003030</td>\n",
       "      <td>0.002957</td>\n",
       "      <td>0.000789</td>\n",
       "      <td>0.002995</td>\n",
       "      <td>0.004879</td>\n",
       "    </tr>\n",
       "    <tr>\n",
       "      <th>2347</th>\n",
       "      <td>0.069894</td>\n",
       "      <td>0.003009</td>\n",
       "      <td>0.002027</td>\n",
       "      <td>0.165495</td>\n",
       "      <td>0.009625</td>\n",
       "    </tr>\n",
       "  </tbody>\n",
       "</table>\n",
       "<p>2348 rows × 5 columns</p>\n",
       "</div>"
      ],
      "text/plain": [
       "       model_1   model_2   model_3   model_4   model_5\n",
       "0     0.025889  0.003011  0.004297  0.009604  0.005394\n",
       "1     0.002131  0.002943  0.000889  0.002825  0.000381\n",
       "2     0.004950  0.002949  0.000739  0.004916  0.001335\n",
       "3     0.055823  0.002976  0.009089  0.003739  0.001982\n",
       "4     0.002406  0.002948  0.000767  0.002968  0.000456\n",
       "...        ...       ...       ...       ...       ...\n",
       "2343  0.992563  0.996553  0.997342  0.988435  0.998907\n",
       "2344  0.002670  0.002945  0.000779  0.002885  0.000744\n",
       "2345  0.985187  0.996455  0.995898  0.985997  0.997631\n",
       "2346  0.003030  0.002957  0.000789  0.002995  0.004879\n",
       "2347  0.069894  0.003009  0.002027  0.165495  0.009625\n",
       "\n",
       "[2348 rows x 5 columns]"
      ]
     },
     "execution_count": 149,
     "metadata": {},
     "output_type": "execute_result"
    }
   ],
   "source": [
    "X = pd.DataFrame(\n",
    "    {\n",
    "        \"model_1\": df1[\"sentiment\"],\n",
    "        \"model_2\": df2[\"sentiment\"],\n",
    "        \"model_3\": df3[\"sentiment\"],\n",
    "        \"model_4\": df4[\"sentiment\"],\n",
    "        \"model_5\": df5[\"sentiment\"],\n",
    "    }\n",
    ")\n",
    "X"
   ]
  },
  {
   "cell_type": "code",
   "execution_count": 150,
   "metadata": {},
   "outputs": [
    {
     "data": {
      "text/plain": [
       "array([0, 0, 0, ..., 1, 0, 0])"
      ]
     },
     "execution_count": 150,
     "metadata": {},
     "output_type": "execute_result"
    }
   ],
   "source": [
    "y.values"
   ]
  },
  {
   "cell_type": "markdown",
   "metadata": {
    "heading_collapsed": true
   },
   "source": [
    "## 5-fold"
   ]
  },
  {
   "cell_type": "code",
   "execution_count": 151,
   "metadata": {
    "hidden": true
   },
   "outputs": [],
   "source": [
    "from sklearn.model_selection import StratifiedKFold"
   ]
  },
  {
   "cell_type": "code",
   "execution_count": 152,
   "metadata": {
    "hidden": true
   },
   "outputs": [],
   "source": [
    "skf = StratifiedKFold(n_splits=5, shuffle=True, random_state=0)  # init"
   ]
  },
  {
   "cell_type": "code",
   "execution_count": 153,
   "metadata": {
    "hidden": true
   },
   "outputs": [
    {
     "name": "stdout",
     "output_type": "stream",
     "text": [
      "Train Pos: 890, Neg: 988\n",
      "Valid Pos: 223, Neg: 247\n",
      "========================================\n",
      "Train Pos: 890, Neg: 988\n",
      "Valid Pos: 223, Neg: 247\n",
      "========================================\n",
      "Train Pos: 890, Neg: 988\n",
      "Valid Pos: 223, Neg: 247\n",
      "========================================\n",
      "Train Pos: 891, Neg: 988\n",
      "Valid Pos: 222, Neg: 247\n",
      "========================================\n",
      "Train Pos: 891, Neg: 988\n",
      "Valid Pos: 222, Neg: 247\n",
      "========================================\n"
     ]
    }
   ],
   "source": [
    "tr_list_x = []\n",
    "tr_list_y = []\n",
    "va_list_x = []\n",
    "va_list_y = []\n",
    "\n",
    "for i, (train_index, test_index) in enumerate(skf.split(X, y)):\n",
    "    # train_index\n",
    "    tr_list_x.append(X.iloc[train_index].values)\n",
    "    tr_list_y.append(y.iloc[train_index].values)\n",
    "\n",
    "    # test_index\n",
    "    va_list_x.append(X.iloc[test_index].values)\n",
    "    va_list_y.append(y.iloc[test_index].values)\n",
    "\n",
    "    print(\n",
    "        \"Train Pos: {}, Neg: {}\".format(\n",
    "            sum(y.iloc[train_index] == 0), sum(y.iloc[train_index] == 1)\n",
    "        )\n",
    "    )\n",
    "\n",
    "    print(\n",
    "        \"Valid Pos: {}, Neg: {}\".format(\n",
    "            sum(y.iloc[test_index] == 0), sum(y.iloc[test_index] == 1)\n",
    "        )\n",
    "    )\n",
    "\n",
    "    print(\"=\" * 40)"
   ]
  },
  {
   "cell_type": "code",
   "execution_count": 50,
   "metadata": {
    "hidden": true
   },
   "outputs": [
    {
     "data": {
      "text/plain": [
       "array([[0.02588884, 0.00301065, 0.00429728, 0.00960365, 0.00539435],\n",
       "       [0.00213117, 0.0029434 , 0.00088919, 0.00282461, 0.00038069],\n",
       "       [0.05582312, 0.00297602, 0.00908886, 0.00373885, 0.00198184],\n",
       "       ...,\n",
       "       [0.00266983, 0.00294544, 0.0007793 , 0.0028846 , 0.00074437],\n",
       "       [0.00302999, 0.00295661, 0.00078902, 0.00299497, 0.00487888],\n",
       "       [0.06989356, 0.0030087 , 0.00202729, 0.16549522, 0.00962536]])"
      ]
     },
     "execution_count": 50,
     "metadata": {},
     "output_type": "execute_result"
    }
   ],
   "source": [
    "tr_list_x[0]"
   ]
  },
  {
   "cell_type": "markdown",
   "metadata": {
    "heading_collapsed": true
   },
   "source": [
    "## pytorch"
   ]
  },
  {
   "cell_type": "code",
   "execution_count": 138,
   "metadata": {
    "hidden": true
   },
   "outputs": [],
   "source": [
    "import torch\n",
    "import torch.nn as nn\n",
    "import torch.nn.functional as F\n",
    "from torch.utils.data import Dataset, DataLoader\n",
    "from sklearn import metrics\n",
    "import numpy as np\n",
    "import matplotlib.pyplot as plt"
   ]
  },
  {
   "cell_type": "code",
   "execution_count": 142,
   "metadata": {
    "hidden": true
   },
   "outputs": [],
   "source": [
    "plt.rcParams[\"figure.figsize\"] = (12, 8)"
   ]
  },
  {
   "cell_type": "code",
   "execution_count": 65,
   "metadata": {
    "hidden": true
   },
   "outputs": [
    {
     "name": "stdout",
     "output_type": "stream",
     "text": [
      "\n",
      "There are 1 GPU(s) available.\n",
      "We will use the GPU: GeForce RTX 2080 Ti\n",
      "\n"
     ]
    }
   ],
   "source": [
    "def check_gpu():\n",
    "    \"\"\"\n",
    "    Check if GPU avaliable.\n",
    "    \"\"\"\n",
    "    print()\n",
    "    if torch.cuda.is_available():\n",
    "        device = torch.device(\"cuda:0\")\n",
    "        print(\"There are %d GPU(s) available.\" % torch.cuda.device_count())\n",
    "        print(\"We will use the GPU:\", torch.cuda.get_device_name(0))\n",
    "    else:\n",
    "        print(\"No GPU available, using the CPU instead.\")\n",
    "        device = torch.device(\"cpu\")\n",
    "    print()\n",
    "\n",
    "    return device\n",
    "\n",
    "\n",
    "device = check_gpu()"
   ]
  },
  {
   "cell_type": "code",
   "execution_count": 51,
   "metadata": {
    "hidden": true
   },
   "outputs": [],
   "source": [
    "class Data(Dataset):\n",
    "    # Constructor\n",
    "    def __init__(self, X, y):\n",
    "        self.x = torch.from_numpy(X).float()\n",
    "        self.y = torch.from_numpy(y).long()\n",
    "        self.len = self.y.shape[0]\n",
    "\n",
    "    # Getter\n",
    "    def __getitem__(self, index):\n",
    "        return self.x[index], self.y[index]\n",
    "\n",
    "    # Get Length\n",
    "    def __len__(self):\n",
    "        return self.len"
   ]
  },
  {
   "cell_type": "code",
   "execution_count": 53,
   "metadata": {
    "hidden": true
   },
   "outputs": [],
   "source": [
    "# create dataset\n",
    "tr_set = []\n",
    "va_set = []\n",
    "\n",
    "for idx in range(len(tr_list_x)):\n",
    "    tr_set.append(Data(tr_list_x[idx], tr_list_y[idx]))\n",
    "\n",
    "for idx in range(len(va_list_x)):\n",
    "    va_set.append(Data(va_list_x[idx], va_list_y[idx]))"
   ]
  },
  {
   "cell_type": "code",
   "execution_count": 165,
   "metadata": {
    "hidden": true
   },
   "outputs": [],
   "source": [
    "class NN(nn.Module):\n",
    "    # Constructor\n",
    "    def __init__(self, input_dim, neuron=8, p=0):\n",
    "        super().__init__()\n",
    "\n",
    "        self.input_dim = input_dim\n",
    "\n",
    "        self.neuron = neuron\n",
    "\n",
    "        self.layer = torch.nn.Sequential(\n",
    "            # 1\n",
    "            nn.Linear(self.input_dim, self.neuron),\n",
    "            nn.BatchNorm1d(self.neuron),\n",
    "            nn.ReLU(),\n",
    "            nn.Dropout(p=p),\n",
    "            # 2\n",
    "            nn.Linear(self.neuron, self.neuron),\n",
    "            nn.BatchNorm1d(self.neuron),\n",
    "            nn.ReLU(),\n",
    "            nn.Dropout(p=p),\n",
    "            # 3\n",
    "            nn.Linear(self.neuron, 2),\n",
    "        )\n",
    "\n",
    "    def forward(self, x):\n",
    "        x = self.layer(x)\n",
    "        return x"
   ]
  },
  {
   "cell_type": "code",
   "execution_count": 166,
   "metadata": {
    "hidden": true
   },
   "outputs": [],
   "source": [
    "def batch_iter(\n",
    "    model, dataloader, optimizer, scheduler, device, criterion, training=True\n",
    "):\n",
    "\n",
    "    correct = 0\n",
    "    training_loss = 0\n",
    "    TP = FP = TN = FN = 0\n",
    "    y_list = []\n",
    "    yhat_list = []\n",
    "\n",
    "    if training:\n",
    "        model.train()\n",
    "        for x, y in dataloader:\n",
    "            x, y = x.to(device), y.to(device)\n",
    "            optimizer.zero_grad()\n",
    "            z = model(x)\n",
    "            _, yhat = torch.max(z.data, 1)\n",
    "            correct += (yhat == y).sum().item()\n",
    "            loss = criterion(z, y)\n",
    "            loss.backward()\n",
    "            optimizer.step()\n",
    "            training_loss += loss.item()\n",
    "            yhat_prob = F.softmax(z, dim=1)[:, 1]\n",
    "\n",
    "            # calc metric\n",
    "            TP += ((yhat == 1) & (y == 1)).sum().item()\n",
    "            FP += ((yhat == 1) & (y == 0)).sum().item()\n",
    "            TN += ((yhat == 0) & (y == 0)).sum().item()\n",
    "            FN += ((yhat == 0) & (y == 1)).sum().item()\n",
    "\n",
    "            # calc auc\n",
    "            y_list.extend(y.cpu().detach().numpy())\n",
    "            yhat_list.extend(yhat_prob.cpu().detach().numpy())\n",
    "\n",
    "    else:\n",
    "        model.eval()\n",
    "        with torch.no_grad():\n",
    "            for x, y in dataloader:\n",
    "                x, y = x.to(device), y.to(device)\n",
    "                z = model(x)\n",
    "                _, yhat = torch.max(z.data, 1)\n",
    "                correct += (yhat == y).sum().item()\n",
    "                loss = criterion(z, y)\n",
    "                training_loss += loss.item()\n",
    "                yhat_prob = F.softmax(z, dim=1)[:, 1]\n",
    "\n",
    "                # calc metric\n",
    "                TP += ((yhat == 1) & (y == 1)).sum().item()\n",
    "                FP += ((yhat == 1) & (y == 0)).sum().item()\n",
    "                TN += ((yhat == 0) & (y == 0)).sum().item()\n",
    "                FN += ((yhat == 0) & (y == 1)).sum().item()\n",
    "\n",
    "                # calc auc\n",
    "                y_list.extend(y.cpu().detach().numpy())\n",
    "                yhat_list.extend(yhat_prob.cpu().detach().numpy())\n",
    "\n",
    "    return model, correct, training_loss, (TP, FP, TN, FN), y_list, yhat_list"
   ]
  },
  {
   "cell_type": "code",
   "execution_count": 167,
   "metadata": {
    "hidden": true
   },
   "outputs": [],
   "source": [
    "def calc_metrics(\n",
    "    N_data,\n",
    "    dataloader,\n",
    "    correct,\n",
    "    training_loss,\n",
    "    confusion_matrix,\n",
    "    y_list,\n",
    "    yhat_list,\n",
    "    useful_stuff,\n",
    "    mtype,\n",
    "):\n",
    "    (TP, FP, TN, FN) = confusion_matrix\n",
    "    fpr, tpr, _ = metrics.roc_curve(y_list, yhat_list)\n",
    "    auc = metrics.auc(fpr, tpr)\n",
    "    acc = correct / N_data\n",
    "    loss = training_loss / len(dataloader)\n",
    "    useful_stuff = save_result(\n",
    "        useful_stuff, acc, loss, (TP, FP, TN, FN), auc, fpr, tpr, mtype\n",
    "    )\n",
    "\n",
    "    return useful_stuff"
   ]
  },
  {
   "cell_type": "code",
   "execution_count": 168,
   "metadata": {
    "hidden": true
   },
   "outputs": [],
   "source": [
    "def save_result(useful_stuff, acc, loss, confusion_matrix, auc, fpr, tpr, type):\n",
    "    (TP, FP, TN, FN) = confusion_matrix\n",
    "    useful_stuff[type + \"_loss\"].append(loss)\n",
    "    useful_stuff[type + \"_acc\"].append(acc)\n",
    "    useful_stuff[type + \"_metric\"].append((TP, FP, TN, FN))\n",
    "    useful_stuff[type + \"_auc\"].append(auc)\n",
    "    useful_stuff[type + \"_fpr\"].append(fpr)\n",
    "    useful_stuff[type + \"_tpr\"].append(tpr)\n",
    "    return useful_stuff"
   ]
  },
  {
   "cell_type": "code",
   "execution_count": 169,
   "metadata": {
    "hidden": true
   },
   "outputs": [],
   "source": [
    "def train_ensemble(\n",
    "    model,\n",
    "    train_loader,\n",
    "    valid_loader,\n",
    "    optimizer,\n",
    "    N_train,\n",
    "    N_test,\n",
    "    device,\n",
    "    criterion,\n",
    "    scheduler,\n",
    "    epochs=20,\n",
    "):\n",
    "\n",
    "    useful_stuff = {\n",
    "        \"training_loss\": [],\n",
    "        \"training_acc\": [],\n",
    "        \"training_auc\": [],\n",
    "        \"training_metric\": [],\n",
    "        \"training_fpr\": [],\n",
    "        \"training_tpr\": [],\n",
    "        \"train_loss\": [],\n",
    "        \"train_acc\": [],\n",
    "        \"train_auc\": [],\n",
    "        \"train_metric\": [],\n",
    "        \"train_fpr\": [],\n",
    "        \"train_tpr\": [],\n",
    "        \"valid_loss\": [],\n",
    "        \"valid_acc\": [],\n",
    "        \"valid_auc\": [],\n",
    "        \"valid_metric\": [],\n",
    "        \"valid_fpr\": [],\n",
    "        \"valid_tpr\": [],\n",
    "    }\n",
    "\n",
    "    for epoch in range(epochs):\n",
    "\n",
    "        # training\n",
    "        model, correct, training_loss, (TP, FP, TN, FN), y_list, yhat_list = batch_iter(\n",
    "            model, train_loader, optimizer, scheduler, device, criterion, training=True\n",
    "        )\n",
    "\n",
    "        useful_stuff = calc_metrics(\n",
    "            N_train,\n",
    "            train_loader,\n",
    "            correct,\n",
    "            training_loss,\n",
    "            (TP, FP, TN, FN),\n",
    "            y_list,\n",
    "            yhat_list,\n",
    "            useful_stuff,\n",
    "            mtype=\"training\",\n",
    "        )\n",
    "\n",
    "        # evaluate training\n",
    "        model, correct, training_loss, (TP, FP, TN, FN), y_list, yhat_list = batch_iter(\n",
    "            model, train_loader, optimizer, scheduler, device, criterion, training=False\n",
    "        )\n",
    "\n",
    "        useful_stuff = calc_metrics(\n",
    "            N_train,\n",
    "            train_loader,\n",
    "            correct,\n",
    "            training_loss,\n",
    "            (TP, FP, TN, FN),\n",
    "            y_list,\n",
    "            yhat_list,\n",
    "            useful_stuff,\n",
    "            mtype=\"train\",\n",
    "        )\n",
    "\n",
    "        # Validation\n",
    "        model, correct, training_loss, (TP, FP, TN, FN), y_list, yhat_list = batch_iter(\n",
    "            model, valid_loader, optimizer, scheduler, device, criterion, training=False\n",
    "        )\n",
    "\n",
    "        useful_stuff = calc_metrics(\n",
    "            N_test,\n",
    "            valid_loader,\n",
    "            correct,\n",
    "            training_loss,\n",
    "            (TP, FP, TN, FN),\n",
    "            y_list,\n",
    "            yhat_list,\n",
    "            useful_stuff,\n",
    "            mtype=\"valid\",\n",
    "        )\n",
    "\n",
    "        scheduler.step(training_loss)\n",
    "        print(\n",
    "            \"[Epo {:2}] tr_acc: {:.2f} tr_oss: {:.2f} va_acc: {:.2f} va_loss: {:.2f}\".format(\n",
    "                epoch,\n",
    "                useful_stuff[\"train_acc\"][-1],\n",
    "                useful_stuff[\"train_loss\"][-1],\n",
    "                useful_stuff[\"valid_acc\"][-1],\n",
    "                useful_stuff[\"valid_loss\"][-1],\n",
    "            )\n",
    "        )\n",
    "\n",
    "    return useful_stuff"
   ]
  },
  {
   "cell_type": "code",
   "execution_count": 120,
   "metadata": {
    "hidden": true
   },
   "outputs": [
    {
     "name": "stdout",
     "output_type": "stream",
     "text": [
      "epochs: 60\n",
      "batch_size: 32\n",
      "learning rate: 0.0002\n",
      "dropout_rate: 0.1\n",
      "neurons per layer: 10\n"
     ]
    }
   ],
   "source": [
    "# hypterparameter\n",
    "epochs = 60\n",
    "batch_size = 32\n",
    "lr = 2e-4\n",
    "dropout_rate = 0.1\n",
    "neuron = 10\n",
    "print(\"epochs:\", epochs)\n",
    "print(\"batch_size:\", batch_size)\n",
    "print(\"learning rate:\", lr)\n",
    "print(\"dropout_rate:\", dropout_rate)\n",
    "print(\"neurons per layer:\", neuron)"
   ]
  },
  {
   "cell_type": "code",
   "execution_count": 121,
   "metadata": {
    "hidden": true
   },
   "outputs": [
    {
     "name": "stdout",
     "output_type": "stream",
     "text": [
      "[Fold]: 0\n",
      "Num of train samples: 1878\n",
      "Num of valid samples: 470\n",
      "\n",
      "[Epo  0] tr_acc: 0.52 tr_oss: 0.64 va_acc: 0.53 va_loss: 0.63\n",
      "[Epo  1] tr_acc: 0.52 tr_oss: 0.57 va_acc: 0.53 va_loss: 0.56\n",
      "[Epo  2] tr_acc: 0.90 tr_oss: 0.49 va_acc: 0.91 va_loss: 0.48\n",
      "[Epo  3] tr_acc: 0.90 tr_oss: 0.45 va_acc: 0.91 va_loss: 0.44\n",
      "[Epo  4] tr_acc: 0.91 tr_oss: 0.43 va_acc: 0.91 va_loss: 0.41\n",
      "[Epo  5] tr_acc: 0.92 tr_oss: 0.39 va_acc: 0.92 va_loss: 0.38\n",
      "[Epo  6] tr_acc: 0.92 tr_oss: 0.36 va_acc: 0.93 va_loss: 0.36\n",
      "[Epo  7] tr_acc: 0.92 tr_oss: 0.34 va_acc: 0.93 va_loss: 0.34\n",
      "[Epo  8] tr_acc: 0.92 tr_oss: 0.32 va_acc: 0.93 va_loss: 0.31\n",
      "[Epo  9] tr_acc: 0.93 tr_oss: 0.30 va_acc: 0.94 va_loss: 0.30\n",
      "[Epo 10] tr_acc: 0.93 tr_oss: 0.29 va_acc: 0.94 va_loss: 0.28\n",
      "[Epo 11] tr_acc: 0.93 tr_oss: 0.27 va_acc: 0.94 va_loss: 0.27\n",
      "[Epo 12] tr_acc: 0.94 tr_oss: 0.26 va_acc: 0.94 va_loss: 0.26\n",
      "[Epo 13] tr_acc: 0.94 tr_oss: 0.25 va_acc: 0.94 va_loss: 0.25\n",
      "[Epo 14] tr_acc: 0.93 tr_oss: 0.24 va_acc: 0.94 va_loss: 0.24\n",
      "[Epo 15] tr_acc: 0.93 tr_oss: 0.24 va_acc: 0.93 va_loss: 0.24\n",
      "[Epo 16] tr_acc: 0.93 tr_oss: 0.23 va_acc: 0.93 va_loss: 0.23\n",
      "[Epo 17] tr_acc: 0.94 tr_oss: 0.23 va_acc: 0.93 va_loss: 0.23\n",
      "[Epo 18] tr_acc: 0.93 tr_oss: 0.22 va_acc: 0.93 va_loss: 0.23\n",
      "[Epo 19] tr_acc: 0.93 tr_oss: 0.22 va_acc: 0.93 va_loss: 0.22\n",
      "[Epo 20] tr_acc: 0.93 tr_oss: 0.21 va_acc: 0.93 va_loss: 0.22\n",
      "[Epo 21] tr_acc: 0.93 tr_oss: 0.21 va_acc: 0.93 va_loss: 0.22\n",
      "[Epo 22] tr_acc: 0.93 tr_oss: 0.21 va_acc: 0.94 va_loss: 0.21\n",
      "[Epo 23] tr_acc: 0.93 tr_oss: 0.20 va_acc: 0.94 va_loss: 0.21\n",
      "[Epo 24] tr_acc: 0.93 tr_oss: 0.20 va_acc: 0.94 va_loss: 0.21\n",
      "[Epo 25] tr_acc: 0.94 tr_oss: 0.20 va_acc: 0.93 va_loss: 0.21\n",
      "[Epo 26] tr_acc: 0.93 tr_oss: 0.20 va_acc: 0.94 va_loss: 0.21\n",
      "[Epo 27] tr_acc: 0.93 tr_oss: 0.20 va_acc: 0.94 va_loss: 0.21\n",
      "[Epo 28] tr_acc: 0.93 tr_oss: 0.20 va_acc: 0.94 va_loss: 0.21\n",
      "[Epo 29] tr_acc: 0.94 tr_oss: 0.20 va_acc: 0.94 va_loss: 0.21\n",
      "[Epo 30] tr_acc: 0.94 tr_oss: 0.19 va_acc: 0.94 va_loss: 0.21\n",
      "[Epo 31] tr_acc: 0.94 tr_oss: 0.19 va_acc: 0.94 va_loss: 0.21\n",
      "[Epo 32] tr_acc: 0.94 tr_oss: 0.19 va_acc: 0.94 va_loss: 0.21\n",
      "[Epo 33] tr_acc: 0.94 tr_oss: 0.19 va_acc: 0.94 va_loss: 0.21\n",
      "[Epo 34] tr_acc: 0.94 tr_oss: 0.19 va_acc: 0.94 va_loss: 0.21\n",
      "[Epo 35] tr_acc: 0.94 tr_oss: 0.19 va_acc: 0.94 va_loss: 0.21\n",
      "[Epo 36] tr_acc: 0.94 tr_oss: 0.19 va_acc: 0.94 va_loss: 0.21\n",
      "[Epo 37] tr_acc: 0.94 tr_oss: 0.19 va_acc: 0.94 va_loss: 0.20\n",
      "[Epo 38] tr_acc: 0.94 tr_oss: 0.19 va_acc: 0.94 va_loss: 0.20\n",
      "[Epo 39] tr_acc: 0.94 tr_oss: 0.19 va_acc: 0.94 va_loss: 0.21\n",
      "[Epo 40] tr_acc: 0.94 tr_oss: 0.19 va_acc: 0.94 va_loss: 0.21\n",
      "[Epo 41] tr_acc: 0.94 tr_oss: 0.19 va_acc: 0.94 va_loss: 0.21\n",
      "[Epo 42] tr_acc: 0.94 tr_oss: 0.19 va_acc: 0.94 va_loss: 0.21\n",
      "[Epo 43] tr_acc: 0.94 tr_oss: 0.19 va_acc: 0.94 va_loss: 0.21\n",
      "[Epo 44] tr_acc: 0.94 tr_oss: 0.19 va_acc: 0.94 va_loss: 0.21\n",
      "[Epo 45] tr_acc: 0.94 tr_oss: 0.19 va_acc: 0.94 va_loss: 0.21\n",
      "[Epo 46] tr_acc: 0.94 tr_oss: 0.18 va_acc: 0.94 va_loss: 0.21\n",
      "[Epo 47] tr_acc: 0.94 tr_oss: 0.19 va_acc: 0.94 va_loss: 0.21\n",
      "[Epo 48] tr_acc: 0.94 tr_oss: 0.18 va_acc: 0.94 va_loss: 0.21\n",
      "Epoch    50: reducing learning rate of group 0 to 1.0000e-04.\n",
      "[Epo 49] tr_acc: 0.94 tr_oss: 0.18 va_acc: 0.94 va_loss: 0.21\n",
      "[Epo 50] tr_acc: 0.94 tr_oss: 0.19 va_acc: 0.94 va_loss: 0.21\n",
      "[Epo 51] tr_acc: 0.94 tr_oss: 0.18 va_acc: 0.94 va_loss: 0.21\n",
      "[Epo 52] tr_acc: 0.94 tr_oss: 0.18 va_acc: 0.94 va_loss: 0.21\n",
      "[Epo 53] tr_acc: 0.94 tr_oss: 0.18 va_acc: 0.94 va_loss: 0.21\n",
      "[Epo 54] tr_acc: 0.94 tr_oss: 0.18 va_acc: 0.94 va_loss: 0.21\n",
      "[Epo 55] tr_acc: 0.94 tr_oss: 0.18 va_acc: 0.94 va_loss: 0.21\n",
      "[Epo 56] tr_acc: 0.94 tr_oss: 0.18 va_acc: 0.94 va_loss: 0.21\n",
      "[Epo 57] tr_acc: 0.94 tr_oss: 0.18 va_acc: 0.94 va_loss: 0.21\n",
      "[Epo 58] tr_acc: 0.94 tr_oss: 0.18 va_acc: 0.94 va_loss: 0.21\n",
      "[Epo 59] tr_acc: 0.94 tr_oss: 0.18 va_acc: 0.94 va_loss: 0.21\n",
      "**************************************************\n",
      "**************************************************\n",
      "**************************************************\n",
      "[Fold]: 1\n",
      "Num of train samples: 1878\n",
      "Num of valid samples: 470\n",
      "\n",
      "[Epo  0] tr_acc: 0.90 tr_oss: 0.60 va_acc: 0.90 va_loss: 0.60\n",
      "[Epo  1] tr_acc: 0.91 tr_oss: 0.50 va_acc: 0.92 va_loss: 0.50\n",
      "[Epo  2] tr_acc: 0.91 tr_oss: 0.44 va_acc: 0.93 va_loss: 0.43\n",
      "[Epo  3] tr_acc: 0.91 tr_oss: 0.39 va_acc: 0.93 va_loss: 0.38\n",
      "[Epo  4] tr_acc: 0.92 tr_oss: 0.36 va_acc: 0.93 va_loss: 0.34\n",
      "[Epo  5] tr_acc: 0.92 tr_oss: 0.33 va_acc: 0.93 va_loss: 0.31\n",
      "[Epo  6] tr_acc: 0.92 tr_oss: 0.31 va_acc: 0.93 va_loss: 0.29\n",
      "[Epo  7] tr_acc: 0.91 tr_oss: 0.30 va_acc: 0.93 va_loss: 0.27\n",
      "[Epo  8] tr_acc: 0.92 tr_oss: 0.28 va_acc: 0.93 va_loss: 0.26\n",
      "[Epo  9] tr_acc: 0.92 tr_oss: 0.27 va_acc: 0.93 va_loss: 0.25\n",
      "[Epo 10] tr_acc: 0.92 tr_oss: 0.26 va_acc: 0.93 va_loss: 0.23\n",
      "[Epo 11] tr_acc: 0.92 tr_oss: 0.25 va_acc: 0.93 va_loss: 0.22\n",
      "[Epo 12] tr_acc: 0.92 tr_oss: 0.24 va_acc: 0.93 va_loss: 0.22\n",
      "[Epo 13] tr_acc: 0.92 tr_oss: 0.24 va_acc: 0.93 va_loss: 0.21\n",
      "[Epo 14] tr_acc: 0.92 tr_oss: 0.23 va_acc: 0.93 va_loss: 0.20\n",
      "[Epo 15] tr_acc: 0.93 tr_oss: 0.23 va_acc: 0.93 va_loss: 0.20\n",
      "[Epo 16] tr_acc: 0.92 tr_oss: 0.22 va_acc: 0.93 va_loss: 0.19\n",
      "[Epo 17] tr_acc: 0.92 tr_oss: 0.22 va_acc: 0.93 va_loss: 0.19\n",
      "[Epo 18] tr_acc: 0.93 tr_oss: 0.22 va_acc: 0.94 va_loss: 0.19\n",
      "[Epo 19] tr_acc: 0.93 tr_oss: 0.21 va_acc: 0.93 va_loss: 0.18\n",
      "[Epo 20] tr_acc: 0.92 tr_oss: 0.21 va_acc: 0.93 va_loss: 0.18\n",
      "[Epo 21] tr_acc: 0.93 tr_oss: 0.21 va_acc: 0.93 va_loss: 0.18\n",
      "[Epo 22] tr_acc: 0.93 tr_oss: 0.21 va_acc: 0.94 va_loss: 0.18\n",
      "[Epo 23] tr_acc: 0.92 tr_oss: 0.21 va_acc: 0.94 va_loss: 0.17\n",
      "[Epo 24] tr_acc: 0.93 tr_oss: 0.21 va_acc: 0.94 va_loss: 0.17\n",
      "[Epo 25] tr_acc: 0.93 tr_oss: 0.20 va_acc: 0.94 va_loss: 0.17\n",
      "[Epo 26] tr_acc: 0.93 tr_oss: 0.20 va_acc: 0.94 va_loss: 0.17\n",
      "[Epo 27] tr_acc: 0.93 tr_oss: 0.20 va_acc: 0.94 va_loss: 0.17\n",
      "[Epo 28] tr_acc: 0.93 tr_oss: 0.20 va_acc: 0.94 va_loss: 0.17\n",
      "[Epo 29] tr_acc: 0.93 tr_oss: 0.20 va_acc: 0.94 va_loss: 0.17\n",
      "[Epo 30] tr_acc: 0.93 tr_oss: 0.20 va_acc: 0.94 va_loss: 0.16\n",
      "[Epo 31] tr_acc: 0.93 tr_oss: 0.20 va_acc: 0.94 va_loss: 0.17\n",
      "[Epo 32] tr_acc: 0.93 tr_oss: 0.20 va_acc: 0.94 va_loss: 0.16\n",
      "[Epo 33] tr_acc: 0.93 tr_oss: 0.20 va_acc: 0.94 va_loss: 0.17\n",
      "[Epo 34] tr_acc: 0.93 tr_oss: 0.20 va_acc: 0.94 va_loss: 0.16\n",
      "[Epo 35] tr_acc: 0.93 tr_oss: 0.20 va_acc: 0.94 va_loss: 0.16\n",
      "[Epo 36] tr_acc: 0.93 tr_oss: 0.20 va_acc: 0.94 va_loss: 0.16\n",
      "[Epo 37] tr_acc: 0.93 tr_oss: 0.20 va_acc: 0.94 va_loss: 0.16\n",
      "[Epo 38] tr_acc: 0.93 tr_oss: 0.20 va_acc: 0.94 va_loss: 0.16\n",
      "[Epo 39] tr_acc: 0.93 tr_oss: 0.20 va_acc: 0.94 va_loss: 0.16\n",
      "[Epo 40] tr_acc: 0.93 tr_oss: 0.19 va_acc: 0.94 va_loss: 0.16\n",
      "[Epo 41] tr_acc: 0.93 tr_oss: 0.19 va_acc: 0.94 va_loss: 0.16\n",
      "[Epo 42] tr_acc: 0.93 tr_oss: 0.20 va_acc: 0.94 va_loss: 0.16\n",
      "[Epo 43] tr_acc: 0.93 tr_oss: 0.20 va_acc: 0.94 va_loss: 0.16\n",
      "[Epo 44] tr_acc: 0.93 tr_oss: 0.19 va_acc: 0.94 va_loss: 0.16\n",
      "[Epo 45] tr_acc: 0.93 tr_oss: 0.19 va_acc: 0.94 va_loss: 0.16\n",
      "[Epo 46] tr_acc: 0.93 tr_oss: 0.19 va_acc: 0.94 va_loss: 0.16\n",
      "[Epo 47] tr_acc: 0.93 tr_oss: 0.19 va_acc: 0.94 va_loss: 0.16\n",
      "[Epo 48] tr_acc: 0.93 tr_oss: 0.19 va_acc: 0.94 va_loss: 0.16\n",
      "[Epo 49] tr_acc: 0.93 tr_oss: 0.19 va_acc: 0.94 va_loss: 0.16\n",
      "[Epo 50] tr_acc: 0.93 tr_oss: 0.19 va_acc: 0.94 va_loss: 0.16\n",
      "[Epo 51] tr_acc: 0.93 tr_oss: 0.19 va_acc: 0.94 va_loss: 0.16\n",
      "[Epo 52] tr_acc: 0.93 tr_oss: 0.19 va_acc: 0.94 va_loss: 0.16\n",
      "[Epo 53] tr_acc: 0.93 tr_oss: 0.19 va_acc: 0.95 va_loss: 0.16\n",
      "[Epo 54] tr_acc: 0.93 tr_oss: 0.19 va_acc: 0.95 va_loss: 0.16\n",
      "[Epo 55] tr_acc: 0.93 tr_oss: 0.19 va_acc: 0.94 va_loss: 0.16\n",
      "[Epo 56] tr_acc: 0.94 tr_oss: 0.19 va_acc: 0.95 va_loss: 0.16\n",
      "[Epo 57] tr_acc: 0.94 tr_oss: 0.19 va_acc: 0.95 va_loss: 0.16\n",
      "[Epo 58] tr_acc: 0.94 tr_oss: 0.19 va_acc: 0.95 va_loss: 0.16\n",
      "[Epo 59] tr_acc: 0.94 tr_oss: 0.19 va_acc: 0.95 va_loss: 0.16\n",
      "**************************************************\n",
      "**************************************************\n",
      "**************************************************\n",
      "[Fold]: 2\n",
      "Num of train samples: 1878\n",
      "Num of valid samples: 470\n",
      "\n",
      "[Epo  0] tr_acc: 0.91 tr_oss: 0.64 va_acc: 0.90 va_loss: 0.64\n",
      "[Epo  1] tr_acc: 0.92 tr_oss: 0.58 va_acc: 0.90 va_loss: 0.58\n",
      "[Epo  2] tr_acc: 0.92 tr_oss: 0.52 va_acc: 0.90 va_loss: 0.53\n",
      "[Epo  3] tr_acc: 0.92 tr_oss: 0.47 va_acc: 0.90 va_loss: 0.48\n"
     ]
    },
    {
     "name": "stdout",
     "output_type": "stream",
     "text": [
      "[Epo  4] tr_acc: 0.92 tr_oss: 0.43 va_acc: 0.90 va_loss: 0.44\n",
      "[Epo  5] tr_acc: 0.92 tr_oss: 0.40 va_acc: 0.90 va_loss: 0.42\n",
      "[Epo  6] tr_acc: 0.92 tr_oss: 0.37 va_acc: 0.91 va_loss: 0.39\n",
      "[Epo  7] tr_acc: 0.93 tr_oss: 0.35 va_acc: 0.91 va_loss: 0.36\n",
      "[Epo  8] tr_acc: 0.93 tr_oss: 0.33 va_acc: 0.91 va_loss: 0.35\n",
      "[Epo  9] tr_acc: 0.93 tr_oss: 0.30 va_acc: 0.91 va_loss: 0.33\n",
      "[Epo 10] tr_acc: 0.93 tr_oss: 0.29 va_acc: 0.92 va_loss: 0.32\n",
      "[Epo 11] tr_acc: 0.93 tr_oss: 0.28 va_acc: 0.92 va_loss: 0.30\n",
      "[Epo 12] tr_acc: 0.93 tr_oss: 0.27 va_acc: 0.91 va_loss: 0.29\n",
      "[Epo 13] tr_acc: 0.93 tr_oss: 0.26 va_acc: 0.92 va_loss: 0.28\n",
      "[Epo 14] tr_acc: 0.93 tr_oss: 0.25 va_acc: 0.91 va_loss: 0.27\n",
      "[Epo 15] tr_acc: 0.93 tr_oss: 0.24 va_acc: 0.91 va_loss: 0.27\n",
      "[Epo 16] tr_acc: 0.93 tr_oss: 0.23 va_acc: 0.91 va_loss: 0.26\n",
      "[Epo 17] tr_acc: 0.93 tr_oss: 0.23 va_acc: 0.91 va_loss: 0.25\n",
      "[Epo 18] tr_acc: 0.93 tr_oss: 0.22 va_acc: 0.92 va_loss: 0.25\n",
      "[Epo 19] tr_acc: 0.93 tr_oss: 0.22 va_acc: 0.92 va_loss: 0.25\n",
      "[Epo 20] tr_acc: 0.93 tr_oss: 0.21 va_acc: 0.92 va_loss: 0.24\n",
      "[Epo 21] tr_acc: 0.94 tr_oss: 0.21 va_acc: 0.92 va_loss: 0.24\n",
      "[Epo 22] tr_acc: 0.93 tr_oss: 0.20 va_acc: 0.92 va_loss: 0.24\n",
      "[Epo 23] tr_acc: 0.94 tr_oss: 0.20 va_acc: 0.92 va_loss: 0.23\n",
      "[Epo 24] tr_acc: 0.94 tr_oss: 0.20 va_acc: 0.92 va_loss: 0.23\n",
      "[Epo 25] tr_acc: 0.94 tr_oss: 0.20 va_acc: 0.92 va_loss: 0.23\n",
      "[Epo 26] tr_acc: 0.94 tr_oss: 0.20 va_acc: 0.92 va_loss: 0.23\n",
      "[Epo 27] tr_acc: 0.94 tr_oss: 0.19 va_acc: 0.92 va_loss: 0.22\n",
      "[Epo 28] tr_acc: 0.94 tr_oss: 0.19 va_acc: 0.93 va_loss: 0.22\n",
      "[Epo 29] tr_acc: 0.94 tr_oss: 0.19 va_acc: 0.93 va_loss: 0.22\n",
      "[Epo 30] tr_acc: 0.94 tr_oss: 0.19 va_acc: 0.93 va_loss: 0.22\n",
      "[Epo 31] tr_acc: 0.94 tr_oss: 0.19 va_acc: 0.93 va_loss: 0.23\n",
      "[Epo 32] tr_acc: 0.94 tr_oss: 0.19 va_acc: 0.93 va_loss: 0.22\n",
      "[Epo 33] tr_acc: 0.94 tr_oss: 0.19 va_acc: 0.93 va_loss: 0.22\n",
      "[Epo 34] tr_acc: 0.94 tr_oss: 0.19 va_acc: 0.93 va_loss: 0.22\n",
      "[Epo 35] tr_acc: 0.94 tr_oss: 0.19 va_acc: 0.93 va_loss: 0.22\n",
      "[Epo 36] tr_acc: 0.94 tr_oss: 0.18 va_acc: 0.93 va_loss: 0.22\n",
      "[Epo 37] tr_acc: 0.94 tr_oss: 0.18 va_acc: 0.93 va_loss: 0.22\n",
      "[Epo 38] tr_acc: 0.94 tr_oss: 0.18 va_acc: 0.93 va_loss: 0.22\n",
      "[Epo 39] tr_acc: 0.94 tr_oss: 0.18 va_acc: 0.93 va_loss: 0.22\n",
      "[Epo 40] tr_acc: 0.94 tr_oss: 0.18 va_acc: 0.93 va_loss: 0.22\n",
      "[Epo 41] tr_acc: 0.94 tr_oss: 0.18 va_acc: 0.93 va_loss: 0.22\n",
      "[Epo 42] tr_acc: 0.94 tr_oss: 0.18 va_acc: 0.93 va_loss: 0.22\n",
      "[Epo 43] tr_acc: 0.94 tr_oss: 0.18 va_acc: 0.93 va_loss: 0.22\n",
      "[Epo 44] tr_acc: 0.94 tr_oss: 0.18 va_acc: 0.93 va_loss: 0.22\n",
      "[Epo 45] tr_acc: 0.94 tr_oss: 0.18 va_acc: 0.93 va_loss: 0.22\n",
      "[Epo 46] tr_acc: 0.94 tr_oss: 0.18 va_acc: 0.93 va_loss: 0.22\n",
      "[Epo 47] tr_acc: 0.94 tr_oss: 0.18 va_acc: 0.92 va_loss: 0.22\n",
      "[Epo 48] tr_acc: 0.94 tr_oss: 0.18 va_acc: 0.93 va_loss: 0.22\n",
      "[Epo 49] tr_acc: 0.94 tr_oss: 0.18 va_acc: 0.93 va_loss: 0.22\n",
      "[Epo 50] tr_acc: 0.94 tr_oss: 0.18 va_acc: 0.93 va_loss: 0.22\n",
      "[Epo 51] tr_acc: 0.94 tr_oss: 0.18 va_acc: 0.93 va_loss: 0.22\n",
      "[Epo 52] tr_acc: 0.94 tr_oss: 0.18 va_acc: 0.93 va_loss: 0.22\n",
      "[Epo 53] tr_acc: 0.94 tr_oss: 0.18 va_acc: 0.92 va_loss: 0.22\n",
      "[Epo 54] tr_acc: 0.94 tr_oss: 0.18 va_acc: 0.93 va_loss: 0.22\n",
      "[Epo 55] tr_acc: 0.94 tr_oss: 0.18 va_acc: 0.93 va_loss: 0.22\n",
      "[Epo 56] tr_acc: 0.94 tr_oss: 0.18 va_acc: 0.93 va_loss: 0.22\n",
      "Epoch    58: reducing learning rate of group 0 to 1.0000e-04.\n",
      "[Epo 57] tr_acc: 0.94 tr_oss: 0.18 va_acc: 0.93 va_loss: 0.22\n",
      "[Epo 58] tr_acc: 0.94 tr_oss: 0.18 va_acc: 0.93 va_loss: 0.22\n",
      "[Epo 59] tr_acc: 0.94 tr_oss: 0.18 va_acc: 0.93 va_loss: 0.22\n",
      "**************************************************\n",
      "**************************************************\n",
      "**************************************************\n",
      "[Fold]: 3\n",
      "Num of train samples: 1879\n",
      "Num of valid samples: 469\n",
      "\n",
      "[Epo  0] tr_acc: 0.53 tr_oss: 0.66 va_acc: 0.51 va_loss: 0.66\n",
      "[Epo  1] tr_acc: 0.92 tr_oss: 0.54 va_acc: 0.91 va_loss: 0.54\n",
      "[Epo  2] tr_acc: 0.92 tr_oss: 0.48 va_acc: 0.92 va_loss: 0.49\n",
      "[Epo  3] tr_acc: 0.93 tr_oss: 0.43 va_acc: 0.92 va_loss: 0.44\n",
      "[Epo  4] tr_acc: 0.93 tr_oss: 0.40 va_acc: 0.93 va_loss: 0.41\n",
      "[Epo  5] tr_acc: 0.94 tr_oss: 0.36 va_acc: 0.93 va_loss: 0.37\n",
      "[Epo  6] tr_acc: 0.94 tr_oss: 0.34 va_acc: 0.93 va_loss: 0.35\n",
      "[Epo  7] tr_acc: 0.94 tr_oss: 0.31 va_acc: 0.93 va_loss: 0.32\n",
      "[Epo  8] tr_acc: 0.94 tr_oss: 0.29 va_acc: 0.93 va_loss: 0.30\n",
      "[Epo  9] tr_acc: 0.94 tr_oss: 0.28 va_acc: 0.93 va_loss: 0.29\n",
      "[Epo 10] tr_acc: 0.94 tr_oss: 0.26 va_acc: 0.93 va_loss: 0.27\n",
      "[Epo 11] tr_acc: 0.94 tr_oss: 0.25 va_acc: 0.93 va_loss: 0.26\n",
      "[Epo 12] tr_acc: 0.94 tr_oss: 0.24 va_acc: 0.93 va_loss: 0.25\n",
      "[Epo 13] tr_acc: 0.94 tr_oss: 0.23 va_acc: 0.93 va_loss: 0.24\n",
      "[Epo 14] tr_acc: 0.94 tr_oss: 0.22 va_acc: 0.93 va_loss: 0.24\n",
      "[Epo 15] tr_acc: 0.94 tr_oss: 0.22 va_acc: 0.93 va_loss: 0.23\n",
      "[Epo 16] tr_acc: 0.94 tr_oss: 0.21 va_acc: 0.93 va_loss: 0.22\n",
      "[Epo 17] tr_acc: 0.94 tr_oss: 0.21 va_acc: 0.93 va_loss: 0.22\n",
      "[Epo 18] tr_acc: 0.94 tr_oss: 0.20 va_acc: 0.93 va_loss: 0.22\n",
      "[Epo 19] tr_acc: 0.94 tr_oss: 0.20 va_acc: 0.94 va_loss: 0.22\n",
      "[Epo 20] tr_acc: 0.94 tr_oss: 0.20 va_acc: 0.94 va_loss: 0.21\n",
      "[Epo 21] tr_acc: 0.94 tr_oss: 0.20 va_acc: 0.93 va_loss: 0.21\n",
      "[Epo 22] tr_acc: 0.94 tr_oss: 0.19 va_acc: 0.93 va_loss: 0.21\n",
      "[Epo 23] tr_acc: 0.94 tr_oss: 0.19 va_acc: 0.93 va_loss: 0.21\n",
      "[Epo 24] tr_acc: 0.94 tr_oss: 0.19 va_acc: 0.93 va_loss: 0.21\n",
      "[Epo 25] tr_acc: 0.94 tr_oss: 0.19 va_acc: 0.93 va_loss: 0.21\n",
      "[Epo 26] tr_acc: 0.94 tr_oss: 0.19 va_acc: 0.93 va_loss: 0.21\n",
      "[Epo 27] tr_acc: 0.94 tr_oss: 0.19 va_acc: 0.93 va_loss: 0.21\n",
      "[Epo 28] tr_acc: 0.94 tr_oss: 0.19 va_acc: 0.93 va_loss: 0.21\n",
      "[Epo 29] tr_acc: 0.94 tr_oss: 0.19 va_acc: 0.93 va_loss: 0.21\n",
      "[Epo 30] tr_acc: 0.94 tr_oss: 0.19 va_acc: 0.93 va_loss: 0.21\n",
      "[Epo 31] tr_acc: 0.94 tr_oss: 0.19 va_acc: 0.93 va_loss: 0.21\n",
      "[Epo 32] tr_acc: 0.94 tr_oss: 0.19 va_acc: 0.94 va_loss: 0.21\n",
      "[Epo 33] tr_acc: 0.94 tr_oss: 0.19 va_acc: 0.93 va_loss: 0.21\n",
      "[Epo 34] tr_acc: 0.94 tr_oss: 0.19 va_acc: 0.93 va_loss: 0.21\n",
      "[Epo 35] tr_acc: 0.94 tr_oss: 0.18 va_acc: 0.93 va_loss: 0.21\n",
      "[Epo 36] tr_acc: 0.94 tr_oss: 0.18 va_acc: 0.93 va_loss: 0.21\n",
      "[Epo 37] tr_acc: 0.94 tr_oss: 0.18 va_acc: 0.93 va_loss: 0.21\n",
      "[Epo 38] tr_acc: 0.94 tr_oss: 0.18 va_acc: 0.93 va_loss: 0.21\n",
      "[Epo 39] tr_acc: 0.94 tr_oss: 0.18 va_acc: 0.93 va_loss: 0.21\n",
      "[Epo 40] tr_acc: 0.94 tr_oss: 0.18 va_acc: 0.93 va_loss: 0.21\n",
      "[Epo 41] tr_acc: 0.94 tr_oss: 0.18 va_acc: 0.93 va_loss: 0.21\n",
      "Epoch    43: reducing learning rate of group 0 to 1.0000e-04.\n",
      "[Epo 42] tr_acc: 0.94 tr_oss: 0.18 va_acc: 0.93 va_loss: 0.21\n",
      "[Epo 43] tr_acc: 0.94 tr_oss: 0.18 va_acc: 0.93 va_loss: 0.21\n",
      "[Epo 44] tr_acc: 0.94 tr_oss: 0.18 va_acc: 0.93 va_loss: 0.21\n",
      "[Epo 45] tr_acc: 0.94 tr_oss: 0.18 va_acc: 0.93 va_loss: 0.21\n",
      "[Epo 46] tr_acc: 0.94 tr_oss: 0.18 va_acc: 0.93 va_loss: 0.21\n",
      "[Epo 47] tr_acc: 0.94 tr_oss: 0.18 va_acc: 0.93 va_loss: 0.21\n",
      "[Epo 48] tr_acc: 0.94 tr_oss: 0.18 va_acc: 0.93 va_loss: 0.21\n",
      "[Epo 49] tr_acc: 0.94 tr_oss: 0.18 va_acc: 0.93 va_loss: 0.21\n",
      "[Epo 50] tr_acc: 0.94 tr_oss: 0.18 va_acc: 0.93 va_loss: 0.21\n",
      "[Epo 51] tr_acc: 0.94 tr_oss: 0.18 va_acc: 0.93 va_loss: 0.21\n",
      "[Epo 52] tr_acc: 0.94 tr_oss: 0.18 va_acc: 0.93 va_loss: 0.21\n",
      "Epoch    54: reducing learning rate of group 0 to 5.0000e-05.\n",
      "[Epo 53] tr_acc: 0.94 tr_oss: 0.18 va_acc: 0.93 va_loss: 0.21\n",
      "[Epo 54] tr_acc: 0.94 tr_oss: 0.18 va_acc: 0.92 va_loss: 0.21\n",
      "[Epo 55] tr_acc: 0.94 tr_oss: 0.18 va_acc: 0.93 va_loss: 0.21\n",
      "[Epo 56] tr_acc: 0.94 tr_oss: 0.18 va_acc: 0.93 va_loss: 0.21\n",
      "[Epo 57] tr_acc: 0.94 tr_oss: 0.18 va_acc: 0.93 va_loss: 0.21\n",
      "[Epo 58] tr_acc: 0.94 tr_oss: 0.18 va_acc: 0.93 va_loss: 0.21\n",
      "[Epo 59] tr_acc: 0.94 tr_oss: 0.18 va_acc: 0.92 va_loss: 0.21\n",
      "**************************************************\n",
      "**************************************************\n",
      "**************************************************\n",
      "[Fold]: 4\n",
      "Num of train samples: 1879\n",
      "Num of valid samples: 469\n",
      "\n",
      "[Epo  0] tr_acc: 0.91 tr_oss: 0.52 va_acc: 0.92 va_loss: 0.54\n",
      "[Epo  1] tr_acc: 0.92 tr_oss: 0.45 va_acc: 0.93 va_loss: 0.46\n",
      "[Epo  2] tr_acc: 0.92 tr_oss: 0.42 va_acc: 0.93 va_loss: 0.43\n",
      "[Epo  3] tr_acc: 0.93 tr_oss: 0.38 va_acc: 0.93 va_loss: 0.39\n",
      "[Epo  4] tr_acc: 0.93 tr_oss: 0.35 va_acc: 0.93 va_loss: 0.36\n",
      "[Epo  5] tr_acc: 0.93 tr_oss: 0.33 va_acc: 0.93 va_loss: 0.33\n",
      "[Epo  6] tr_acc: 0.93 tr_oss: 0.31 va_acc: 0.92 va_loss: 0.31\n"
     ]
    },
    {
     "name": "stdout",
     "output_type": "stream",
     "text": [
      "[Epo  7] tr_acc: 0.93 tr_oss: 0.29 va_acc: 0.92 va_loss: 0.30\n",
      "[Epo  8] tr_acc: 0.93 tr_oss: 0.28 va_acc: 0.92 va_loss: 0.29\n",
      "[Epo  9] tr_acc: 0.93 tr_oss: 0.27 va_acc: 0.92 va_loss: 0.27\n",
      "[Epo 10] tr_acc: 0.93 tr_oss: 0.26 va_acc: 0.92 va_loss: 0.26\n",
      "[Epo 11] tr_acc: 0.93 tr_oss: 0.25 va_acc: 0.92 va_loss: 0.25\n",
      "[Epo 12] tr_acc: 0.93 tr_oss: 0.24 va_acc: 0.92 va_loss: 0.24\n",
      "[Epo 13] tr_acc: 0.93 tr_oss: 0.23 va_acc: 0.92 va_loss: 0.23\n",
      "[Epo 14] tr_acc: 0.93 tr_oss: 0.22 va_acc: 0.93 va_loss: 0.22\n",
      "[Epo 15] tr_acc: 0.93 tr_oss: 0.22 va_acc: 0.93 va_loss: 0.22\n",
      "[Epo 16] tr_acc: 0.94 tr_oss: 0.22 va_acc: 0.92 va_loss: 0.22\n",
      "[Epo 17] tr_acc: 0.93 tr_oss: 0.21 va_acc: 0.93 va_loss: 0.21\n",
      "[Epo 18] tr_acc: 0.93 tr_oss: 0.21 va_acc: 0.93 va_loss: 0.21\n",
      "[Epo 19] tr_acc: 0.93 tr_oss: 0.21 va_acc: 0.93 va_loss: 0.21\n",
      "[Epo 20] tr_acc: 0.94 tr_oss: 0.21 va_acc: 0.93 va_loss: 0.20\n",
      "[Epo 21] tr_acc: 0.94 tr_oss: 0.20 va_acc: 0.93 va_loss: 0.20\n",
      "[Epo 22] tr_acc: 0.94 tr_oss: 0.20 va_acc: 0.93 va_loss: 0.20\n",
      "[Epo 23] tr_acc: 0.94 tr_oss: 0.20 va_acc: 0.93 va_loss: 0.19\n",
      "[Epo 24] tr_acc: 0.94 tr_oss: 0.20 va_acc: 0.93 va_loss: 0.19\n",
      "[Epo 25] tr_acc: 0.94 tr_oss: 0.20 va_acc: 0.93 va_loss: 0.19\n",
      "[Epo 26] tr_acc: 0.94 tr_oss: 0.19 va_acc: 0.93 va_loss: 0.19\n",
      "[Epo 27] tr_acc: 0.94 tr_oss: 0.20 va_acc: 0.93 va_loss: 0.19\n",
      "[Epo 28] tr_acc: 0.94 tr_oss: 0.19 va_acc: 0.93 va_loss: 0.19\n",
      "[Epo 29] tr_acc: 0.94 tr_oss: 0.19 va_acc: 0.93 va_loss: 0.19\n",
      "[Epo 30] tr_acc: 0.94 tr_oss: 0.19 va_acc: 0.93 va_loss: 0.19\n",
      "[Epo 31] tr_acc: 0.94 tr_oss: 0.19 va_acc: 0.93 va_loss: 0.19\n",
      "[Epo 32] tr_acc: 0.94 tr_oss: 0.19 va_acc: 0.93 va_loss: 0.18\n",
      "[Epo 33] tr_acc: 0.94 tr_oss: 0.19 va_acc: 0.94 va_loss: 0.19\n",
      "[Epo 34] tr_acc: 0.94 tr_oss: 0.19 va_acc: 0.94 va_loss: 0.18\n",
      "[Epo 35] tr_acc: 0.94 tr_oss: 0.19 va_acc: 0.93 va_loss: 0.18\n",
      "[Epo 36] tr_acc: 0.94 tr_oss: 0.19 va_acc: 0.93 va_loss: 0.18\n",
      "[Epo 37] tr_acc: 0.94 tr_oss: 0.19 va_acc: 0.93 va_loss: 0.18\n",
      "[Epo 38] tr_acc: 0.94 tr_oss: 0.19 va_acc: 0.93 va_loss: 0.18\n",
      "[Epo 39] tr_acc: 0.94 tr_oss: 0.19 va_acc: 0.93 va_loss: 0.18\n",
      "[Epo 40] tr_acc: 0.94 tr_oss: 0.19 va_acc: 0.93 va_loss: 0.18\n",
      "[Epo 41] tr_acc: 0.94 tr_oss: 0.19 va_acc: 0.93 va_loss: 0.18\n",
      "[Epo 42] tr_acc: 0.94 tr_oss: 0.19 va_acc: 0.94 va_loss: 0.18\n",
      "[Epo 43] tr_acc: 0.94 tr_oss: 0.19 va_acc: 0.93 va_loss: 0.18\n",
      "[Epo 44] tr_acc: 0.94 tr_oss: 0.19 va_acc: 0.93 va_loss: 0.18\n",
      "[Epo 45] tr_acc: 0.94 tr_oss: 0.19 va_acc: 0.93 va_loss: 0.18\n",
      "[Epo 46] tr_acc: 0.94 tr_oss: 0.19 va_acc: 0.94 va_loss: 0.18\n",
      "[Epo 47] tr_acc: 0.94 tr_oss: 0.19 va_acc: 0.94 va_loss: 0.18\n",
      "[Epo 48] tr_acc: 0.94 tr_oss: 0.19 va_acc: 0.94 va_loss: 0.18\n",
      "[Epo 49] tr_acc: 0.94 tr_oss: 0.19 va_acc: 0.93 va_loss: 0.18\n",
      "[Epo 50] tr_acc: 0.94 tr_oss: 0.19 va_acc: 0.94 va_loss: 0.18\n",
      "[Epo 51] tr_acc: 0.94 tr_oss: 0.19 va_acc: 0.93 va_loss: 0.18\n",
      "[Epo 52] tr_acc: 0.94 tr_oss: 0.19 va_acc: 0.93 va_loss: 0.18\n",
      "[Epo 53] tr_acc: 0.94 tr_oss: 0.19 va_acc: 0.93 va_loss: 0.17\n",
      "[Epo 54] tr_acc: 0.94 tr_oss: 0.19 va_acc: 0.94 va_loss: 0.18\n",
      "[Epo 55] tr_acc: 0.94 tr_oss: 0.19 va_acc: 0.94 va_loss: 0.18\n",
      "[Epo 56] tr_acc: 0.94 tr_oss: 0.19 va_acc: 0.94 va_loss: 0.18\n",
      "[Epo 57] tr_acc: 0.94 tr_oss: 0.19 va_acc: 0.93 va_loss: 0.18\n",
      "[Epo 58] tr_acc: 0.94 tr_oss: 0.19 va_acc: 0.94 va_loss: 0.17\n",
      "[Epo 59] tr_acc: 0.94 tr_oss: 0.19 va_acc: 0.94 va_loss: 0.18\n",
      "**************************************************\n",
      "**************************************************\n",
      "**************************************************\n"
     ]
    }
   ],
   "source": [
    "# training\n",
    "training_hist = []\n",
    "for fold in range(5):\n",
    "\n",
    "    model = NN(input_dim=5, neuron=neuron, p=dropout_rate)\n",
    "    model.to(device)\n",
    "\n",
    "    N_train = len(tr_set[fold])\n",
    "    N_test = len(va_set[fold])\n",
    "    print(\"[Fold]:\", fold)\n",
    "    print(\"Num of train samples:\", N_train)\n",
    "    print(\"Num of valid samples:\", N_test)\n",
    "    print()\n",
    "\n",
    "    optimizer = torch.optim.AdamW(\n",
    "        model.parameters(),\n",
    "        lr=lr,\n",
    "    )\n",
    "\n",
    "    criterion = nn.CrossEntropyLoss()\n",
    "\n",
    "    scheduler = torch.optim.lr_scheduler.ReduceLROnPlateau(\n",
    "        optimizer, \"min\", patience=10, factor=0.5, verbose=True\n",
    "    )\n",
    "\n",
    "    tr_loader = DataLoader(tr_set[fold], shuffle=True, batch_size=batch_size)\n",
    "\n",
    "    va_loader = DataLoader(va_set[fold], shuffle=False, batch_size=batch_size * 8)\n",
    "\n",
    "    useful_stuff = train_ensemble(\n",
    "        model=model,\n",
    "        train_loader=tr_loader,\n",
    "        valid_loader=va_loader,\n",
    "        optimizer=optimizer,\n",
    "        N_train=N_train,\n",
    "        N_test=N_test,\n",
    "        device=device,\n",
    "        criterion=criterion,\n",
    "        scheduler=scheduler,\n",
    "        epochs=epochs,\n",
    "    )\n",
    "\n",
    "    training_hist.append(useful_stuff)\n",
    "    print(\"*\" * 50)\n",
    "    print(\"*\" * 50)\n",
    "    print(\"*\" * 50)"
   ]
  },
  {
   "cell_type": "markdown",
   "metadata": {
    "heading_collapsed": true
   },
   "source": [
    "## Metrics"
   ]
  },
  {
   "cell_type": "code",
   "execution_count": 128,
   "metadata": {
    "hidden": true
   },
   "outputs": [],
   "source": [
    "def calc_metric_ensemble(history, train_metric=True, detail=False):\n",
    "    \"\"\"\n",
    "    Calculate metric.\n",
    "    \"\"\"\n",
    "    # init\n",
    "    ACC = []\n",
    "    LOSS = []\n",
    "    RECALL = []\n",
    "    SPECIFICITY = []\n",
    "    PRECISION = []\n",
    "    NPV = []\n",
    "    F1 = []\n",
    "    MCC = []\n",
    "    AUC = []\n",
    "    FPR = []\n",
    "    TPR = []\n",
    "\n",
    "    for i in range(len(history)):\n",
    "\n",
    "        if train_metric:\n",
    "            (TP, FP, TN, FN) = history[i][\"train_metric\"][-1]\n",
    "            auc = history[i][\"train_auc\"][-1]\n",
    "            fpr = history[i][\"train_fpr\"][-1]\n",
    "            tpr = history[i][\"train_tpr\"][-1]\n",
    "            loss = history[i][\"train_loss\"][-1]\n",
    "        else:\n",
    "            (TP, FP, TN, FN) = history[i][\"valid_metric\"][-1]\n",
    "            auc = history[i][\"valid_auc\"][-1]\n",
    "            fpr = history[i][\"valid_fpr\"][-1]\n",
    "            tpr = history[i][\"valid_tpr\"][-1]\n",
    "            loss = history[i][\"valid_loss\"][-1]\n",
    "\n",
    "        acc = (TP + TN) / (TP + FP + TN + FN)\n",
    "\n",
    "        try:\n",
    "            recall = TP / (TP + FN)  # 召回率是在所有正樣本當中，能夠預測多少正樣本的比例\n",
    "        except:\n",
    "            recall = 0\n",
    "\n",
    "        try:\n",
    "            specificity = TN / (TN + FP)  # 特異度是在所有負樣本當中，能夠預測多少負樣本的比例\n",
    "        except:\n",
    "            specificity = 0\n",
    "\n",
    "        try:\n",
    "            precision = TP / (TP + FP)  # 準確率為在所有預測為正樣本中，有多少為正樣本\n",
    "        except:\n",
    "            precision = 0\n",
    "\n",
    "        try:\n",
    "            npv = TN / (TN + FN)  # npv為在所有預測為正樣本中，有多少為正樣本\n",
    "        except:\n",
    "            npv = 0\n",
    "\n",
    "        try:\n",
    "            f1 = (2 * recall * precision) / (recall + precision)  # F1-score則是兩者的調和平均數\n",
    "        except:\n",
    "            f1 = 0\n",
    "\n",
    "        try:\n",
    "            mcc = (TP * TN - FP * FN) / np.sqrt(\n",
    "                ((TP + FP) * (TP + FN) * (TN + FP) * (TN + FN))\n",
    "            )\n",
    "        except:\n",
    "            mcc = 0\n",
    "\n",
    "        if detail:\n",
    "            print(\"[ fold\", i, \"]\", \"(Total sample: {})\".format(TP + FP + TN + FN))\n",
    "            print(\"TP:\", TP)\n",
    "            print(\"FP:\", FP)\n",
    "            print(\"TN:\", TN)\n",
    "            print(\"FN:\", FN)\n",
    "            print()\n",
    "            print(\"acc:\", acc)\n",
    "            print(\"loss:\", loss)\n",
    "            print(\"recall:\", recall)\n",
    "            print(\"specificity:\", specificity)\n",
    "            print(\"precision:\", precision)\n",
    "            print(\"npv:\", npv)\n",
    "            print(\"f1:\", f1)\n",
    "            print(\"mcc:\", mcc)\n",
    "            print(\"auc:\", auc)\n",
    "            print(\"fpr:\", fpr)\n",
    "            print(\"tpr:\", tpr)\n",
    "            print(\"=\" * 40)\n",
    "\n",
    "        ACC.append(acc)\n",
    "        LOSS.append(loss)\n",
    "        RECALL.append(recall)\n",
    "        SPECIFICITY.append(specificity)\n",
    "        PRECISION.append(precision)\n",
    "        NPV.append(npv)\n",
    "        F1.append(f1)\n",
    "        MCC.append(mcc)\n",
    "        AUC.append(auc)\n",
    "        FPR.append(fpr)\n",
    "        TPR.append(tpr)\n",
    "\n",
    "    if train_metric:\n",
    "        print(\"\\n[Training average]\\n\")\n",
    "    else:\n",
    "        print(\"\\n[valid average]\\n\")\n",
    "    print(\"ACC: {:.2}\".format((np.mean(ACC))))\n",
    "    print(\"LOSS: {:.2}\".format(np.mean(LOSS)))\n",
    "    print()\n",
    "    print(\"Recall: {:.2}\".format(np.mean(RECALL)))\n",
    "    print(\"Specificity: {:.2}\".format(np.mean(SPECIFICITY)))\n",
    "    print(\"Precision: {:.2}\".format(np.mean(PRECISION)))\n",
    "    print(\"NPV: {:.2}\".format(np.mean(NPV)))\n",
    "    print()\n",
    "    print(\"F1: {:.2}\".format(np.mean(F1)))\n",
    "    print(\"MCC: {:.2}\".format(np.mean(MCC)))\n",
    "    print(\"AUC: {:.2}\".format(np.mean(AUC)))\n",
    "    print()"
   ]
  },
  {
   "cell_type": "code",
   "execution_count": null,
   "metadata": {
    "hidden": true
   },
   "outputs": [],
   "source": [
    "calc_metric_ensemble(training_hist, train_metric=True, detail=False)\n",
    "calc_metric_ensemble(training_hist, train_metric=False, detail=False)"
   ]
  },
  {
   "cell_type": "markdown",
   "metadata": {
    "heading_collapsed": true
   },
   "source": [
    "## Learning curve"
   ]
  },
  {
   "cell_type": "code",
   "execution_count": 132,
   "metadata": {
    "hidden": true
   },
   "outputs": [],
   "source": [
    "def plot_roc(history, mtype=\"train\"):\n",
    "    \"\"\"\n",
    "    plot roc curve and save as png\n",
    "    \"\"\"\n",
    "    for i in range(len(history)):\n",
    "        auc = history[i][mtype + \"_auc\"][-1]\n",
    "        fpr = history[i][mtype + \"_fpr\"][-1]\n",
    "        tpr = history[i][mtype + \"_tpr\"][-1]\n",
    "\n",
    "        plt.plot(fpr, tpr, label=\"Fold-\" + str(i) + \" AUC = %0.2f\" % auc)\n",
    "\n",
    "    plt.title(mtype + \" roc curve\")\n",
    "    plt.legend(loc=\"lower right\")\n",
    "    plt.plot([0, 1], [0, 1], \"r--\")\n",
    "    plt.xlim([0, 1])\n",
    "    plt.ylim([0, 1])\n",
    "    plt.ylabel(\"True Positive Rate\")\n",
    "    plt.xlabel(\"False Positive Rate\")\n",
    "    #     plt.savefig(fig_path + mtype + \"-roc\" + \".png\", bbox_inches=\"tight\")\n",
    "    #     plt.close()\n",
    "    plt.show()"
   ]
  },
  {
   "cell_type": "code",
   "execution_count": 135,
   "metadata": {
    "hidden": true
   },
   "outputs": [],
   "source": [
    "def calc_avg(history):\n",
    "    \"\"\"\n",
    "    Plot learning curve\n",
    "    \"\"\"\n",
    "\n",
    "    a1 = a2 = a3 = a4 = []  # init\n",
    "\n",
    "    for i in range(len(history)):\n",
    "        if i == 0:\n",
    "            a1 = np.array(history[0][\"train_loss\"].copy())\n",
    "            a2 = np.array(history[0][\"valid_loss\"].copy())\n",
    "            a3 = np.array(history[0][\"train_acc\"].copy())\n",
    "            a4 = np.array(history[0][\"valid_acc\"].copy())\n",
    "            continue\n",
    "        a1 = a1 + np.array(history[i][\"train_loss\"])\n",
    "        a2 = a2 + np.array(history[i][\"valid_loss\"])\n",
    "        a3 = a3 + np.array(history[i][\"train_acc\"])\n",
    "        a4 = a4 + np.array(history[i][\"valid_acc\"])\n",
    "\n",
    "    a1 /= len(history)\n",
    "    a2 /= len(history)\n",
    "    a3 /= len(history)\n",
    "    a4 /= len(history)\n",
    "\n",
    "    a1 = a1.tolist()\n",
    "    a2 = a2.tolist()\n",
    "    a3 = a3.tolist()\n",
    "    a4 = a4.tolist()\n",
    "\n",
    "    return a1, a2, a3, a4"
   ]
  },
  {
   "cell_type": "code",
   "execution_count": 136,
   "metadata": {
    "hidden": true
   },
   "outputs": [],
   "source": [
    "def plot_lc_ensemble(history):\n",
    "\n",
    "    a1, a2, a3, a4 = calc_avg(history)\n",
    "\n",
    "    # color\n",
    "    tr_color = [\"#2ff5f2\", \"#2ff5e8\", \"#2ff5c0\", \"#2fbdf5\", \"#2f99f5\"]\n",
    "    val_color = [\"#f5952f\", \"#f5ac2f\", \"#f5c02f\", \"#f5d72f\", \"#f5ee2f\"]\n",
    "\n",
    "    # train loss\n",
    "    for idx, color in enumerate(tr_color):\n",
    "        plt.plot(\n",
    "            history[idx][\"train_loss\"],\n",
    "            \"--\",\n",
    "            alpha=0.4,\n",
    "            label=\"train\" + str(idx),\n",
    "            color=color,\n",
    "        )\n",
    "    plt.plot(a1, label=\"average training\")\n",
    "\n",
    "    # valid loss\n",
    "    for idx, color in enumerate(val_color):\n",
    "        plt.plot(\n",
    "            history[idx][\"valid_loss\"],\n",
    "            \"--\",\n",
    "            alpha=0.4,\n",
    "            label=\"valid\" + str(idx),\n",
    "            color=color,\n",
    "        )\n",
    "\n",
    "    plt.plot(a2, label=\"average valid\")\n",
    "    plt.ylabel(\"loss\")\n",
    "    plt.xlabel(\"epochs\")\n",
    "    axes = plt.gca()\n",
    "    axes.set_ylim([0, 1])\n",
    "    plt.legend()\n",
    "    plt.title(\"training / valid loss vs iterations\")\n",
    "    plt.grid()\n",
    "    #     plt.savefig(fig_path + \"loss\" + \".png\", bbox_inches=\"tight\")\n",
    "    #     plt.close()\n",
    "    plt.show()\n",
    "\n",
    "    # train acc\n",
    "    for idx, color in enumerate(tr_color):\n",
    "        plt.plot(\n",
    "            history[idx][\"train_acc\"],\n",
    "            \"--\",\n",
    "            alpha=0.4,\n",
    "            label=\"train\" + str(idx),\n",
    "            color=color,\n",
    "        )\n",
    "    plt.plot(a3, label=\"average training\")\n",
    "\n",
    "    # valid acc\n",
    "    for idx, color in enumerate(val_color):\n",
    "        plt.plot(\n",
    "            history[idx][\"valid_acc\"],\n",
    "            \"--\",\n",
    "            alpha=0.4,\n",
    "            label=\"valid\" + str(idx),\n",
    "            color=color,\n",
    "        )\n",
    "    plt.plot(a4, label=\"average valid\")\n",
    "    plt.ylabel(\"acc\")\n",
    "    plt.xlabel(\"epochs\")\n",
    "    axes = plt.gca()\n",
    "    axes.set_ylim([0.5, 1])\n",
    "    plt.legend()\n",
    "    plt.title(\"training / valid acc vs iterations\")\n",
    "    plt.grid()\n",
    "    plt.show()\n",
    "    # plt.savefig(fig_path + \"acc\" + \".png\", bbox_inches=\"tight\")\n",
    "    # plt.close()"
   ]
  },
  {
   "cell_type": "code",
   "execution_count": 143,
   "metadata": {
    "hidden": true
   },
   "outputs": [
    {
     "data": {
      "image/png": "[encoded data removed]",
      "text/plain": [
       "<Figure size 864x576 with 1 Axes>"
      ]
     },
     "metadata": {
      "needs_background": "light"
     },
     "output_type": "display_data"
    },
    {
     "data": {
      "image/png": "[encoded data removed]",
      "text/plain": [
       "<Figure size 864x576 with 1 Axes>"
      ]
     },
     "metadata": {
      "needs_background": "light"
     },
     "output_type": "display_data"
    }
   ],
   "source": [
    "plot_lc_ensemble(training_hist)"
   ]
  },
  {
   "cell_type": "code",
   "execution_count": 144,
   "metadata": {
    "hidden": true
   },
   "outputs": [
    {
     "data": {
      "image/png": "[encoded data removed]",
      "text/plain": [
       "<Figure size 864x576 with 1 Axes>"
      ]
     },
     "metadata": {
      "needs_background": "light"
     },
     "output_type": "display_data"
    },
    {
     "data": {
      "image/png": "[encoded data removed]",
      "text/plain": [
       "<Figure size 864x576 with 1 Axes>"
      ]
     },
     "metadata": {
      "needs_background": "light"
     },
     "output_type": "display_data"
    }
   ],
   "source": [
    "# roc\n",
    "plot_roc(training_hist, mtype=\"train\")\n",
    "plot_roc(training_hist, mtype=\"valid\")"
   ]
  },
  {
   "cell_type": "markdown",
   "metadata": {},
   "source": [
    "## Final model"
   ]
  },
  {
   "cell_type": "code",
   "execution_count": 154,
   "metadata": {},
   "outputs": [],
   "source": [
    "import torch\n",
    "import torch.nn as nn\n",
    "import torch.nn.functional as F\n",
    "from torch.utils.data import Dataset, DataLoader\n",
    "from sklearn import metrics\n",
    "import numpy as np\n",
    "import matplotlib.pyplot as plt"
   ]
  },
  {
   "cell_type": "code",
   "execution_count": 155,
   "metadata": {},
   "outputs": [
    {
     "name": "stdout",
     "output_type": "stream",
     "text": [
      "\n",
      "There are 1 GPU(s) available.\n",
      "We will use the GPU: GeForce RTX 2080 Ti\n",
      "\n"
     ]
    }
   ],
   "source": [
    "def check_gpu():\n",
    "    \"\"\"\n",
    "    Check if GPU avaliable.\n",
    "    \"\"\"\n",
    "    print()\n",
    "    if torch.cuda.is_available():\n",
    "        device = torch.device(\"cuda:0\")\n",
    "        print(\"There are %d GPU(s) available.\" % torch.cuda.device_count())\n",
    "        print(\"We will use the GPU:\", torch.cuda.get_device_name(0))\n",
    "    else:\n",
    "        print(\"No GPU available, using the CPU instead.\")\n",
    "        device = torch.device(\"cpu\")\n",
    "    print()\n",
    "\n",
    "    return device\n",
    "\n",
    "\n",
    "device = check_gpu()"
   ]
  },
  {
   "cell_type": "code",
   "execution_count": 171,
   "metadata": {},
   "outputs": [],
   "source": [
    "class Data(Dataset):\n",
    "    # Constructor\n",
    "    def __init__(self, X, y):\n",
    "        self.x = torch.from_numpy(X).float()\n",
    "        self.y = torch.from_numpy(y).long()\n",
    "        self.len = self.y.shape[0]\n",
    "\n",
    "    # Getter\n",
    "    def __getitem__(self, index):\n",
    "        return self.x[index], self.y[index]\n",
    "\n",
    "    # Get Length\n",
    "    def __len__(self):\n",
    "        return self.len"
   ]
  },
  {
   "cell_type": "code",
   "execution_count": 172,
   "metadata": {},
   "outputs": [],
   "source": [
    "dataset = Data(X.values, y.values)"
   ]
  },
  {
   "cell_type": "code",
   "execution_count": 173,
   "metadata": {},
   "outputs": [
    {
     "data": {
      "text/plain": [
       "2348"
      ]
     },
     "execution_count": 173,
     "metadata": {},
     "output_type": "execute_result"
    }
   ],
   "source": [
    "len(dataset)"
   ]
  },
  {
   "cell_type": "code",
   "execution_count": 179,
   "metadata": {},
   "outputs": [],
   "source": [
    "def train_model_final(\n",
    "    model, train_loader, optimizer, N_train, device, criterion, scheduler, epochs=10\n",
    "):\n",
    "    \"\"\"\n",
    "    Training the final model.\n",
    "    \"\"\"\n",
    "\n",
    "    useful_stuff = {\n",
    "        \"training_loss\": [],\n",
    "        \"training_acc\": [],\n",
    "        \"training_auc\": [],\n",
    "        \"training_metric\": [],\n",
    "        \"training_fpr\": [],\n",
    "        \"training_tpr\": [],\n",
    "        \"train_loss\": [],\n",
    "        \"train_acc\": [],\n",
    "        \"train_auc\": [],\n",
    "        \"train_metric\": [],\n",
    "        \"train_fpr\": [],\n",
    "        \"train_tpr\": [],\n",
    "    }\n",
    "\n",
    "    for epoch in range(epochs):\n",
    "\n",
    "        # training\n",
    "        model, correct, training_loss, (TP, FP, TN, FN), y_list, yhat_list = batch_iter(\n",
    "            model, train_loader, optimizer, scheduler, device, criterion, training=True\n",
    "        )\n",
    "\n",
    "        useful_stuff = calc_metrics(\n",
    "            N_train,\n",
    "            train_loader,\n",
    "            correct,\n",
    "            training_loss,\n",
    "            (TP, FP, TN, FN),\n",
    "            y_list,\n",
    "            yhat_list,\n",
    "            useful_stuff,\n",
    "            mtype=\"training\",\n",
    "        )\n",
    "\n",
    "        # evaluate training\n",
    "        model, correct, training_loss, (TP, FP, TN, FN), y_list, yhat_list = batch_iter(\n",
    "            model, train_loader, optimizer, scheduler, device, criterion, training=False\n",
    "        )\n",
    "\n",
    "        useful_stuff = calc_metrics(\n",
    "            N_train,\n",
    "            train_loader,\n",
    "            correct,\n",
    "            training_loss,\n",
    "            (TP, FP, TN, FN),\n",
    "            y_list,\n",
    "            yhat_list,\n",
    "            useful_stuff,\n",
    "            mtype=\"train\",\n",
    "        )\n",
    "\n",
    "    return useful_stuff"
   ]
  },
  {
   "cell_type": "code",
   "execution_count": 174,
   "metadata": {},
   "outputs": [
    {
     "name": "stdout",
     "output_type": "stream",
     "text": [
      "epochs: 60\n",
      "batch_size: 32\n",
      "learning rate: 0.0002\n",
      "dropout_rate: 0.1\n",
      "neurons per layer: 10\n"
     ]
    }
   ],
   "source": [
    "# hypterparameter\n",
    "epochs = 60\n",
    "batch_size = 32\n",
    "lr = 2e-4\n",
    "dropout_rate = 0.1\n",
    "neuron = 10\n",
    "print(\"epochs:\", epochs)\n",
    "print(\"batch_size:\", batch_size)\n",
    "print(\"learning rate:\", lr)\n",
    "print(\"dropout_rate:\", dropout_rate)\n",
    "print(\"neurons per layer:\", neuron)"
   ]
  },
  {
   "cell_type": "code",
   "execution_count": 181,
   "metadata": {},
   "outputs": [
    {
     "name": "stdout",
     "output_type": "stream",
     "text": [
      "[Fold]: 4\n",
      "Num of train samples: 2348\n",
      "Num of valid samples: 469\n",
      "\n"
     ]
    }
   ],
   "source": [
    "model = NN(input_dim=5, neuron=neuron, p=dropout_rate)\n",
    "model.to(device)\n",
    "\n",
    "N_train = len(dataset)\n",
    "print(\"[Fold]:\", fold)\n",
    "print(\"Num of train samples:\", N_train)\n",
    "print(\"Num of valid samples:\", N_test)\n",
    "print()\n",
    "\n",
    "optimizer = torch.optim.AdamW(\n",
    "    model.parameters(),\n",
    "    lr=lr,\n",
    ")\n",
    "\n",
    "criterion = nn.CrossEntropyLoss()\n",
    "\n",
    "scheduler = torch.optim.lr_scheduler.ReduceLROnPlateau(\n",
    "    optimizer, \"min\", patience=10, factor=0.5, verbose=True\n",
    ")\n",
    "\n",
    "tr_loader = DataLoader(dataset, shuffle=True, batch_size=batch_size)\n",
    "\n",
    "useful_stuff = train_model_final(\n",
    "    model=model,\n",
    "    train_loader=tr_loader,\n",
    "    optimizer=optimizer,\n",
    "    N_train=N_train,\n",
    "    device=device,\n",
    "    criterion=criterion,\n",
    "    scheduler=scheduler,\n",
    "    epochs=epochs,\n",
    ")"
   ]
  },
  {
   "cell_type": "code",
   "execution_count": 183,
   "metadata": {},
   "outputs": [],
   "source": [
    "def calc_metric_final(useful_stuff):\n",
    "    \"\"\"\n",
    "    calculate metrics.\n",
    "    args:\n",
    "        useful_stuff(dict): infomation dict, obtaining acc, loss, auc, ...\n",
    "        fig_path(str): path to store figures\n",
    "        data_index(int): what dataset is\n",
    "    \"\"\"\n",
    "    (TP, FP, TN, FN) = useful_stuff[\"train_metric\"][-1]\n",
    "\n",
    "    acc = (TP + TN) / (TP + FP + TN + FN)\n",
    "    loss = useful_stuff[\"train_loss\"][-1]\n",
    "\n",
    "    recall = TP / (TP + FN)  # 召回率是在所有正樣本當中，能夠預測多少正樣本的比例\n",
    "    specificity = TN / (TN + FP)  # 特異度是在所有負樣本當中，能夠預測多少負樣本的比例\n",
    "    precision = TP / (TP + FP)  # 準確率為在所有預測為正樣本中，有多少為正樣本\n",
    "    npv = TN / (TN + FN)  # npv為在所有預測為正樣本中，有多少為正樣本\n",
    "\n",
    "    f1 = (2 * recall * precision) / (recall + precision)  # F1-score則是兩者的調和平均數\n",
    "    mcc = (TP * TN - FP * FN) / np.sqrt(((TP + FP) * (TP + FN) * (TN + FP) * (TN + FN)))\n",
    "    auc = useful_stuff[\"train_auc\"][-1]\n",
    "\n",
    "    print(\"\\n[Training]\\n\")\n",
    "    print(\"total sample:\", (TP + FP + TN + FN))\n",
    "    print(\"TP: {:.2f}\".format(TP))\n",
    "    print(\"FP: {:.2f}\".format(FP))\n",
    "    print(\"TN: {:.2f}\".format(TN))\n",
    "    print(\"FN: {:.2f}\".format(FN))\n",
    "    print(\"acc: {:.2f}\".format(acc))\n",
    "    print(\"loss: {:.2f}\".format(loss))\n",
    "    print(\"recall: {:.2f}\".format(recall))\n",
    "    print(\"specificity: {:.2f}\".format(specificity))\n",
    "    print(\"precision: {:.2f}\".format(precision))\n",
    "    print(\"npv: {:.2f}\".format(npv))\n",
    "    print(\"f1: {:.2f}\".format(f1))\n",
    "    print(\"mcc: {:.2f}\".format(mcc))\n",
    "    print(\"auc: {:.2f}\".format(auc))"
   ]
  },
  {
   "cell_type": "code",
   "execution_count": 184,
   "metadata": {},
   "outputs": [
    {
     "name": "stdout",
     "output_type": "stream",
     "text": [
      "\n",
      "[Training]\n",
      "\n",
      "total sample: 2348\n",
      "TP: 1158.00\n",
      "FP: 70.00\n",
      "TN: 1043.00\n",
      "FN: 77.00\n",
      "acc: 0.94\n",
      "loss: 0.18\n",
      "recall: 0.94\n",
      "specificity: 0.94\n",
      "precision: 0.94\n",
      "npv: 0.93\n",
      "f1: 0.94\n",
      "mcc: 0.87\n",
      "auc: 0.98\n"
     ]
    }
   ],
   "source": [
    "calc_metric_final(useful_stuff)"
   ]
  },
  {
   "cell_type": "code",
   "execution_count": 193,
   "metadata": {},
   "outputs": [],
   "source": [
    "# save model\n",
    "torch.save(model.state_dict(), \"./result/nn_ensemble.pkl\")"
   ]
  },
  {
   "cell_type": "markdown",
   "metadata": {},
   "source": [
    "### learning curve"
   ]
  },
  {
   "cell_type": "code",
   "execution_count": 186,
   "metadata": {},
   "outputs": [],
   "source": [
    "def plot_lc_final(useful_stuff):\n",
    "    \"\"\"\n",
    "    plot learning curve.\n",
    "    \"\"\"\n",
    "    # acc\n",
    "    plt.plot(useful_stuff[\"train_acc\"], label=\"train\")\n",
    "    plt.xlabel(\"epochs\")\n",
    "    plt.ylabel(\"acc\")\n",
    "    plt.title(\"train acc vs epochs\")\n",
    "    plt.grid()\n",
    "    plt.legend()\n",
    "    axes = plt.gca()\n",
    "    axes.set_ylim([0.5, 1])\n",
    "    plt.show()\n",
    "\n",
    "    # loss\n",
    "    plt.plot(useful_stuff[\"train_loss\"], label=\"train\")\n",
    "    plt.xlabel(\"epochs\")\n",
    "    plt.ylabel(\"loss\")\n",
    "    plt.title(\"train loss vs epochs\")\n",
    "    plt.grid()\n",
    "    plt.legend()\n",
    "    axes = plt.gca()\n",
    "    axes.set_ylim([0, 1])\n",
    "    plt.show()"
   ]
  },
  {
   "cell_type": "code",
   "execution_count": 187,
   "metadata": {},
   "outputs": [
    {
     "data": {
      "image/png": "[encoded data removed]",
      "text/plain": [
       "<Figure size 864x576 with 1 Axes>"
      ]
     },
     "metadata": {
      "needs_background": "light"
     },
     "output_type": "display_data"
    },
    {
     "data": {
      "image/png": "[encoded data removed]",
      "text/plain": [
       "<Figure size 864x576 with 1 Axes>"
      ]
     },
     "metadata": {
      "needs_background": "light"
     },
     "output_type": "display_data"
    }
   ],
   "source": [
    "plot_lc_final(useful_stuff)"
   ]
  },
  {
   "cell_type": "markdown",
   "metadata": {},
   "source": [
    "## Prediction"
   ]
  },
  {
   "cell_type": "code",
   "execution_count": 188,
   "metadata": {},
   "outputs": [],
   "source": [
    "import pandas as pd\n",
    "import pickle"
   ]
  },
  {
   "cell_type": "code",
   "execution_count": 194,
   "metadata": {},
   "outputs": [],
   "source": [
    "df1 = pd.read_csv(\n",
    "    os.path.join(\n",
    "        \"result\", \"bert-base-cased_bs_8_epo7\", \"predict\", \"submission_softmax.csv\"\n",
    "    )\n",
    ")\n",
    "df2 = pd.read_csv(\n",
    "    os.path.join(\n",
    "        \"result\", \"roberta-base_bs_8_epo10\", \"predict\", \"submission_softmax.csv\"\n",
    "    )\n",
    ")\n",
    "df3 = pd.read_csv(\n",
    "    os.path.join(\n",
    "        \"result\", \"xlnet-base-cased_bs_8_epo10\", \"predict\", \"submission_softmax.csv\"\n",
    "    )\n",
    ")\n",
    "df4 = pd.read_csv(\n",
    "    os.path.join(\n",
    "        \"result\",\n",
    "        \"google_electra-base-discriminator_bs_8_epo10\",\n",
    "        \"predict\",\n",
    "        \"submission_softmax.csv\",\n",
    "    )\n",
    ")\n",
    "df5 = pd.read_csv(\n",
    "    os.path.join(\n",
    "        \"result\",\n",
    "        \"microsoft_deberta-base_bs_4_epo9\",\n",
    "        \"predict\",\n",
    "        \"submission_softmax.csv\",\n",
    "    )\n",
    ")"
   ]
  },
  {
   "cell_type": "code",
   "execution_count": 195,
   "metadata": {},
   "outputs": [
    {
     "data": {
      "text/html": [
       "<div>\n",
       "<style scoped>\n",
       "    .dataframe tbody tr th:only-of-type {\n",
       "        vertical-align: middle;\n",
       "    }\n",
       "\n",
       "    .dataframe tbody tr th {\n",
       "        vertical-align: top;\n",
       "    }\n",
       "\n",
       "    .dataframe thead th {\n",
       "        text-align: right;\n",
       "    }\n",
       "</style>\n",
       "<table border=\"1\" class=\"dataframe\">\n",
       "  <thead>\n",
       "    <tr style=\"text-align: right;\">\n",
       "      <th></th>\n",
       "      <th>model_1</th>\n",
       "      <th>model_2</th>\n",
       "      <th>model_3</th>\n",
       "      <th>model_4</th>\n",
       "      <th>model_5</th>\n",
       "    </tr>\n",
       "  </thead>\n",
       "  <tbody>\n",
       "    <tr>\n",
       "      <th>0</th>\n",
       "      <td>0.870198</td>\n",
       "      <td>0.003108</td>\n",
       "      <td>0.005370</td>\n",
       "      <td>0.915819</td>\n",
       "      <td>0.000896</td>\n",
       "    </tr>\n",
       "    <tr>\n",
       "      <th>1</th>\n",
       "      <td>0.996770</td>\n",
       "      <td>0.996557</td>\n",
       "      <td>0.998085</td>\n",
       "      <td>0.986279</td>\n",
       "      <td>0.999026</td>\n",
       "    </tr>\n",
       "    <tr>\n",
       "      <th>2</th>\n",
       "      <td>0.010841</td>\n",
       "      <td>0.002949</td>\n",
       "      <td>0.000748</td>\n",
       "      <td>0.002883</td>\n",
       "      <td>0.002021</td>\n",
       "    </tr>\n",
       "    <tr>\n",
       "      <th>3</th>\n",
       "      <td>0.001926</td>\n",
       "      <td>0.002945</td>\n",
       "      <td>0.000840</td>\n",
       "      <td>0.003006</td>\n",
       "      <td>0.000451</td>\n",
       "    </tr>\n",
       "    <tr>\n",
       "      <th>4</th>\n",
       "      <td>0.552396</td>\n",
       "      <td>0.003029</td>\n",
       "      <td>0.993707</td>\n",
       "      <td>0.983890</td>\n",
       "      <td>0.996994</td>\n",
       "    </tr>\n",
       "    <tr>\n",
       "      <th>...</th>\n",
       "      <td>...</td>\n",
       "      <td>...</td>\n",
       "      <td>...</td>\n",
       "      <td>...</td>\n",
       "      <td>...</td>\n",
       "    </tr>\n",
       "    <tr>\n",
       "      <th>29336</th>\n",
       "      <td>0.018053</td>\n",
       "      <td>0.002986</td>\n",
       "      <td>0.004687</td>\n",
       "      <td>0.005666</td>\n",
       "      <td>0.001542</td>\n",
       "    </tr>\n",
       "    <tr>\n",
       "      <th>29337</th>\n",
       "      <td>0.997157</td>\n",
       "      <td>0.996579</td>\n",
       "      <td>0.998256</td>\n",
       "      <td>0.991592</td>\n",
       "      <td>0.999037</td>\n",
       "    </tr>\n",
       "    <tr>\n",
       "      <th>29338</th>\n",
       "      <td>0.004514</td>\n",
       "      <td>0.002961</td>\n",
       "      <td>0.009045</td>\n",
       "      <td>0.003469</td>\n",
       "      <td>0.001509</td>\n",
       "    </tr>\n",
       "    <tr>\n",
       "      <th>29339</th>\n",
       "      <td>0.006023</td>\n",
       "      <td>0.002964</td>\n",
       "      <td>0.000840</td>\n",
       "      <td>0.003573</td>\n",
       "      <td>0.001907</td>\n",
       "    </tr>\n",
       "    <tr>\n",
       "      <th>29340</th>\n",
       "      <td>0.004622</td>\n",
       "      <td>0.002945</td>\n",
       "      <td>0.000779</td>\n",
       "      <td>0.003670</td>\n",
       "      <td>0.000489</td>\n",
       "    </tr>\n",
       "  </tbody>\n",
       "</table>\n",
       "<p>29341 rows × 5 columns</p>\n",
       "</div>"
      ],
      "text/plain": [
       "        model_1   model_2   model_3   model_4   model_5\n",
       "0      0.870198  0.003108  0.005370  0.915819  0.000896\n",
       "1      0.996770  0.996557  0.998085  0.986279  0.999026\n",
       "2      0.010841  0.002949  0.000748  0.002883  0.002021\n",
       "3      0.001926  0.002945  0.000840  0.003006  0.000451\n",
       "4      0.552396  0.003029  0.993707  0.983890  0.996994\n",
       "...         ...       ...       ...       ...       ...\n",
       "29336  0.018053  0.002986  0.004687  0.005666  0.001542\n",
       "29337  0.997157  0.996579  0.998256  0.991592  0.999037\n",
       "29338  0.004514  0.002961  0.009045  0.003469  0.001509\n",
       "29339  0.006023  0.002964  0.000840  0.003573  0.001907\n",
       "29340  0.004622  0.002945  0.000779  0.003670  0.000489\n",
       "\n",
       "[29341 rows x 5 columns]"
      ]
     },
     "execution_count": 195,
     "metadata": {},
     "output_type": "execute_result"
    }
   ],
   "source": [
    "test = pd.DataFrame(\n",
    "    {\n",
    "        \"model_1\": df1[\"sentiment\"],\n",
    "        \"model_2\": df2[\"sentiment\"],\n",
    "        \"model_3\": df3[\"sentiment\"],\n",
    "        \"model_4\": df4[\"sentiment\"],\n",
    "        \"model_5\": df5[\"sentiment\"],\n",
    "    }\n",
    ")\n",
    "test"
   ]
  },
  {
   "cell_type": "code",
   "execution_count": 216,
   "metadata": {},
   "outputs": [],
   "source": [
    "class Data(Dataset):\n",
    "    # Constructor\n",
    "    def __init__(self, X):\n",
    "        self.x = torch.from_numpy(X).float()\n",
    "        self.len = self.x.shape[0]\n",
    "\n",
    "    # Getter\n",
    "    def __getitem__(self, index):\n",
    "        return self.x[index]\n",
    "\n",
    "    # Get Length\n",
    "    def __len__(self):\n",
    "        return self.len"
   ]
  },
  {
   "cell_type": "code",
   "execution_count": 217,
   "metadata": {},
   "outputs": [],
   "source": [
    "dataset = Data(test.values)"
   ]
  },
  {
   "cell_type": "code",
   "execution_count": 218,
   "metadata": {},
   "outputs": [
    {
     "data": {
      "text/plain": [
       "29341"
      ]
     },
     "execution_count": 218,
     "metadata": {},
     "output_type": "execute_result"
    }
   ],
   "source": [
    "len(dataset)"
   ]
  },
  {
   "cell_type": "code",
   "execution_count": 219,
   "metadata": {},
   "outputs": [],
   "source": [
    "test_loader = DataLoader(dataset, shuffle=False, batch_size=64)"
   ]
  },
  {
   "cell_type": "code",
   "execution_count": 221,
   "metadata": {},
   "outputs": [],
   "source": [
    "model.eval()\n",
    "prediction = []\n",
    "with torch.no_grad():\n",
    "    for x in test_loader:\n",
    "        x = x.to(device)\n",
    "        z = model(x)\n",
    "        _, yhat = torch.max(z.data, 1)\n",
    "        prediction.extend(yhat.cpu().tolist())"
   ]
  },
  {
   "cell_type": "code",
   "execution_count": 222,
   "metadata": {},
   "outputs": [
    {
     "data": {
      "text/plain": [
       "29341"
      ]
     },
     "execution_count": 222,
     "metadata": {},
     "output_type": "execute_result"
    }
   ],
   "source": [
    "len(prediction)"
   ]
  },
  {
   "cell_type": "markdown",
   "metadata": {},
   "source": [
    "### submission"
   ]
  },
  {
   "cell_type": "code",
   "execution_count": 226,
   "metadata": {},
   "outputs": [],
   "source": [
    "with open(\"./data/test_rm_br.pkl\", \"rb\") as f:\n",
    "    test = pickle.load(f)"
   ]
  },
  {
   "cell_type": "code",
   "execution_count": 227,
   "metadata": {},
   "outputs": [
    {
     "data": {
      "text/html": [
       "<div>\n",
       "<style scoped>\n",
       "    .dataframe tbody tr th:only-of-type {\n",
       "        vertical-align: middle;\n",
       "    }\n",
       "\n",
       "    .dataframe tbody tr th {\n",
       "        vertical-align: top;\n",
       "    }\n",
       "\n",
       "    .dataframe thead th {\n",
       "        text-align: right;\n",
       "    }\n",
       "</style>\n",
       "<table border=\"1\" class=\"dataframe\">\n",
       "  <thead>\n",
       "    <tr style=\"text-align: right;\">\n",
       "      <th></th>\n",
       "      <th>ID</th>\n",
       "      <th>review</th>\n",
       "    </tr>\n",
       "  </thead>\n",
       "  <tbody>\n",
       "    <tr>\n",
       "      <th>0</th>\n",
       "      <td>22622</td>\n",
       "      <td>Robert Lansing plays a scientist experimenting...</td>\n",
       "    </tr>\n",
       "    <tr>\n",
       "      <th>1</th>\n",
       "      <td>10162</td>\n",
       "      <td>Well I've enjoy this movie, even though someti...</td>\n",
       "    </tr>\n",
       "    <tr>\n",
       "      <th>2</th>\n",
       "      <td>17468</td>\n",
       "      <td>First things first - though I believe Joel Sch...</td>\n",
       "    </tr>\n",
       "    <tr>\n",
       "      <th>3</th>\n",
       "      <td>42579</td>\n",
       "      <td>I watched this movie on the grounds that Amber...</td>\n",
       "    </tr>\n",
       "    <tr>\n",
       "      <th>4</th>\n",
       "      <td>701</td>\n",
       "      <td>A certain sexiness underlines even the dullest...</td>\n",
       "    </tr>\n",
       "    <tr>\n",
       "      <th>...</th>\n",
       "      <td>...</td>\n",
       "      <td>...</td>\n",
       "    </tr>\n",
       "    <tr>\n",
       "      <th>29336</th>\n",
       "      <td>30370</td>\n",
       "      <td>It is difficult to rate a writer/director's fi...</td>\n",
       "    </tr>\n",
       "    <tr>\n",
       "      <th>29337</th>\n",
       "      <td>18654</td>\n",
       "      <td>After watching this movie once, it quickly bec...</td>\n",
       "    </tr>\n",
       "    <tr>\n",
       "      <th>29338</th>\n",
       "      <td>47985</td>\n",
       "      <td>Even though i sat and watched the whole thing,...</td>\n",
       "    </tr>\n",
       "    <tr>\n",
       "      <th>29339</th>\n",
       "      <td>9866</td>\n",
       "      <td>Warning Spoilers following. Superb recreation ...</td>\n",
       "    </tr>\n",
       "    <tr>\n",
       "      <th>29340</th>\n",
       "      <td>35559</td>\n",
       "      <td>My, my, my: Peter Cushing and Donald Pleasance...</td>\n",
       "    </tr>\n",
       "  </tbody>\n",
       "</table>\n",
       "<p>29341 rows × 2 columns</p>\n",
       "</div>"
      ],
      "text/plain": [
       "          ID                                             review\n",
       "0      22622  Robert Lansing plays a scientist experimenting...\n",
       "1      10162  Well I've enjoy this movie, even though someti...\n",
       "2      17468  First things first - though I believe Joel Sch...\n",
       "3      42579  I watched this movie on the grounds that Amber...\n",
       "4        701  A certain sexiness underlines even the dullest...\n",
       "...      ...                                                ...\n",
       "29336  30370  It is difficult to rate a writer/director's fi...\n",
       "29337  18654  After watching this movie once, it quickly bec...\n",
       "29338  47985  Even though i sat and watched the whole thing,...\n",
       "29339   9866  Warning Spoilers following. Superb recreation ...\n",
       "29340  35559  My, my, my: Peter Cushing and Donald Pleasance...\n",
       "\n",
       "[29341 rows x 2 columns]"
      ]
     },
     "execution_count": 227,
     "metadata": {},
     "output_type": "execute_result"
    }
   ],
   "source": [
    "test"
   ]
  },
  {
   "cell_type": "code",
   "execution_count": 229,
   "metadata": {},
   "outputs": [
    {
     "data": {
      "text/html": [
       "<div>\n",
       "<style scoped>\n",
       "    .dataframe tbody tr th:only-of-type {\n",
       "        vertical-align: middle;\n",
       "    }\n",
       "\n",
       "    .dataframe tbody tr th {\n",
       "        vertical-align: top;\n",
       "    }\n",
       "\n",
       "    .dataframe thead th {\n",
       "        text-align: right;\n",
       "    }\n",
       "</style>\n",
       "<table border=\"1\" class=\"dataframe\">\n",
       "  <thead>\n",
       "    <tr style=\"text-align: right;\">\n",
       "      <th></th>\n",
       "      <th>ID</th>\n",
       "      <th>sentiment</th>\n",
       "    </tr>\n",
       "  </thead>\n",
       "  <tbody>\n",
       "    <tr>\n",
       "      <th>0</th>\n",
       "      <td>22622</td>\n",
       "      <td>0</td>\n",
       "    </tr>\n",
       "    <tr>\n",
       "      <th>1</th>\n",
       "      <td>10162</td>\n",
       "      <td>1</td>\n",
       "    </tr>\n",
       "    <tr>\n",
       "      <th>2</th>\n",
       "      <td>17468</td>\n",
       "      <td>0</td>\n",
       "    </tr>\n",
       "    <tr>\n",
       "      <th>3</th>\n",
       "      <td>42579</td>\n",
       "      <td>0</td>\n",
       "    </tr>\n",
       "    <tr>\n",
       "      <th>4</th>\n",
       "      <td>701</td>\n",
       "      <td>1</td>\n",
       "    </tr>\n",
       "    <tr>\n",
       "      <th>...</th>\n",
       "      <td>...</td>\n",
       "      <td>...</td>\n",
       "    </tr>\n",
       "    <tr>\n",
       "      <th>29336</th>\n",
       "      <td>30370</td>\n",
       "      <td>0</td>\n",
       "    </tr>\n",
       "    <tr>\n",
       "      <th>29337</th>\n",
       "      <td>18654</td>\n",
       "      <td>1</td>\n",
       "    </tr>\n",
       "    <tr>\n",
       "      <th>29338</th>\n",
       "      <td>47985</td>\n",
       "      <td>0</td>\n",
       "    </tr>\n",
       "    <tr>\n",
       "      <th>29339</th>\n",
       "      <td>9866</td>\n",
       "      <td>0</td>\n",
       "    </tr>\n",
       "    <tr>\n",
       "      <th>29340</th>\n",
       "      <td>35559</td>\n",
       "      <td>0</td>\n",
       "    </tr>\n",
       "  </tbody>\n",
       "</table>\n",
       "<p>29341 rows × 2 columns</p>\n",
       "</div>"
      ],
      "text/plain": [
       "          ID  sentiment\n",
       "0      22622          0\n",
       "1      10162          1\n",
       "2      17468          0\n",
       "3      42579          0\n",
       "4        701          1\n",
       "...      ...        ...\n",
       "29336  30370          0\n",
       "29337  18654          1\n",
       "29338  47985          0\n",
       "29339   9866          0\n",
       "29340  35559          0\n",
       "\n",
       "[29341 rows x 2 columns]"
      ]
     },
     "execution_count": 229,
     "metadata": {},
     "output_type": "execute_result"
    }
   ],
   "source": [
    "df = pd.DataFrame({\"ID\":test.ID, \"sentiment\":prediction})\n",
    "df"
   ]
  },
  {
   "cell_type": "code",
   "execution_count": 230,
   "metadata": {},
   "outputs": [],
   "source": [
    "df.to_csv('./result/nn_ensemble.csv', index=False, encoding='utf-8')"
   ]
  },
  {
   "cell_type": "code",
   "execution_count": null,
   "metadata": {},
   "outputs": [],
   "source": []
  }
 ],
 "metadata": {
  "kernelspec": {
   "display_name": "Python 3",
   "language": "python",
   "name": "python3"
  },
  "language_info": {
   "codemirror_mode": {
    "name": "ipython",
    "version": 3
   },
   "file_extension": ".py",
   "mimetype": "text/x-python",
   "name": "python",
   "nbconvert_exporter": "python",
   "pygments_lexer": "ipython3",
   "version": "3.8.6"
  },
  "toc": {
   "base_numbering": 1,
   "nav_menu": {},
   "number_sections": true,
   "sideBar": true,
   "skip_h1_title": true,
   "title_cell": "Table of Contents",
   "title_sidebar": "Contents",
   "toc_cell": false,
   "toc_position": {},
   "toc_section_display": true,
   "toc_window_display": false
  }
 },
 "nbformat": 4,
 "nbformat_minor": 5
}
