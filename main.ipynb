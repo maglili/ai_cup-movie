{
 "cells": [
  {
   "cell_type": "markdown",
   "metadata": {},
   "source": [
    "# Main"
   ]
  },
  {
   "cell_type": "markdown",
   "metadata": {},
   "source": [
    "## Train"
   ]
  },
  {
   "cell_type": "code",
   "execution_count": 1,
   "metadata": {},
   "outputs": [],
   "source": [
    "model_name = \"bert-base-cased\"\n",
    "epochs = 3\n",
    "batch_size = 4"
   ]
  },
  {
   "cell_type": "code",
   "execution_count": 3,
   "metadata": {},
   "outputs": [
    {
     "name": "stdout",
     "output_type": "stream",
     "text": [
      "No GPU available, using the CPU instead.\n",
      "==========\n",
      "\n",
      "cwd: D:\\user\\Documents\\N26091194\\Projects\\ai_cup-movie\n",
      "metric_path: D:\\user\\Documents\\N26091194\\Projects\\ai_cup-movie\\result\\bert-base-cased_bs_4_epo3\\train\\metrics\n",
      "model_path: D:\\user\\Documents\\N26091194\\Projects\\ai_cup-movie\\result\\bert-base-cased_bs_4_epo3\\train\\model\n",
      "history_path: D:\\user\\Documents\\N26091194\\Projects\\ai_cup-movie\\result\\bert-base-cased_bs_4_epo3\\train\\history\n",
      "fig_path: D:\\user\\Documents\\N26091194\\Projects\\ai_cup-movie\\result\\bert-base-cased_bs_4_epo3\\train\\figures\n"
     ]
    }
   ],
   "source": [
    "# load basic library\n",
    "import os\n",
    "import random\n",
    "import numpy as np\n",
    "import pickle\n",
    "from tqdm import tqdm\n",
    "\n",
    "# load torch library\n",
    "import torch\n",
    "import torch.nn.functional as F\n",
    "from torch.utils.data import Dataset, DataLoader, TensorDataset\n",
    "from transformers import (\n",
    "    AutoTokenizer,\n",
    "    AutoModelForSequenceClassification,\n",
    "    AdamW,\n",
    "    get_linear_schedule_with_warmup,\n",
    ")\n",
    "\n",
    "# custum module\n",
    "from tools import *\n",
    "\n",
    "# keep reandom seed\n",
    "seed_val = 0\n",
    "random.seed(seed_val)\n",
    "np.random.seed(seed_val)\n",
    "torch.manual_seed(seed_val)\n",
    "\n",
    "# check gpu\n",
    "device = get_device()\n",
    "\n",
    "# setting path\n",
    "metric_path, model_path, history_path, fig_path = setting_path(\n",
    "    model_name, batch_size, epochs, mode=\"train\"\n",
    ")\n",
    "\n",
    "# load data\n",
    "# path = \"./data/5_fold\"\n",
    "# with open(os.path.join(path, \"X_tr_list.pkl\"), \"rb\") as f:\n",
    "#     X_tr_list = pickle.load(f)\n",
    "# with open(os.path.join(path, \"X_va_list.pkl\"), \"rb\") as f:\n",
    "#     X_va_list = pickle.load(f)\n",
    "# with open(os.path.join(path, \"y_tr_list.pkl\"), \"rb\") as f:\n",
    "#     y_tr_list = pickle.load(f)\n",
    "# with open(os.path.join(path, \"y_va_list.pkl\"), \"rb\") as f:\n",
    "#     y_va_list = pickle.load(f)\n",
    "\n",
    "path = \"./data/train_valid_split/level_1/\"\n",
    "with open(os.path.join(path, \"X_tr.pkl\"), \"rb\") as f:\n",
    "    X_tr = pickle.load(f)\n",
    "with open(os.path.join(path, \"X_va.pkl\"), \"rb\") as f:\n",
    "    X_va = pickle.load(f)\n",
    "with open(os.path.join(path, \"y_tr.pkl\"), \"rb\") as f:\n",
    "    y_tr = pickle.load(f)\n",
    "with open(os.path.join(path, \"y_va.pkl\"), \"rb\") as f:\n",
    "    y_va = pickle.load(f)"
   ]
  },
  {
   "cell_type": "code",
   "execution_count": 4,
   "metadata": {},
   "outputs": [],
   "source": [
    "X_tr = X_tr[:50]\n",
    "X_va = X_va[:10]\n",
    "y_tr = y_tr[:50]\n",
    "y_va = y_va[:10]"
   ]
  },
  {
   "cell_type": "markdown",
   "metadata": {},
   "source": [
    "### tokenizing"
   ]
  },
  {
   "cell_type": "code",
   "execution_count": 5,
   "metadata": {},
   "outputs": [],
   "source": [
    "# tokenize\n",
    "tokenizer = AutoTokenizer.from_pretrained(model_name, do_lower_case=False)\n",
    "\n",
    "# 5-fold, max_len = 400\n",
    "# (\n",
    "#     input_ids_tr_dict,\n",
    "#     attention_masks_tr_dict,\n",
    "#     labels_tr_dict,\n",
    "# ) = tokenizing_for_cv(X_tr_list, y_tr_list, tokenizer)\n",
    "\n",
    "# input_ids_va_dict, attention_masks_va_dict, labels_va_dict = tokenizing_for_cv(\n",
    "#     X_va_list, y_va_list, tokenizer, train=False\n",
    "# )\n",
    "\n",
    "# Hold-out, max_len = 400\n",
    "input_ids_tr, attention_masks_tr, labels_tr = tokenizing(\n",
    "    X_tr.values, y_tr.values, tokenizer\n",
    ")\n",
    "input_ids_va, attention_masks_va, labels_va = tokenizing(\n",
    "    X_va.values, y_va.values, tokenizer\n",
    ")"
   ]
  },
  {
   "cell_type": "code",
   "execution_count": 6,
   "metadata": {},
   "outputs": [
    {
     "data": {
      "text/plain": [
       "torch.Size([50, 400])"
      ]
     },
     "execution_count": 6,
     "metadata": {},
     "output_type": "execute_result"
    }
   ],
   "source": [
    "input_ids_tr.shape"
   ]
  },
  {
   "cell_type": "markdown",
   "metadata": {},
   "source": [
    "check average token length"
   ]
  },
  {
   "cell_type": "markdown",
   "metadata": {},
   "source": [
    "**max_len = 512:**\n",
    "\n",
    "```python\n",
    "print(np.mean(token_length))\n",
    "print(np.max(token_length))\n",
    "print(np.min(token_length))\n",
    "print(np.std(token_length))\n",
    "```\n",
    "\n",
    "```text\n",
    "231.8667348329925\n",
    "512\n",
    "4\n",
    "153.99549015975495\n",
    "```\n",
    "\n",
    "**max_len = 400:**\n",
    "\n",
    "```python\n",
    "print(np.mean(token_length))\n",
    "print(np.max(token_length))\n",
    "print(np.min(token_length))\n",
    "print(np.std(token_length))\n",
    "```\n",
    "\n",
    "```text\n",
    "215.33452624403546\n",
    "400\n",
    "4\n",
    "127.15932762513401\n",
    "```\n"
   ]
  },
  {
   "cell_type": "markdown",
   "metadata": {},
   "source": [
    "### dataset"
   ]
  },
  {
   "cell_type": "code",
   "execution_count": 7,
   "metadata": {},
   "outputs": [],
   "source": [
    "# 5-fold dataset\n",
    "# tr_set = []\n",
    "# va_set = []\n",
    "# for idx in range(len(input_ids_tr_dict)):\n",
    "#     tr_set.append(\n",
    "#         TensorDataset(\n",
    "#             input_ids_tr_dict[\"tr_\" + str(idx)],\n",
    "#             attention_masks_tr_dict[\"tr_\" + str(idx)],\n",
    "#             labels_tr_dict[\"tr_\" + str(idx)],\n",
    "#         )\n",
    "#     )\n",
    "#     va_set.append(\n",
    "#         TensorDataset(\n",
    "#             input_ids_va_dict[\"va_\" + str(idx)],\n",
    "#             attention_masks_va_dict[\"va_\" + str(idx)],\n",
    "#             labels_va_dict[\"va_\" + str(idx)],\n",
    "#         )\n",
    "#     )\n",
    "\n",
    "# Holdout dataset\n",
    "Trainset = TensorDataset(input_ids_tr, attention_masks_tr, labels_tr)\n",
    "Validset = TensorDataset(input_ids_va, attention_masks_va, labels_va)"
   ]
  },
  {
   "cell_type": "markdown",
   "metadata": {},
   "source": [
    "### training"
   ]
  },
  {
   "cell_type": "code",
   "execution_count": 8,
   "metadata": {},
   "outputs": [],
   "source": [
    "# 5-fold training\n",
    "# training_hist = []\n",
    "\n",
    "# for fold in tqdm(range(len(tr_set))):\n",
    "\n",
    "#     model = AutoModelForSequenceClassification.from_pretrained(\n",
    "#         model_name,\n",
    "#         num_labels=2,\n",
    "#         output_attentions=False,\n",
    "#         output_hidden_states=False,\n",
    "#         hidden_dropout_prob=0.35,\n",
    "#         attention_probs_dropout_prob=0.25,\n",
    "#     )\n",
    "#     model.to(device)\n",
    "\n",
    "#     # This code is taken from:\n",
    "#     # https://github.com/huggingface/transformers/blob/5bfcd0485ece086ebcbed2d008813037968a9e58/examples/run_glue.py#L102\n",
    "\n",
    "#     # Don't apply weight decay to any parameters whose names include these tokens.\n",
    "#     # (Here, the BERT doesn't have `gamma` or `beta` parameters, only `bias` terms)\n",
    "#     no_decay = [\"bias\", \"LayerNorm.weight\"]\n",
    "\n",
    "#     # Separate the `weight` parameters from the `bias` parameters.\n",
    "#     # - For the `weight` parameters, this specifies a 'weight_decay_rate' of 0.01.\n",
    "#     # - For the `bias` parameters, the 'weight_decay_rate' is 0.0.\n",
    "#     optimizer_grouped_parameters = [\n",
    "#         # Filter for all parameters which *don't* include 'bias', 'gamma', 'beta'.\n",
    "#         {\n",
    "#             \"params\": [\n",
    "#                 p\n",
    "#                 for n, p in model.named_parameters()\n",
    "#                 if not any(nd in n for nd in no_decay)\n",
    "#             ],\n",
    "#             \"weight_decay_rate\": 0.1,\n",
    "#         },\n",
    "#         # Filter for parameters which *do* include those.\n",
    "#         {\n",
    "#             \"params\": [\n",
    "#                 p\n",
    "#                 for n, p in model.named_parameters()\n",
    "#                 if any(nd in n for nd in no_decay)\n",
    "#             ],\n",
    "#             \"weight_decay_rate\": 0.0,\n",
    "#         },\n",
    "#     ]\n",
    "\n",
    "#     # Note - `optimizer_grouped_parameters` only includes the parameter values, not\n",
    "#     # the names.\n",
    "\n",
    "#     N_train = len(tr_set[fold])\n",
    "#     N_test = len(va_set[fold])\n",
    "#     print(\"\\n[Fold]:\", fold)\n",
    "#     print(\"Num of train samples:\", N_train)\n",
    "#     print(\"Num of valid samples:\", N_test)\n",
    "#     print()\n",
    "\n",
    "#     optimizer = AdamW(\n",
    "#         optimizer_grouped_parameters,\n",
    "#         lr=4e-5,  # args.learning_rate - default is 5e-5, our notebook had 2e-5\n",
    "#     )\n",
    "\n",
    "#     train_loader = DataLoader(tr_set[fold], shuffle=True, batch_size=batch_size)\n",
    "\n",
    "#     valid_loader = DataLoader(va_set[fold], shuffle=False, batch_size=batch_size)\n",
    "\n",
    "#     # Total number of training steps is [number of batches] x [number of epochs].\n",
    "#     # (Note that this is not the same as the number of training samples).\n",
    "#     total_steps = len(train_loader) * epochs\n",
    "\n",
    "#     scheduler = get_linear_schedule_with_warmup(\n",
    "#         optimizer, num_warmup_steps=total_steps * 0.1, num_training_steps=total_steps\n",
    "#     )\n",
    "\n",
    "#     history, best_epoch = train_model(\n",
    "#         model=model,\n",
    "#         train_loader=train_loader,\n",
    "#         valid_loader=valid_loader,\n",
    "#         optimizer=optimizer,\n",
    "#         N_train=N_train,\n",
    "#         N_test=N_test,\n",
    "#         device=device,\n",
    "#         scheduler=scheduler,\n",
    "#         path=model_path,\n",
    "#         epochs=epochs,\n",
    "#         patience=3,\n",
    "#     )\n",
    "\n",
    "#     training_hist.append(history)\n",
    "#     print(\"*\" * 25)\n",
    "#     print(\"*\" * 25)\n",
    "#     print(\"*\" * 25)\n",
    "#     break"
   ]
  },
  {
   "cell_type": "code",
   "execution_count": 9,
   "metadata": {},
   "outputs": [
    {
     "name": "stderr",
     "output_type": "stream",
     "text": [
      "Some weights of the model checkpoint at bert-base-cased were not used when initializing BertForSequenceClassification: ['cls.predictions.bias', 'cls.predictions.transform.dense.weight', 'cls.predictions.transform.dense.bias', 'cls.predictions.decoder.weight', 'cls.seq_relationship.weight', 'cls.seq_relationship.bias', 'cls.predictions.transform.LayerNorm.weight', 'cls.predictions.transform.LayerNorm.bias']\n",
      "- This IS expected if you are initializing BertForSequenceClassification from the checkpoint of a model trained on another task or with another architecture (e.g. initializing a BertForSequenceClassification model from a BertForPretraining model).\n",
      "- This IS NOT expected if you are initializing BertForSequenceClassification from the checkpoint of a model that you expect to be exactly identical (initializing a BertForSequenceClassification model from a BertForSequenceClassification model).\n",
      "Some weights of BertForSequenceClassification were not initialized from the model checkpoint at bert-base-cased and are newly initialized: ['classifier.weight', 'classifier.bias']\n",
      "You should probably TRAIN this model on a down-stream task to be able to use it for predictions and inference.\n"
     ]
    },
    {
     "name": "stdout",
     "output_type": "stream",
     "text": [
      "Num of train samples: 50\n",
      "Num of valid samples: 10\n",
      "\n",
      "training loss: 0.70\n",
      "training acc: 0.54\n",
      "-------------------------\n",
      "train loss: 0.68\n",
      "train acc: 0.54\n",
      "-------------------------\n",
      "valid loss: 0.73\n",
      "valid acc: 0.20\n",
      "-------------------------\n",
      "Validation loss decreased (inf --> 0.731871).  Saving model ...\n",
      "=========================\n",
      "training loss: 0.70\n",
      "training acc: 0.56\n",
      "-------------------------\n",
      "train loss: 0.67\n",
      "train acc: 0.56\n",
      "-------------------------\n",
      "valid loss: 0.72\n",
      "valid acc: 0.20\n",
      "-------------------------\n",
      "Validation loss decreased (0.731871 --> 0.720729).  Saving model ...\n",
      "=========================\n",
      "training loss: 0.71\n",
      "training acc: 0.52\n",
      "-------------------------\n",
      "train loss: 0.66\n",
      "train acc: 0.54\n",
      "-------------------------\n",
      "valid loss: 0.73\n",
      "valid acc: 0.20\n",
      "-------------------------\n",
      "EarlyStopping counter: 1 out of 3\n",
      "=========================\n"
     ]
    }
   ],
   "source": [
    "model = AutoModelForSequenceClassification.from_pretrained(\n",
    "    model_name,\n",
    "    num_labels=2,\n",
    "    output_attentions=False,\n",
    "    output_hidden_states=False,\n",
    "    hidden_dropout_prob=0.35,\n",
    "    attention_probs_dropout_prob=0.25,\n",
    ")\n",
    "model.to(device)\n",
    "\n",
    "# This code is taken from:\n",
    "# https://github.com/huggingface/transformers/blob/5bfcd0485ece086ebcbed2d008813037968a9e58/examples/run_glue.py#L102\n",
    "\n",
    "# Don't apply weight decay to any parameters whose names include these tokens.\n",
    "# (Here, the BERT doesn't have `gamma` or `beta` parameters, only `bias` terms)\n",
    "no_decay = [\"bias\", \"LayerNorm.weight\"]\n",
    "\n",
    "# Separate the `weight` parameters from the `bias` parameters.\n",
    "# - For the `weight` parameters, this specifies a 'weight_decay_rate' of 0.01.\n",
    "# - For the `bias` parameters, the 'weight_decay_rate' is 0.0.\n",
    "optimizer_grouped_parameters = [\n",
    "    # Filter for all parameters which *don't* include 'bias', 'gamma', 'beta'.\n",
    "    {\n",
    "        \"params\": [\n",
    "            p\n",
    "            for n, p in model.named_parameters()\n",
    "            if not any(nd in n for nd in no_decay)\n",
    "        ],\n",
    "        \"weight_decay_rate\": 0.01,\n",
    "    },\n",
    "    # Filter for parameters which *do* include those.\n",
    "    {\n",
    "        \"params\": [\n",
    "            p for n, p in model.named_parameters() if any(nd in n for nd in no_decay)\n",
    "        ],\n",
    "        \"weight_decay_rate\": 0.0,\n",
    "    },\n",
    "]\n",
    "\n",
    "# Note - `optimizer_grouped_parameters` only includes the parameter values, not\n",
    "# the names.\n",
    "\n",
    "N_train = len(Trainset)\n",
    "N_test = len(Validset)\n",
    "print(\"Num of train samples:\", N_train)\n",
    "print(\"Num of valid samples:\", N_test)\n",
    "print()\n",
    "\n",
    "optimizer = AdamW(\n",
    "    optimizer_grouped_parameters,\n",
    "    lr=4e-5,  # args.learning_rate - default is 5e-5, our notebook had 2e-5\n",
    ")\n",
    "\n",
    "train_loader = DataLoader(Trainset, shuffle=True, batch_size=batch_size)\n",
    "\n",
    "valid_loader = DataLoader(Validset, shuffle=False, batch_size=batch_size)\n",
    "\n",
    "# Total number of training steps is [number of batches] x [number of epochs].\n",
    "# (Note that this is not the same as the number of training samples).\n",
    "total_steps = len(train_loader) * epochs\n",
    "\n",
    "scheduler = get_linear_schedule_with_warmup(\n",
    "    optimizer, num_warmup_steps=total_steps * 0.1, num_training_steps=total_steps\n",
    ")\n",
    "\n",
    "history, best_epoch = train_model(\n",
    "    model=model,\n",
    "    train_loader=train_loader,\n",
    "    valid_loader=valid_loader,\n",
    "    optimizer=optimizer,\n",
    "    N_train=N_train,\n",
    "    N_test=N_test,\n",
    "    device=device,\n",
    "    scheduler=scheduler,\n",
    "    path=model_path,\n",
    "    epochs=epochs,\n",
    "    patience=3,\n",
    ")"
   ]
  },
  {
   "cell_type": "code",
   "execution_count": 11,
   "metadata": {},
   "outputs": [],
   "source": [
    "# # save trainin_history\n",
    "# with open(os.path.join(history_path, \"hist.pkl\"), \"wb\") as f:\n",
    "#     pickle.dump(training_hist, f)"
   ]
  },
  {
   "cell_type": "code",
   "execution_count": 13,
   "metadata": {},
   "outputs": [
    {
     "name": "stdout",
     "output_type": "stream",
     "text": [
      "\n",
      "[train average]\n",
      "\n",
      "ACC: 0.54\n",
      "LOSS: 0.66\n",
      "\n",
      "Recall: 0.0\n",
      "Specificity: 1.0\n",
      "Precision: 0.0\n",
      "NPV: 0.54\n",
      "\n",
      "F1: 0.0\n",
      "MCC: 0.0\n",
      "AUC: 0.85\n",
      "\n",
      "\n",
      "[valid average]\n",
      "\n",
      "ACC: 0.2\n",
      "LOSS: 0.73\n",
      "\n",
      "Recall: 0.0\n",
      "Specificity: 1.0\n",
      "Precision: 0.0\n",
      "NPV: 0.2\n",
      "\n",
      "F1: 0.0\n",
      "MCC: 0.0\n",
      "AUC: 1.0\n",
      "\n"
     ]
    }
   ],
   "source": [
    "final_metric(history, path=metric_path, mtype=\"train\")\n",
    "final_metric(history, path=metric_path, mtype=\"valid\")"
   ]
  },
  {
   "cell_type": "code",
   "execution_count": 14,
   "metadata": {},
   "outputs": [
    {
     "name": "stdout",
     "output_type": "stream",
     "text": [
      "***Best epoch***\n",
      "\n",
      "[train average]\n",
      "\n",
      "ACC: 0.56\n",
      "LOSS: 0.67\n",
      "\n",
      "Recall: 0.043\n",
      "Specificity: 1.0\n",
      "Precision: 1.0\n",
      "NPV: 0.55\n",
      "\n",
      "F1: 0.083\n",
      "MCC: 0.15\n",
      "AUC: 0.81\n",
      "\n",
      "***Best epoch***\n",
      "\n",
      "[valid average]\n",
      "\n",
      "ACC: 0.2\n",
      "LOSS: 0.72\n",
      "\n",
      "Recall: 0.0\n",
      "Specificity: 1.0\n",
      "Precision: 0.0\n",
      "NPV: 0.2\n",
      "\n",
      "F1: 0.0\n",
      "MCC: 0.0\n",
      "AUC: 1.0\n",
      "\n"
     ]
    }
   ],
   "source": [
    "final_metric(history, path=metric_path, mtype=\"train\", best_epoch=best_epoch)\n",
    "final_metric(history, path=metric_path, mtype=\"valid\", best_epoch=best_epoch)"
   ]
  },
  {
   "cell_type": "code",
   "execution_count": 18,
   "metadata": {},
   "outputs": [],
   "source": [
    "plot_figure(history, fig_path)"
   ]
  },
  {
   "cell_type": "code",
   "execution_count": 25,
   "metadata": {},
   "outputs": [],
   "source": [
    "plot_figure(history, fig_path, best_epoch)"
   ]
  },
  {
   "cell_type": "markdown",
   "metadata": {},
   "source": [
    "# Evaluate on test"
   ]
  },
  {
   "cell_type": "code",
   "execution_count": 72,
   "metadata": {},
   "outputs": [],
   "source": [
    "# load data\n",
    "with open(\"./data/pkl/X_test.pkl\", \"rb\") as f:\n",
    "    X_test = pickle.load(f)\n",
    "with open(\"./data/pkl/y_test.pkl\", \"rb\") as f:\n",
    "    y_test = pickle.load(f)"
   ]
  },
  {
   "cell_type": "code",
   "execution_count": 73,
   "metadata": {},
   "outputs": [
    {
     "data": {
      "text/plain": [
       "20892    A student filmmaker enlists a B-grade actress ...\n",
       "13280    This movie has a \"big production\" feel that I ...\n",
       "29002    A vampire's's henchman wants to call her after...\n",
       "6858     Don't get me wrong, I assumed this movie would...\n",
       "21664    Swedish action movies have over the past few y...\n",
       "                               ...                        \n",
       "12939    \"Three Daring Daughters\" is a sickly sweet, ro...\n",
       "20460    I too am a House Party Fan...House Party I is ...\n",
       "9273     I just came back from a pre-release viewing of...\n",
       "6213     This is a very intriguing short movie by David...\n",
       "29034    Yes, that's right, it is. I firmly believe tha...\n",
       "Name: review, Length: 5869, dtype: object"
      ]
     },
     "execution_count": 73,
     "metadata": {},
     "output_type": "execute_result"
    }
   ],
   "source": [
    "X_test"
   ]
  },
  {
   "cell_type": "code",
   "execution_count": 74,
   "metadata": {},
   "outputs": [
    {
     "data": {
      "text/plain": [
       "20892    0\n",
       "13280    1\n",
       "29002    0\n",
       "6858     0\n",
       "21664    0\n",
       "        ..\n",
       "12939    0\n",
       "20460    0\n",
       "9273     1\n",
       "6213     1\n",
       "29034    1\n",
       "Name: sentiment, Length: 5869, dtype: int64"
      ]
     },
     "execution_count": 74,
     "metadata": {},
     "output_type": "execute_result"
    }
   ],
   "source": [
    "y_test"
   ]
  },
  {
   "cell_type": "code",
   "execution_count": 105,
   "metadata": {},
   "outputs": [],
   "source": [
    "model_name = \"bert-base-cased\""
   ]
  },
  {
   "cell_type": "code",
   "execution_count": 108,
   "metadata": {},
   "outputs": [
    {
     "name": "stdout",
     "output_type": "stream",
     "text": [
      "cwd /home/lichang/projects/ai_cup-movie\n",
      "metric_path: /home/lichang/projects/ai_cup-movie/result/bert-base-cased_bs_8_epo4/test/metrics\n",
      "model_path: /home/lichang/projects/ai_cup-movie/result/bert-base-cased_bs_8_epo4/test/model\n",
      "history_path: /home/lichang/projects/ai_cup-movie/result/bert-base-cased_bs_8_epo4/test/history\n",
      "fig_path: /home/lichang/projects/ai_cup-movie/result/bert-base-cased_bs_8_epo4/test/figures\n"
     ]
    }
   ],
   "source": [
    "metric_path, _, history_path, fig_path = setting_path(\n",
    "    model_name, batch_size, epochs, mode=\"test\"\n",
    ")"
   ]
  },
  {
   "cell_type": "code",
   "execution_count": 77,
   "metadata": {},
   "outputs": [],
   "source": [
    "# tokenize\n",
    "tokenizer = AutoTokenizer.from_pretrained(model_name, do_lower_case=False)"
   ]
  },
  {
   "cell_type": "code",
   "execution_count": 88,
   "metadata": {},
   "outputs": [
    {
     "name": "stdout",
     "output_type": "stream",
     "text": [
      "tokenizing for bert input\n"
     ]
    }
   ],
   "source": [
    "input_ids_te, attention_masks_te, labels_te = tokenizing_for_bert_eval(\n",
    "    X_test.values, y_test.values, tokenizer\n",
    ")"
   ]
  },
  {
   "cell_type": "code",
   "execution_count": 89,
   "metadata": {},
   "outputs": [],
   "source": [
    "testdataset = TensorDataset(input_ids_te, attention_masks_te, labels_te)"
   ]
  },
  {
   "cell_type": "code",
   "execution_count": 91,
   "metadata": {},
   "outputs": [
    {
     "data": {
      "text/plain": [
       "5869"
      ]
     },
     "execution_count": 91,
     "metadata": {},
     "output_type": "execute_result"
    }
   ],
   "source": [
    "len(testdataset)"
   ]
  },
  {
   "cell_type": "code",
   "execution_count": 90,
   "metadata": {},
   "outputs": [
    {
     "name": "stderr",
     "output_type": "stream",
     "text": [
      "Some weights of the model checkpoint at bert-base-cased were not used when initializing BertForSequenceClassification: ['cls.predictions.bias', 'cls.predictions.transform.dense.weight', 'cls.predictions.transform.dense.bias', 'cls.predictions.decoder.weight', 'cls.seq_relationship.weight', 'cls.seq_relationship.bias', 'cls.predictions.transform.LayerNorm.weight', 'cls.predictions.transform.LayerNorm.bias']\n",
      "- This IS expected if you are initializing BertForSequenceClassification from the checkpoint of a model trained on another task or with another architecture (e.g. initializing a BertForSequenceClassification model from a BertForPreTraining model).\n",
      "- This IS NOT expected if you are initializing BertForSequenceClassification from the checkpoint of a model that you expect to be exactly identical (initializing a BertForSequenceClassification model from a BertForSequenceClassification model).\n",
      "Some weights of BertForSequenceClassification were not initialized from the model checkpoint at bert-base-cased and are newly initialized: ['classifier.weight', 'classifier.bias']\n",
      "You should probably TRAIN this model on a down-stream task to be able to use it for predictions and inference.\n"
     ]
    },
    {
     "data": {
      "text/plain": [
       "<All keys matched successfully>"
      ]
     },
     "execution_count": 90,
     "metadata": {},
     "output_type": "execute_result"
    }
   ],
   "source": [
    "model = AutoModelForSequenceClassification.from_pretrained(\n",
    "    model_name,\n",
    "    num_labels=2,\n",
    "    output_attentions=False,\n",
    "    output_hidden_states=False,\n",
    "    hidden_dropout_prob=0.4,\n",
    "    attention_probs_dropout_prob=0.25,\n",
    ")\n",
    "model.to(device)\n",
    "\n",
    "PATH = \"./result/bert-base-cased_bs_8_epo4/model/model.pkl\"\n",
    "model.load_state_dict(torch.load(PATH))"
   ]
  },
  {
   "cell_type": "code",
   "execution_count": 101,
   "metadata": {},
   "outputs": [
    {
     "name": "stdout",
     "output_type": "stream",
     "text": [
      "test loss: 0.43\n",
      "test acc: 0.91\n",
      "-------------------------\n"
     ]
    }
   ],
   "source": [
    "training_hist = []\n",
    "\n",
    "N_test = len(testdataset)\n",
    "\n",
    "test_loader = DataLoader(testdataset, shuffle=False, batch_size=16)\n",
    "\n",
    "history = eval_data(\n",
    "    model=model,\n",
    "    test_loader=test_loader,\n",
    "    N_test=N_test,\n",
    "    device=device,\n",
    ")\n",
    "\n",
    "training_hist.append(history)"
   ]
  },
  {
   "cell_type": "code",
   "execution_count": 111,
   "metadata": {},
   "outputs": [],
   "source": [
    "# save trainin_history\n",
    "with open(os.path.join(history_path, \"hist.pkl\"), \"wb\") as f:\n",
    "    pickle.dump(training_hist, f)"
   ]
  },
  {
   "cell_type": "code",
   "execution_count": 112,
   "metadata": {},
   "outputs": [
    {
     "name": "stdout",
     "output_type": "stream",
     "text": [
      "\n",
      "[test average]\n",
      "\n",
      "ACC: 0.91\n",
      "LOSS: 0.43\n",
      "\n",
      "Recall: 0.93\n",
      "Specificity: 0.9\n",
      "Precision: 0.9\n",
      "NPV: 0.92\n",
      "\n",
      "F1: 0.92\n",
      "MCC: 0.83\n",
      "AUC: 0.97\n",
      "\n"
     ]
    }
   ],
   "source": [
    "final_metric(training_hist, metric_path=metric_path, mtype=\"test\")"
   ]
  },
  {
   "cell_type": "markdown",
   "metadata": {},
   "source": [
    "# Prediction"
   ]
  },
  {
   "cell_type": "code",
   "execution_count": 115,
   "metadata": {},
   "outputs": [],
   "source": [
    "with open(\"./data/pkl/test_new.pkl\", \"rb\") as f:\n",
    "    test = pickle.load(f)"
   ]
  },
  {
   "cell_type": "code",
   "execution_count": 116,
   "metadata": {},
   "outputs": [
    {
     "data": {
      "text/html": [
       "<div>\n",
       "<style scoped>\n",
       "    .dataframe tbody tr th:only-of-type {\n",
       "        vertical-align: middle;\n",
       "    }\n",
       "\n",
       "    .dataframe tbody tr th {\n",
       "        vertical-align: top;\n",
       "    }\n",
       "\n",
       "    .dataframe thead th {\n",
       "        text-align: right;\n",
       "    }\n",
       "</style>\n",
       "<table border=\"1\" class=\"dataframe\">\n",
       "  <thead>\n",
       "    <tr style=\"text-align: right;\">\n",
       "      <th></th>\n",
       "      <th>ID</th>\n",
       "      <th>review</th>\n",
       "    </tr>\n",
       "  </thead>\n",
       "  <tbody>\n",
       "    <tr>\n",
       "      <th>0</th>\n",
       "      <td>22622</td>\n",
       "      <td>Robert Lansing plays a scientist experimenting...</td>\n",
       "    </tr>\n",
       "    <tr>\n",
       "      <th>1</th>\n",
       "      <td>10162</td>\n",
       "      <td>Well I've enjoy this movie, even though someti...</td>\n",
       "    </tr>\n",
       "    <tr>\n",
       "      <th>2</th>\n",
       "      <td>17468</td>\n",
       "      <td>First things first - though I believe Joel Sch...</td>\n",
       "    </tr>\n",
       "    <tr>\n",
       "      <th>3</th>\n",
       "      <td>42579</td>\n",
       "      <td>I watched this movie on the grounds that Amber...</td>\n",
       "    </tr>\n",
       "    <tr>\n",
       "      <th>4</th>\n",
       "      <td>701</td>\n",
       "      <td>A certain sexiness underlines even the dullest...</td>\n",
       "    </tr>\n",
       "    <tr>\n",
       "      <th>...</th>\n",
       "      <td>...</td>\n",
       "      <td>...</td>\n",
       "    </tr>\n",
       "    <tr>\n",
       "      <th>29336</th>\n",
       "      <td>30370</td>\n",
       "      <td>It is difficult to rate a writer/director's fi...</td>\n",
       "    </tr>\n",
       "    <tr>\n",
       "      <th>29337</th>\n",
       "      <td>18654</td>\n",
       "      <td>After watching this movie once, it quickly bec...</td>\n",
       "    </tr>\n",
       "    <tr>\n",
       "      <th>29338</th>\n",
       "      <td>47985</td>\n",
       "      <td>Even though i sat and watched the whole thing,...</td>\n",
       "    </tr>\n",
       "    <tr>\n",
       "      <th>29339</th>\n",
       "      <td>9866</td>\n",
       "      <td>Warning Spoilers following. Superb recreation ...</td>\n",
       "    </tr>\n",
       "    <tr>\n",
       "      <th>29340</th>\n",
       "      <td>35559</td>\n",
       "      <td>My, my, my: Peter Cushing and Donald Pleasance...</td>\n",
       "    </tr>\n",
       "  </tbody>\n",
       "</table>\n",
       "<p>29341 rows × 2 columns</p>\n",
       "</div>"
      ],
      "text/plain": [
       "          ID                                             review\n",
       "0      22622  Robert Lansing plays a scientist experimenting...\n",
       "1      10162  Well I've enjoy this movie, even though someti...\n",
       "2      17468  First things first - though I believe Joel Sch...\n",
       "3      42579  I watched this movie on the grounds that Amber...\n",
       "4        701  A certain sexiness underlines even the dullest...\n",
       "...      ...                                                ...\n",
       "29336  30370  It is difficult to rate a writer/director's fi...\n",
       "29337  18654  After watching this movie once, it quickly bec...\n",
       "29338  47985  Even though i sat and watched the whole thing,...\n",
       "29339   9866  Warning Spoilers following. Superb recreation ...\n",
       "29340  35559  My, my, my: Peter Cushing and Donald Pleasance...\n",
       "\n",
       "[29341 rows x 2 columns]"
      ]
     },
     "execution_count": 116,
     "metadata": {},
     "output_type": "execute_result"
    }
   ],
   "source": [
    "test"
   ]
  },
  {
   "cell_type": "code",
   "execution_count": 119,
   "metadata": {},
   "outputs": [],
   "source": [
    "test_data = test[\"review\"].values"
   ]
  },
  {
   "cell_type": "code",
   "execution_count": 120,
   "metadata": {},
   "outputs": [
    {
     "name": "stdout",
     "output_type": "stream",
     "text": [
      "tokenizing for bert input\n"
     ]
    }
   ],
   "source": [
    "input_ids, attention_masks = tokenizing_for_bert_pred(test_data, tokenizer)"
   ]
  },
  {
   "cell_type": "code",
   "execution_count": 125,
   "metadata": {},
   "outputs": [],
   "source": [
    "testdataset = TensorDataset(input_ids, attention_masks)"
   ]
  },
  {
   "cell_type": "code",
   "execution_count": 126,
   "metadata": {},
   "outputs": [
    {
     "data": {
      "text/plain": [
       "29341"
      ]
     },
     "execution_count": 126,
     "metadata": {},
     "output_type": "execute_result"
    }
   ],
   "source": [
    "len(testdataset)"
   ]
  },
  {
   "cell_type": "code",
   "execution_count": 122,
   "metadata": {},
   "outputs": [
    {
     "name": "stderr",
     "output_type": "stream",
     "text": [
      "Some weights of the model checkpoint at bert-base-cased were not used when initializing BertForSequenceClassification: ['cls.predictions.bias', 'cls.predictions.transform.dense.weight', 'cls.predictions.transform.dense.bias', 'cls.predictions.decoder.weight', 'cls.seq_relationship.weight', 'cls.seq_relationship.bias', 'cls.predictions.transform.LayerNorm.weight', 'cls.predictions.transform.LayerNorm.bias']\n",
      "- This IS expected if you are initializing BertForSequenceClassification from the checkpoint of a model trained on another task or with another architecture (e.g. initializing a BertForSequenceClassification model from a BertForPreTraining model).\n",
      "- This IS NOT expected if you are initializing BertForSequenceClassification from the checkpoint of a model that you expect to be exactly identical (initializing a BertForSequenceClassification model from a BertForSequenceClassification model).\n",
      "Some weights of BertForSequenceClassification were not initialized from the model checkpoint at bert-base-cased and are newly initialized: ['classifier.weight', 'classifier.bias']\n",
      "You should probably TRAIN this model on a down-stream task to be able to use it for predictions and inference.\n"
     ]
    },
    {
     "data": {
      "text/plain": [
       "<All keys matched successfully>"
      ]
     },
     "execution_count": 122,
     "metadata": {},
     "output_type": "execute_result"
    }
   ],
   "source": [
    "model = AutoModelForSequenceClassification.from_pretrained(\n",
    "    model_name,\n",
    "    num_labels=2,\n",
    "    output_attentions=False,\n",
    "    output_hidden_states=False,\n",
    "    hidden_dropout_prob=0.4,\n",
    "    attention_probs_dropout_prob=0.25,\n",
    ")\n",
    "model.to(device)\n",
    "\n",
    "PATH = \"./result/bert-base-cased_bs_8_epo4/train/model/model.pkl\"\n",
    "model.load_state_dict(torch.load(PATH))"
   ]
  },
  {
   "cell_type": "code",
   "execution_count": 128,
   "metadata": {},
   "outputs": [],
   "source": [
    "test_loader = DataLoader(testdataset, shuffle=False, batch_size=16)"
   ]
  },
  {
   "cell_type": "code",
   "execution_count": 151,
   "metadata": {},
   "outputs": [],
   "source": [
    "pred = []\n",
    "model.eval()\n",
    "with torch.no_grad():\n",
    "    for batch in test_loader:\n",
    "        b_input_ids = batch[0].to(device)\n",
    "        b_input_mask = batch[1].to(device)\n",
    "\n",
    "        output = model(b_input_ids, attention_mask=b_input_mask)\n",
    "        logits = output[0]\n",
    "\n",
    "        _, yhat = torch.max(logits.data, 1)\n",
    "\n",
    "        pred.extend(yhat.cpu().detach().numpy())"
   ]
  },
  {
   "cell_type": "code",
   "execution_count": 152,
   "metadata": {},
   "outputs": [
    {
     "name": "stdout",
     "output_type": "stream",
     "text": [
      "29341\n"
     ]
    }
   ],
   "source": [
    "print(len(pred))"
   ]
  },
  {
   "cell_type": "code",
   "execution_count": 153,
   "metadata": {},
   "outputs": [
    {
     "data": {
      "text/plain": [
       "29341"
      ]
     },
     "execution_count": 153,
     "metadata": {},
     "output_type": "execute_result"
    }
   ],
   "source": [
    "len(test)"
   ]
  },
  {
   "cell_type": "code",
   "execution_count": 156,
   "metadata": {},
   "outputs": [
    {
     "data": {
      "text/html": [
       "<div>\n",
       "<style scoped>\n",
       "    .dataframe tbody tr th:only-of-type {\n",
       "        vertical-align: middle;\n",
       "    }\n",
       "\n",
       "    .dataframe tbody tr th {\n",
       "        vertical-align: top;\n",
       "    }\n",
       "\n",
       "    .dataframe thead th {\n",
       "        text-align: right;\n",
       "    }\n",
       "</style>\n",
       "<table border=\"1\" class=\"dataframe\">\n",
       "  <thead>\n",
       "    <tr style=\"text-align: right;\">\n",
       "      <th></th>\n",
       "      <th>ID</th>\n",
       "      <th>sentiment</th>\n",
       "    </tr>\n",
       "  </thead>\n",
       "  <tbody>\n",
       "    <tr>\n",
       "      <th>0</th>\n",
       "      <td>22622</td>\n",
       "      <td>1</td>\n",
       "    </tr>\n",
       "    <tr>\n",
       "      <th>1</th>\n",
       "      <td>10162</td>\n",
       "      <td>1</td>\n",
       "    </tr>\n",
       "    <tr>\n",
       "      <th>2</th>\n",
       "      <td>17468</td>\n",
       "      <td>0</td>\n",
       "    </tr>\n",
       "    <tr>\n",
       "      <th>3</th>\n",
       "      <td>42579</td>\n",
       "      <td>0</td>\n",
       "    </tr>\n",
       "    <tr>\n",
       "      <th>4</th>\n",
       "      <td>701</td>\n",
       "      <td>0</td>\n",
       "    </tr>\n",
       "    <tr>\n",
       "      <th>...</th>\n",
       "      <td>...</td>\n",
       "      <td>...</td>\n",
       "    </tr>\n",
       "    <tr>\n",
       "      <th>29336</th>\n",
       "      <td>30370</td>\n",
       "      <td>0</td>\n",
       "    </tr>\n",
       "    <tr>\n",
       "      <th>29337</th>\n",
       "      <td>18654</td>\n",
       "      <td>1</td>\n",
       "    </tr>\n",
       "    <tr>\n",
       "      <th>29338</th>\n",
       "      <td>47985</td>\n",
       "      <td>0</td>\n",
       "    </tr>\n",
       "    <tr>\n",
       "      <th>29339</th>\n",
       "      <td>9866</td>\n",
       "      <td>0</td>\n",
       "    </tr>\n",
       "    <tr>\n",
       "      <th>29340</th>\n",
       "      <td>35559</td>\n",
       "      <td>0</td>\n",
       "    </tr>\n",
       "  </tbody>\n",
       "</table>\n",
       "<p>29341 rows × 2 columns</p>\n",
       "</div>"
      ],
      "text/plain": [
       "          ID  sentiment\n",
       "0      22622          1\n",
       "1      10162          1\n",
       "2      17468          0\n",
       "3      42579          0\n",
       "4        701          0\n",
       "...      ...        ...\n",
       "29336  30370          0\n",
       "29337  18654          1\n",
       "29338  47985          0\n",
       "29339   9866          0\n",
       "29340  35559          0\n",
       "\n",
       "[29341 rows x 2 columns]"
      ]
     },
     "execution_count": 156,
     "metadata": {},
     "output_type": "execute_result"
    }
   ],
   "source": [
    "import pandas as pd\n",
    "\n",
    "submission = pd.DataFrame({\"ID\": test[\"ID\"].values, \"sentiment\": pred})\n",
    "submission"
   ]
  },
  {
   "cell_type": "code",
   "execution_count": 157,
   "metadata": {},
   "outputs": [],
   "source": [
    "submission.to_csv(\"./submission.csv\", encoding=\"utf-8\", index=False)"
   ]
  },
  {
   "cell_type": "code",
   "execution_count": null,
   "metadata": {},
   "outputs": [],
   "source": []
  }
 ],
 "metadata": {
  "kernelspec": {
   "display_name": "Python 3",
   "language": "python",
   "name": "python3"
  },
  "language_info": {
   "codemirror_mode": {
    "name": "ipython",
    "version": 3
   },
   "file_extension": ".py",
   "mimetype": "text/x-python",
   "name": "python",
   "nbconvert_exporter": "python",
   "pygments_lexer": "ipython3",
   "version": "3.8.6"
  },
  "toc": {
   "base_numbering": 1,
   "nav_menu": {},
   "number_sections": true,
   "sideBar": true,
   "skip_h1_title": true,
   "title_cell": "Table of Contents",
   "title_sidebar": "Contents",
   "toc_cell": false,
   "toc_position": {},
   "toc_section_display": true,
   "toc_window_display": false
  }
 },
 "nbformat": 4,
 "nbformat_minor": 5
}
