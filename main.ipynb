{
 "cells": [
  {
   "cell_type": "markdown",
   "source": [
    "# Main"
   ],
   "metadata": {}
  },
  {
   "cell_type": "markdown",
   "source": [
    "## Train"
   ],
   "metadata": {}
  },
  {
   "cell_type": "code",
   "execution_count": 3,
   "source": [
    "model_name = \"bert-base-cased\"\n",
    "epochs = 5\n",
    "batch_size = 8"
   ],
   "outputs": [],
   "metadata": {}
  },
  {
   "cell_type": "code",
   "execution_count": 4,
   "source": [
    "# load basic library\n",
    "import os\n",
    "import random\n",
    "import numpy as np\n",
    "import pickle\n",
    "from tqdm import tqdm\n",
    "\n",
    "# load torch library\n",
    "import torch\n",
    "import torch.nn.functional as F\n",
    "from torch.utils.data import Dataset, DataLoader, TensorDataset\n",
    "from transformers import (\n",
    "    AutoTokenizer,\n",
    "    AutoModelForSequenceClassification,\n",
    "    AdamW,\n",
    "    get_linear_schedule_with_warmup,\n",
    ")\n",
    "\n",
    "# custum module\n",
    "from tools import *\n",
    "\n",
    "# keep reandom seed\n",
    "seed_val = 0\n",
    "random.seed(seed_val)\n",
    "np.random.seed(seed_val)\n",
    "torch.manual_seed(seed_val)\n",
    "\n",
    "# check gpu\n",
    "device = get_device()\n",
    "\n",
    "# setting path\n",
    "metric_path, model_path, history_path, fig_path = setting_path(\n",
    "    model_name, batch_size, epochs, mode=\"train\"\n",
    ")\n",
    "\n",
    "path = \"./data/train_valid_split/level_1/\"\n",
    "with open(os.path.join(path, \"X_tr.pkl\"), \"rb\") as f:\n",
    "    X_tr = pickle.load(f)\n",
    "with open(os.path.join(path, \"X_va.pkl\"), \"rb\") as f:\n",
    "    X_va = pickle.load(f)\n",
    "with open(os.path.join(path, \"y_tr.pkl\"), \"rb\") as f:\n",
    "    y_tr = pickle.load(f)\n",
    "with open(os.path.join(path, \"y_va.pkl\"), \"rb\") as f:\n",
    "    y_va = pickle.load(f)"
   ],
   "outputs": [
    {
     "output_type": "stream",
     "name": "stdout",
     "text": [
      "There are 1 GPU(s) available.\n",
      "We will use the GPU: GeForce RTX 2080 Ti\n",
      "==========\n",
      "\n",
      "metric_path: /home/lichang/projects/ai_cup-movie/result/bert-base-cased_bs_8_epo5/train/metrics\n",
      "model_path: /home/lichang/projects/ai_cup-movie/result/bert-base-cased_bs_8_epo5/train/model\n",
      "history_path: /home/lichang/projects/ai_cup-movie/result/bert-base-cased_bs_8_epo5/train/history\n",
      "fig_path: /home/lichang/projects/ai_cup-movie/result/bert-base-cased_bs_8_epo5/train/figures\n"
     ]
    }
   ],
   "metadata": {}
  },
  {
   "cell_type": "code",
   "execution_count": 5,
   "source": [
    "X_tr = X_tr[:1000]\n",
    "X_va = X_va[:1000]\n",
    "y_tr = y_tr[:1000]\n",
    "y_va = y_va[:1000]"
   ],
   "outputs": [],
   "metadata": {}
  },
  {
   "cell_type": "markdown",
   "source": [
    "### tokenizing"
   ],
   "metadata": {}
  },
  {
   "cell_type": "code",
   "execution_count": 6,
   "source": [
    "# tokenize\n",
    "tokenizer = AutoTokenizer.from_pretrained(model_name, do_lower_case=False)\n",
    "\n",
    "input_ids_tr, attention_masks_tr, labels_tr = tokenizing(\n",
    "    X_tr.values, y_tr.values, tokenizer\n",
    ")\n",
    "input_ids_va, attention_masks_va, labels_va = tokenizing(\n",
    "    X_va.values, y_va.values, tokenizer\n",
    ")"
   ],
   "outputs": [],
   "metadata": {}
  },
  {
   "cell_type": "markdown",
   "source": [
    "check average token length"
   ],
   "metadata": {}
  },
  {
   "cell_type": "markdown",
   "source": [
    "**max_len = 512:**\n",
    "\n",
    "```python\n",
    "print(np.mean(token_length))\n",
    "print(np.max(token_length))\n",
    "print(np.min(token_length))\n",
    "print(np.std(token_length))\n",
    "```\n",
    "\n",
    "```text\n",
    "231.8667348329925\n",
    "512\n",
    "4\n",
    "153.99549015975495\n",
    "```\n",
    "\n",
    "**max_len = 400:**\n",
    "\n",
    "```python\n",
    "print(np.mean(token_length))\n",
    "print(np.max(token_length))\n",
    "print(np.min(token_length))\n",
    "print(np.std(token_length))\n",
    "```\n",
    "\n",
    "```text\n",
    "215.33452624403546\n",
    "400\n",
    "4\n",
    "127.15932762513401\n",
    "```\n"
   ],
   "metadata": {}
  },
  {
   "cell_type": "markdown",
   "source": [
    "### dataset"
   ],
   "metadata": {}
  },
  {
   "cell_type": "code",
   "execution_count": 7,
   "source": [
    "# Holdout dataset\n",
    "Trainset = TensorDataset(input_ids_tr, attention_masks_tr, labels_tr)\n",
    "Validset = TensorDataset(input_ids_va, attention_masks_va, labels_va)"
   ],
   "outputs": [],
   "metadata": {}
  },
  {
   "cell_type": "markdown",
   "source": [
    "### training"
   ],
   "metadata": {}
  },
  {
   "cell_type": "code",
   "execution_count": 8,
   "source": [
    "model = AutoModelForSequenceClassification.from_pretrained(\n",
    "    model_name,\n",
    "    num_labels=2,\n",
    "    output_attentions=False,\n",
    "    output_hidden_states=False,\n",
    "    hidden_dropout_prob=0.4,\n",
    "    attention_probs_dropout_prob=0.4,\n",
    ")\n",
    "model.to(device)\n",
    "\n",
    "# This code is taken from:\n",
    "# https://github.com/huggingface/transformers/blob/5bfcd0485ece086ebcbed2d008813037968a9e58/examples/run_glue.py#L102\n",
    "\n",
    "# Don't apply weight decay to any parameters whose names include these tokens.\n",
    "# (Here, the BERT doesn't have `gamma` or `beta` parameters, only `bias` terms)\n",
    "no_decay = [\"bias\", \"LayerNorm.weight\"]\n",
    "\n",
    "# Separate the `weight` parameters from the `bias` parameters.\n",
    "# - For the `weight` parameters, this specifies a 'weight_decay_rate' of 0.01.\n",
    "# - For the `bias` parameters, the 'weight_decay_rate' is 0.0.\n",
    "optimizer_grouped_parameters = [\n",
    "    # Filter for all parameters which *don't* include 'bias', 'gamma', 'beta'.\n",
    "    {\n",
    "        \"params\": [\n",
    "            p\n",
    "            for n, p in model.named_parameters()\n",
    "            if not any(nd in n for nd in no_decay)\n",
    "        ],\n",
    "        \"weight_decay_rate\": 0.01,\n",
    "    },\n",
    "    # Filter for parameters which *do* include those.\n",
    "    {\n",
    "        \"params\": [\n",
    "            p for n, p in model.named_parameters() if any(nd in n for nd in no_decay)\n",
    "        ],\n",
    "        \"weight_decay_rate\": 0.0,\n",
    "    },\n",
    "]\n",
    "\n",
    "# Note - `optimizer_grouped_parameters` only includes the parameter values, not\n",
    "# the names.\n",
    "\n",
    "N_train = len(Trainset)\n",
    "N_test = len(Validset)\n",
    "print(\"Num of train samples:\", N_train)\n",
    "print(\"Num of valid samples:\", N_test)\n",
    "print()\n",
    "\n",
    "optimizer = AdamW(\n",
    "    optimizer_grouped_parameters,\n",
    "    lr=4e-5,  # args.learning_rate - default is 5e-5, our notebook had 2e-5\n",
    ")\n",
    "\n",
    "train_loader = DataLoader(Trainset, shuffle=True, batch_size=batch_size)\n",
    "valid_loader = DataLoader(Validset, shuffle=False, batch_size=batch_size)\n",
    "\n",
    "# Total number of training steps is [number of batches] x [number of epochs].\n",
    "# (Note that this is not the same as the number of training samples).\n",
    "total_steps = len(train_loader) * epochs\n",
    "\n",
    "scheduler = get_linear_schedule_with_warmup(\n",
    "    optimizer, num_warmup_steps=total_steps * 0.1, num_training_steps=total_steps\n",
    ")\n",
    "\n",
    "history, best_epoch = train_model(\n",
    "    model=model,\n",
    "    train_loader=train_loader,\n",
    "    valid_loader=valid_loader,\n",
    "    optimizer=optimizer,\n",
    "    N_train=N_train,\n",
    "    N_test=N_test,\n",
    "    device=device,\n",
    "    scheduler=scheduler,\n",
    "    path=model_path,\n",
    "    epochs=epochs,\n",
    "    patience=3,\n",
    ")"
   ],
   "outputs": [
    {
     "output_type": "stream",
     "name": "stderr",
     "text": [
      "Some weights of the model checkpoint at bert-base-cased were not used when initializing BertForSequenceClassification: ['cls.predictions.bias', 'cls.predictions.transform.dense.weight', 'cls.predictions.transform.dense.bias', 'cls.predictions.decoder.weight', 'cls.seq_relationship.weight', 'cls.seq_relationship.bias', 'cls.predictions.transform.LayerNorm.weight', 'cls.predictions.transform.LayerNorm.bias']\n",
      "- This IS expected if you are initializing BertForSequenceClassification from the checkpoint of a model trained on another task or with another architecture (e.g. initializing a BertForSequenceClassification model from a BertForPreTraining model).\n",
      "- This IS NOT expected if you are initializing BertForSequenceClassification from the checkpoint of a model that you expect to be exactly identical (initializing a BertForSequenceClassification model from a BertForSequenceClassification model).\n",
      "Some weights of BertForSequenceClassification were not initialized from the model checkpoint at bert-base-cased and are newly initialized: ['classifier.weight', 'classifier.bias']\n",
      "You should probably TRAIN this model on a down-stream task to be able to use it for predictions and inference.\n"
     ]
    },
    {
     "output_type": "stream",
     "name": "stdout",
     "text": [
      "Num of train samples: 1000\n",
      "Num of valid samples: 1000\n",
      "\n",
      "training acc: 0.51\n",
      "training loss: 0.73\n",
      "training auc: 0.50\n",
      "-------------------------\n",
      "train acc: 0.63\n",
      "train loss: 0.68\n",
      "train auc: 0.73\n",
      "-------------------------\n",
      "valid acc: 0.60\n",
      "valid loss: 0.68\n",
      "valid auc: 0.70\n",
      "-------------------------\n",
      "Validation loss decreased (inf --> 0.684132).  Saving model ...\n",
      "=========================\n",
      "training acc: 0.60\n",
      "training loss: 0.65\n",
      "training auc: 0.66\n",
      "-------------------------\n",
      "train acc: 0.81\n",
      "train loss: 0.43\n",
      "train auc: 0.90\n",
      "-------------------------\n",
      "valid acc: 0.77\n",
      "valid loss: 0.49\n",
      "valid auc: 0.85\n",
      "-------------------------\n",
      "Validation loss decreased (0.684132 --> 0.491430).  Saving model ...\n",
      "=========================\n",
      "training acc: 0.79\n",
      "training loss: 0.46\n",
      "training auc: 0.87\n",
      "-------------------------\n",
      "train acc: 0.90\n",
      "train loss: 0.25\n",
      "train auc: 0.97\n",
      "-------------------------\n",
      "valid acc: 0.85\n",
      "valid loss: 0.37\n",
      "valid auc: 0.92\n",
      "-------------------------\n",
      "Validation loss decreased (0.491430 --> 0.373521).  Saving model ...\n",
      "=========================\n",
      "training acc: 0.85\n",
      "training loss: 0.39\n",
      "training auc: 0.91\n",
      "-------------------------\n",
      "train acc: 0.91\n",
      "train loss: 0.23\n",
      "train auc: 0.98\n",
      "-------------------------\n",
      "valid acc: 0.85\n",
      "valid loss: 0.38\n",
      "valid auc: 0.92\n",
      "-------------------------\n",
      "EarlyStopping counter: 1 out of 3\n",
      "=========================\n",
      "training acc: 0.88\n",
      "training loss: 0.30\n",
      "training auc: 0.95\n",
      "-------------------------\n",
      "train acc: 0.93\n",
      "train loss: 0.20\n",
      "train auc: 0.98\n",
      "-------------------------\n",
      "valid acc: 0.85\n",
      "valid loss: 0.39\n",
      "valid auc: 0.93\n",
      "-------------------------\n",
      "EarlyStopping counter: 2 out of 3\n",
      "=========================\n"
     ]
    }
   ],
   "metadata": {}
  },
  {
   "cell_type": "code",
   "execution_count": 9,
   "source": [
    "# save trainin_history\n",
    "with open(os.path.join(history_path, \"hist.pkl\"), \"wb\") as f:\n",
    "    pickle.dump(history, f)"
   ],
   "outputs": [],
   "metadata": {}
  },
  {
   "cell_type": "code",
   "execution_count": 10,
   "source": [
    "# metric\n",
    "tr_metric = final_metric(history, mtype=\"train\", best_epoch=best_epoch)\n",
    "va_metric = final_metric(history, mtype=\"valid\", best_epoch=best_epoch)\n",
    "save_metrics(metric_path, \"train\", best_epoch=None, **tr_metric)\n",
    "save_metrics(metric_path, \"valid\", best_epoch=None, **va_metric)"
   ],
   "outputs": [
    {
     "output_type": "stream",
     "name": "stdout",
     "text": [
      "\n",
      "[train average]\n",
      "\n",
      "ACC: 0.9\n",
      "LOSS: 0.25\n",
      "\n",
      "Recall: 0.92\n",
      "Specificity: 0.89\n",
      "Precision: 0.9\n",
      "NPV: 0.91\n",
      "\n",
      "F1: 0.91\n",
      "MCC: 0.81\n",
      "AUC: 0.97\n",
      "\n",
      "\n",
      "[valid average]\n",
      "\n",
      "ACC: 0.85\n",
      "LOSS: 0.37\n",
      "\n",
      "Recall: 0.89\n",
      "Specificity: 0.8\n",
      "Precision: 0.84\n",
      "NPV: 0.87\n",
      "\n",
      "F1: 0.86\n",
      "MCC: 0.7\n",
      "AUC: 0.92\n",
      "\n"
     ]
    }
   ],
   "metadata": {}
  },
  {
   "cell_type": "code",
   "execution_count": 11,
   "source": [
    "best_epoch"
   ],
   "outputs": [
    {
     "output_type": "execute_result",
     "data": {
      "text/plain": [
       "2"
      ]
     },
     "metadata": {},
     "execution_count": 11
    }
   ],
   "metadata": {}
  },
  {
   "cell_type": "code",
   "execution_count": 12,
   "source": [
    "# plot learning curve\n",
    "plot_lr(\"acc\", history, fig_path=fig_path, best_epoch=best_epoch, show=True)\n",
    "plot_lr(\"loss\", history, fig_path=fig_path, best_epoch=best_epoch, show=True)\n",
    "plot_roc(history, fig_path=fig_path, best_epoch=None, show=True)\n",
    "plot_roc(history, fig_path=fig_path, best_epoch=best_epoch, show=True)"
   ],
   "outputs": [
    {
     "output_type": "display_data",
     "data": {
      "text/plain": [
       "<Figure size 432x288 with 1 Axes>"
      ],
      "image/png": "[encoded data removed]"
     },
     "metadata": {
      "needs_background": "light"
     }
    },
    {
     "output_type": "display_data",
     "data": {
      "text/plain": [
       "<Figure size 432x288 with 1 Axes>"
      ],
      "image/png": "[encoded data removed]"
     },
     "metadata": {
      "needs_background": "light"
     }
    },
    {
     "output_type": "display_data",
     "data": {
      "text/plain": [
       "<Figure size 432x288 with 1 Axes>"
      ],
      "image/png": "[encoded data removed]"
     },
     "metadata": {
      "needs_background": "light"
     }
    },
    {
     "output_type": "display_data",
     "data": {
      "text/plain": [
       "<Figure size 432x288 with 1 Axes>"
      ],
      "image/png": "[encoded data removed]"
     },
     "metadata": {
      "needs_background": "light"
     }
    }
   ],
   "metadata": {}
  },
  {
   "cell_type": "markdown",
   "source": [
    "# Evaluate on test"
   ],
   "metadata": {}
  },
  {
   "cell_type": "code",
   "execution_count": 10,
   "source": [
    "model_name = \"bert-base-cased\"\n",
    "epochs = 3\n",
    "batch_size = 4"
   ],
   "outputs": [],
   "metadata": {}
  },
  {
   "cell_type": "code",
   "execution_count": 11,
   "source": [
    "# load basic library\n",
    "import os\n",
    "import random\n",
    "import numpy as np\n",
    "import pickle\n",
    "from tqdm import tqdm\n",
    "\n",
    "# load torch library\n",
    "import torch\n",
    "import torch.nn.functional as F\n",
    "from torch.utils.data import Dataset, DataLoader, TensorDataset\n",
    "from transformers import (\n",
    "    AutoTokenizer,\n",
    "    AutoModelForSequenceClassification,\n",
    "    AdamW,\n",
    "    get_linear_schedule_with_warmup,\n",
    ")\n",
    "\n",
    "# custum module\n",
    "from tools import *\n",
    "\n",
    "# keep reandom seed\n",
    "seed_val = 0\n",
    "random.seed(seed_val)\n",
    "np.random.seed(seed_val)\n",
    "torch.manual_seed(seed_val)\n",
    "\n",
    "# check gpu\n",
    "device = get_device()\n",
    "\n",
    "# setting path\n",
    "metric_path, model_path, history_path, fig_path = setting_path(\n",
    "    model_name, batch_size, epochs, mode=\"test\"\n",
    ")\n",
    "\n",
    "\n",
    "# load data\n",
    "with open(\"./data/train_test_split/X_te.pkl\", \"rb\") as f:\n",
    "    X_test = pickle.load(f)\n",
    "with open(\"./data/train_test_split/y_te.pkl\", \"rb\") as f:\n",
    "    y_test = pickle.load(f)"
   ],
   "outputs": [
    {
     "output_type": "stream",
     "name": "stdout",
     "text": [
      "No GPU available, using the CPU instead.\n",
      "==========\n",
      "\n",
      "metric_path: D:\\user\\Documents\\N26091194\\Projects\\ai_cup-movie\\result\\bert-base-cased_bs_4_epo3\\test\\metrics\n",
      "model_path: D:\\user\\Documents\\N26091194\\Projects\\ai_cup-movie\\result\\bert-base-cased_bs_4_epo3\\train\\model\n",
      "history_path: D:\\user\\Documents\\N26091194\\Projects\\ai_cup-movie\\result\\bert-base-cased_bs_4_epo3\\test\\history\n",
      "fig_path: None\n"
     ]
    }
   ],
   "metadata": {}
  },
  {
   "cell_type": "code",
   "execution_count": 12,
   "source": [
    "X_test = X_test[:50]\n",
    "y_test = y_test[:50]"
   ],
   "outputs": [],
   "metadata": {}
  },
  {
   "cell_type": "code",
   "execution_count": 13,
   "source": [
    "# tokenize\n",
    "tokenizer = AutoTokenizer.from_pretrained(model_name, do_lower_case=False)\n",
    "input_ids_te, attention_masks_te, labels_te = tokenizing(\n",
    "    X_test.values, y_test.values, tokenizer\n",
    ")"
   ],
   "outputs": [],
   "metadata": {}
  },
  {
   "cell_type": "code",
   "execution_count": 15,
   "source": [
    "testdataset = TensorDataset(input_ids_te, attention_masks_te, labels_te)"
   ],
   "outputs": [],
   "metadata": {}
  },
  {
   "cell_type": "code",
   "execution_count": 16,
   "source": [
    "print(\"test dataset:\", len(testdataset))"
   ],
   "outputs": [
    {
     "output_type": "execute_result",
     "data": {
      "text/plain": [
       "50"
      ]
     },
     "metadata": {},
     "execution_count": 16
    }
   ],
   "metadata": {}
  },
  {
   "cell_type": "code",
   "execution_count": 17,
   "source": [
    "model = AutoModelForSequenceClassification.from_pretrained(\n",
    "    model_name,\n",
    "    num_labels=2,\n",
    "    output_attentions=False,\n",
    "    output_hidden_states=False,\n",
    ")\n",
    "model.to(device)\n",
    "\n",
    "PATH = os.path.join(model_path, \"model.pkl\")\n",
    "model.load_state_dict(torch.load(PATH))"
   ],
   "outputs": [
    {
     "output_type": "stream",
     "name": "stderr",
     "text": [
      "Some weights of the model checkpoint at bert-base-cased were not used when initializing BertForSequenceClassification: ['cls.predictions.bias', 'cls.predictions.transform.dense.weight', 'cls.predictions.transform.dense.bias', 'cls.predictions.decoder.weight', 'cls.seq_relationship.weight', 'cls.seq_relationship.bias', 'cls.predictions.transform.LayerNorm.weight', 'cls.predictions.transform.LayerNorm.bias']\n",
      "- This IS expected if you are initializing BertForSequenceClassification from the checkpoint of a model trained on another task or with another architecture (e.g. initializing a BertForSequenceClassification model from a BertForPretraining model).\n",
      "- This IS NOT expected if you are initializing BertForSequenceClassification from the checkpoint of a model that you expect to be exactly identical (initializing a BertForSequenceClassification model from a BertForSequenceClassification model).\n",
      "Some weights of BertForSequenceClassification were not initialized from the model checkpoint at bert-base-cased and are newly initialized: ['classifier.weight', 'classifier.bias']\n",
      "You should probably TRAIN this model on a down-stream task to be able to use it for predictions and inference.\n"
     ]
    },
    {
     "output_type": "execute_result",
     "data": {
      "text/plain": [
       "<All keys matched successfully>"
      ]
     },
     "metadata": {},
     "execution_count": 17
    }
   ],
   "metadata": {}
  },
  {
   "cell_type": "code",
   "execution_count": 19,
   "source": [
    "N_test = len(testdataset)\n",
    "\n",
    "test_loader = DataLoader(testdataset, shuffle=False, batch_size=16)\n",
    "\n",
    "history_2 = eval_model(\n",
    "    model=model,\n",
    "    test_loader=test_loader,\n",
    "    N_test=N_test,\n",
    "    device=device,\n",
    ")"
   ],
   "outputs": [
    {
     "output_type": "stream",
     "name": "stdout",
     "text": [
      "test loss: 0.67\n",
      "test acc: 0.54\n",
      "-------------------------\n"
     ]
    }
   ],
   "metadata": {}
  },
  {
   "cell_type": "code",
   "execution_count": 20,
   "source": [
    "# save trainin_history\n",
    "with open(os.path.join(history_path, \"hist.pkl\"), \"wb\") as f:\n",
    "    pickle.dump(history_2, f)"
   ],
   "outputs": [],
   "metadata": {}
  },
  {
   "cell_type": "code",
   "execution_count": 21,
   "source": [
    "# save metric\n",
    "te_metric = final_metric(history_2, mtype=\"test\")\n",
    "save_metrics(metric_path, \"test\", best_epoch=None, **te_metric)"
   ],
   "outputs": [
    {
     "output_type": "stream",
     "name": "stdout",
     "text": [
      "\n",
      "[test average]\n",
      "\n",
      "ACC: 0.54\n",
      "LOSS: 0.67\n",
      "\n",
      "Recall: 0.042\n",
      "Specificity: 1.0\n",
      "Precision: 1.0\n",
      "NPV: 0.53\n",
      "\n",
      "F1: 0.08\n",
      "MCC: 0.15\n",
      "AUC: 0.49\n",
      "\n"
     ]
    }
   ],
   "metadata": {}
  },
  {
   "cell_type": "markdown",
   "source": [
    "# Prediction"
   ],
   "metadata": {}
  },
  {
   "cell_type": "code",
   "execution_count": 22,
   "source": [
    "model_name = \"bert-base-cased\"\n",
    "epochs = 3\n",
    "batch_size = 4\n",
    "mode = \"predict\""
   ],
   "outputs": [],
   "metadata": {}
  },
  {
   "cell_type": "code",
   "execution_count": 23,
   "source": [
    "# load basic library\n",
    "import os\n",
    "import random\n",
    "import numpy as np\n",
    "import pickle\n",
    "from tqdm import tqdm\n",
    "import pandas as pd\n",
    "\n",
    "# load torch library\n",
    "import torch\n",
    "import torch.nn.functional as F\n",
    "from torch.utils.data import Dataset, DataLoader, TensorDataset\n",
    "from transformers import (\n",
    "    AutoTokenizer,\n",
    "    AutoModelForSequenceClassification,\n",
    "    AdamW,\n",
    "    get_linear_schedule_with_warmup,\n",
    ")\n",
    "\n",
    "# custum module\n",
    "from tools import *\n",
    "\n",
    "# keep reandom seed\n",
    "seed_val = 0\n",
    "random.seed(seed_val)\n",
    "np.random.seed(seed_val)\n",
    "torch.manual_seed(seed_val)\n",
    "\n",
    "# check gpu\n",
    "device = get_device()\n",
    "\n",
    "# setting path\n",
    "metric_path, model_path, history_path, fig_path = setting_path(\n",
    "    model_name, batch_size, epochs, mode=\"test\"\n",
    ")\n",
    "\n",
    "# load data\n",
    "with open(\"./data/test_rm_br.pkl\", \"rb\") as f:\n",
    "    test = pickle.load(f)\n",
    "test_data = test[\"review\"].values"
   ],
   "outputs": [
    {
     "output_type": "stream",
     "name": "stdout",
     "text": [
      "No GPU available, using the CPU instead.\n",
      "==========\n",
      "\n",
      "metric_path: D:\\user\\Documents\\N26091194\\Projects\\ai_cup-movie\\result\\bert-base-cased_bs_4_epo3\\test\\metrics\n",
      "model_path: D:\\user\\Documents\\N26091194\\Projects\\ai_cup-movie\\result\\bert-base-cased_bs_4_epo3\\train\\model\n",
      "history_path: D:\\user\\Documents\\N26091194\\Projects\\ai_cup-movie\\result\\bert-base-cased_bs_4_epo3\\test\\history\n",
      "fig_path: None\n"
     ]
    }
   ],
   "metadata": {}
  },
  {
   "cell_type": "code",
   "execution_count": 24,
   "source": [
    "test = test[:50]"
   ],
   "outputs": [],
   "metadata": {}
  },
  {
   "cell_type": "code",
   "execution_count": 25,
   "source": [
    "test_data = test[\"review\"].values"
   ],
   "outputs": [],
   "metadata": {}
  },
  {
   "cell_type": "code",
   "execution_count": 26,
   "source": [
    "# check gpu\n",
    "device = get_device()\n",
    "\n",
    "# setting path\n",
    "metric_path, model_path, _, _ = setting_path(model_name, batch_size, epochs, mode)\n",
    "\n",
    "# tokenize\n",
    "tokenizer = AutoTokenizer.from_pretrained(model_name, do_lower_case=False)\n",
    "input_ids, attention_masks, _ = tokenizing(test_data, None, tokenizer)\n",
    "\n",
    "# dataset\n",
    "testdataset = TensorDataset(input_ids, attention_masks)\n",
    "print(\"Prediction dataset:\", len(testdataset))"
   ],
   "outputs": [
    {
     "output_type": "stream",
     "name": "stdout",
     "text": [
      "No GPU available, using the CPU instead.\n",
      "==========\n",
      "\n",
      "metric_path: D:\\user\\Documents\\N26091194\\Projects\\ai_cup-movie\\result\\bert-base-cased_bs_4_epo3\\predict\\metrics\n",
      "model_path: D:\\user\\Documents\\N26091194\\Projects\\ai_cup-movie\\result\\bert-base-cased_bs_4_epo3\\train\\model\n",
      "history_path: None\n",
      "fig_path: None\n",
      "Prediction dataset: 50\n"
     ]
    }
   ],
   "metadata": {}
  },
  {
   "cell_type": "code",
   "execution_count": 28,
   "source": [
    "# load in model\n",
    "model = AutoModelForSequenceClassification.from_pretrained(\n",
    "    model_name,\n",
    "    num_labels=2,\n",
    "    output_attentions=False,\n",
    "    output_hidden_states=False,\n",
    ")\n",
    "model.to(device)\n",
    "PATH = os.path.join(model_path, \"model.pkl\")\n",
    "model.load_state_dict(torch.load(PATH))"
   ],
   "outputs": [
    {
     "output_type": "stream",
     "name": "stderr",
     "text": [
      "Some weights of the model checkpoint at bert-base-cased were not used when initializing BertForSequenceClassification: ['cls.predictions.bias', 'cls.predictions.transform.dense.weight', 'cls.predictions.transform.dense.bias', 'cls.predictions.decoder.weight', 'cls.seq_relationship.weight', 'cls.seq_relationship.bias', 'cls.predictions.transform.LayerNorm.weight', 'cls.predictions.transform.LayerNorm.bias']\n",
      "- This IS expected if you are initializing BertForSequenceClassification from the checkpoint of a model trained on another task or with another architecture (e.g. initializing a BertForSequenceClassification model from a BertForPretraining model).\n",
      "- This IS NOT expected if you are initializing BertForSequenceClassification from the checkpoint of a model that you expect to be exactly identical (initializing a BertForSequenceClassification model from a BertForSequenceClassification model).\n",
      "Some weights of BertForSequenceClassification were not initialized from the model checkpoint at bert-base-cased and are newly initialized: ['classifier.weight', 'classifier.bias']\n",
      "You should probably TRAIN this model on a down-stream task to be able to use it for predictions and inference.\n"
     ]
    },
    {
     "output_type": "execute_result",
     "data": {
      "text/plain": [
       "<All keys matched successfully>"
      ]
     },
     "metadata": {},
     "execution_count": 28
    }
   ],
   "metadata": {}
  },
  {
   "cell_type": "code",
   "execution_count": 29,
   "source": [
    "# loader\n",
    "test_loader = DataLoader(testdataset, shuffle=False, batch_size=16)"
   ],
   "outputs": [],
   "metadata": {}
  },
  {
   "cell_type": "code",
   "execution_count": 30,
   "source": [
    "# prediction\n",
    "pred = []\n",
    "model.eval()\n",
    "with torch.no_grad():\n",
    "    for batch in test_loader:\n",
    "        b_input_ids = batch[0].to(device)\n",
    "        b_input_mask = batch[1].to(device)\n",
    "\n",
    "        output = model(b_input_ids, attention_mask=b_input_mask)\n",
    "        logits = output[0]\n",
    "\n",
    "        _, yhat = torch.max(logits.data, 1)\n",
    "\n",
    "        pred.extend(yhat.cpu().detach().numpy())"
   ],
   "outputs": [],
   "metadata": {}
  },
  {
   "cell_type": "code",
   "execution_count": 31,
   "source": [
    "print(\"Answer and prediction have same length:\", len(pred) == len(test))"
   ],
   "outputs": [
    {
     "output_type": "stream",
     "name": "stdout",
     "text": [
      "Answer and prediction have same length: True\n"
     ]
    }
   ],
   "metadata": {}
  },
  {
   "cell_type": "code",
   "execution_count": 32,
   "source": [
    "# save result\n",
    "path = os.path.abspath(os.path.join(metric_path, \"..\"))\n",
    "print(\"output:\", path)\n",
    "submission = pd.DataFrame({\"ID\": test[\"ID\"].values, \"sentiment\": pred})\n",
    "submission.to_csv(os.path.join(path, \"submission.csv\"), encoding=\"utf-8\", index=False)"
   ],
   "outputs": [
    {
     "output_type": "stream",
     "name": "stdout",
     "text": [
      "output: D:\\user\\Documents\\N26091194\\Projects\\ai_cup-movie\\result\\bert-base-cased_bs_4_epo3\\predict\n"
     ]
    }
   ],
   "metadata": {}
  },
  {
   "cell_type": "code",
   "execution_count": null,
   "source": [],
   "outputs": [],
   "metadata": {}
  }
 ],
 "metadata": {
  "kernelspec": {
   "name": "python3",
   "display_name": "Python 3.8.0 64-bit ('py38': virtualenvwrapper)"
  },
  "language_info": {
   "codemirror_mode": {
    "name": "ipython",
    "version": 3
   },
   "file_extension": ".py",
   "mimetype": "text/x-python",
   "name": "python",
   "nbconvert_exporter": "python",
   "pygments_lexer": "ipython3",
   "version": "3.8.0"
  },
  "toc": {
   "base_numbering": 1,
   "nav_menu": {},
   "number_sections": true,
   "sideBar": true,
   "skip_h1_title": true,
   "title_cell": "Table of Contents",
   "title_sidebar": "Contents",
   "toc_cell": false,
   "toc_position": {},
   "toc_section_display": true,
   "toc_window_display": false
  },
  "interpreter": {
   "hash": "aad9fa7f6ed343a042bd460ce7fa15eb6fc8d0afdca2e8e62a1852ae0075cd4e"
  }
 },
 "nbformat": 4,
 "nbformat_minor": 5
}