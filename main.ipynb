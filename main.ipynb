{
 "cells": [
  {
   "cell_type": "markdown",
   "metadata": {},
   "source": [
    "# Main"
   ]
  },
  {
   "cell_type": "markdown",
   "metadata": {},
   "source": [
    "## Train"
   ]
  },
  {
   "cell_type": "code",
   "execution_count": 1,
   "metadata": {},
   "outputs": [],
   "source": [
    "model_name = \"bert-base-cased\"\n",
    "epochs = 3\n",
    "batch_size = 4"
   ]
  },
  {
   "cell_type": "code",
   "execution_count": 2,
   "metadata": {},
   "outputs": [
    {
     "name": "stdout",
     "output_type": "stream",
     "text": [
      "No GPU available, using the CPU instead.\n",
      "==========\n",
      "\n",
      "metric_path: D:\\user\\Documents\\N26091194\\Projects\\ai_cup-movie\\result\\bert-base-cased_bs_4_epo3\\train\\metrics\n",
      "model_path: D:\\user\\Documents\\N26091194\\Projects\\ai_cup-movie\\result\\bert-base-cased_bs_4_epo3\\train\\model\n",
      "history_path: D:\\user\\Documents\\N26091194\\Projects\\ai_cup-movie\\result\\bert-base-cased_bs_4_epo3\\train\\history\n",
      "fig_path: D:\\user\\Documents\\N26091194\\Projects\\ai_cup-movie\\result\\bert-base-cased_bs_4_epo3\\train\\figures\n"
     ]
    }
   ],
   "source": [
    "# load basic library\n",
    "import os\n",
    "import random\n",
    "import numpy as np\n",
    "import pickle\n",
    "from tqdm import tqdm\n",
    "\n",
    "# load torch library\n",
    "import torch\n",
    "import torch.nn.functional as F\n",
    "from torch.utils.data import Dataset, DataLoader, TensorDataset\n",
    "from transformers import (\n",
    "    AutoTokenizer,\n",
    "    AutoModelForSequenceClassification,\n",
    "    AdamW,\n",
    "    get_linear_schedule_with_warmup,\n",
    ")\n",
    "\n",
    "# custum module\n",
    "from tools import *\n",
    "\n",
    "# keep reandom seed\n",
    "seed_val = 0\n",
    "random.seed(seed_val)\n",
    "np.random.seed(seed_val)\n",
    "torch.manual_seed(seed_val)\n",
    "\n",
    "# check gpu\n",
    "device = get_device()\n",
    "\n",
    "# setting path\n",
    "metric_path, model_path, history_path, fig_path = setting_path(\n",
    "    model_name, batch_size, epochs, mode=\"train\"\n",
    ")\n",
    "\n",
    "path = \"./data/train_valid_split/level_1/\"\n",
    "with open(os.path.join(path, \"X_tr.pkl\"), \"rb\") as f:\n",
    "    X_tr = pickle.load(f)\n",
    "with open(os.path.join(path, \"X_va.pkl\"), \"rb\") as f:\n",
    "    X_va = pickle.load(f)\n",
    "with open(os.path.join(path, \"y_tr.pkl\"), \"rb\") as f:\n",
    "    y_tr = pickle.load(f)\n",
    "with open(os.path.join(path, \"y_va.pkl\"), \"rb\") as f:\n",
    "    y_va = pickle.load(f)"
   ]
  },
  {
   "cell_type": "code",
   "execution_count": 3,
   "metadata": {},
   "outputs": [],
   "source": [
    "X_tr = X_tr[:50]\n",
    "X_va = X_va[:10]\n",
    "y_tr = y_tr[:50]\n",
    "y_va = y_va[:10]"
   ]
  },
  {
   "cell_type": "markdown",
   "metadata": {},
   "source": [
    "### tokenizing"
   ]
  },
  {
   "cell_type": "code",
   "execution_count": 4,
   "metadata": {},
   "outputs": [],
   "source": [
    "# tokenize\n",
    "tokenizer = AutoTokenizer.from_pretrained(model_name, do_lower_case=False)\n",
    "\n",
    "input_ids_tr, attention_masks_tr, labels_tr = tokenizing(\n",
    "    X_tr.values, y_tr.values, tokenizer\n",
    ")\n",
    "input_ids_va, attention_masks_va, labels_va = tokenizing(\n",
    "    X_va.values, y_va.values, tokenizer\n",
    ")"
   ]
  },
  {
   "cell_type": "markdown",
   "metadata": {},
   "source": [
    "check average token length"
   ]
  },
  {
   "cell_type": "markdown",
   "metadata": {},
   "source": [
    "**max_len = 512:**\n",
    "\n",
    "```python\n",
    "print(np.mean(token_length))\n",
    "print(np.max(token_length))\n",
    "print(np.min(token_length))\n",
    "print(np.std(token_length))\n",
    "```\n",
    "\n",
    "```text\n",
    "231.8667348329925\n",
    "512\n",
    "4\n",
    "153.99549015975495\n",
    "```\n",
    "\n",
    "**max_len = 400:**\n",
    "\n",
    "```python\n",
    "print(np.mean(token_length))\n",
    "print(np.max(token_length))\n",
    "print(np.min(token_length))\n",
    "print(np.std(token_length))\n",
    "```\n",
    "\n",
    "```text\n",
    "215.33452624403546\n",
    "400\n",
    "4\n",
    "127.15932762513401\n",
    "```\n"
   ]
  },
  {
   "cell_type": "markdown",
   "metadata": {},
   "source": [
    "### dataset"
   ]
  },
  {
   "cell_type": "code",
   "execution_count": 5,
   "metadata": {},
   "outputs": [],
   "source": [
    "# Holdout dataset\n",
    "Trainset = TensorDataset(input_ids_tr, attention_masks_tr, labels_tr)\n",
    "Validset = TensorDataset(input_ids_va, attention_masks_va, labels_va)"
   ]
  },
  {
   "cell_type": "markdown",
   "metadata": {},
   "source": [
    "### training"
   ]
  },
  {
   "cell_type": "code",
   "execution_count": 6,
   "metadata": {},
   "outputs": [
    {
     "name": "stderr",
     "output_type": "stream",
     "text": [
      "Some weights of the model checkpoint at bert-base-cased were not used when initializing BertForSequenceClassification: ['cls.predictions.bias', 'cls.predictions.transform.dense.weight', 'cls.predictions.transform.dense.bias', 'cls.predictions.decoder.weight', 'cls.seq_relationship.weight', 'cls.seq_relationship.bias', 'cls.predictions.transform.LayerNorm.weight', 'cls.predictions.transform.LayerNorm.bias']\n",
      "- This IS expected if you are initializing BertForSequenceClassification from the checkpoint of a model trained on another task or with another architecture (e.g. initializing a BertForSequenceClassification model from a BertForPretraining model).\n",
      "- This IS NOT expected if you are initializing BertForSequenceClassification from the checkpoint of a model that you expect to be exactly identical (initializing a BertForSequenceClassification model from a BertForSequenceClassification model).\n",
      "Some weights of BertForSequenceClassification were not initialized from the model checkpoint at bert-base-cased and are newly initialized: ['classifier.weight', 'classifier.bias']\n",
      "You should probably TRAIN this model on a down-stream task to be able to use it for predictions and inference.\n"
     ]
    },
    {
     "name": "stdout",
     "output_type": "stream",
     "text": [
      "Num of train samples: 50\n",
      "Num of valid samples: 10\n",
      "\n",
      "training loss: 0.70\n",
      "training acc: 0.54\n",
      "-------------------------\n",
      "train loss: 0.68\n",
      "train acc: 0.54\n",
      "-------------------------\n",
      "valid loss: 0.73\n",
      "valid acc: 0.20\n",
      "-------------------------\n",
      "Validation loss decreased (inf --> 0.731871).  Saving model ...\n",
      "=========================\n",
      "training loss: 0.70\n",
      "training acc: 0.56\n",
      "-------------------------\n",
      "train loss: 0.67\n",
      "train acc: 0.56\n",
      "-------------------------\n",
      "valid loss: 0.72\n",
      "valid acc: 0.20\n",
      "-------------------------\n",
      "Validation loss decreased (0.731871 --> 0.720729).  Saving model ...\n",
      "=========================\n",
      "training loss: 0.71\n",
      "training acc: 0.52\n",
      "-------------------------\n",
      "train loss: 0.66\n",
      "train acc: 0.54\n",
      "-------------------------\n",
      "valid loss: 0.73\n",
      "valid acc: 0.20\n",
      "-------------------------\n",
      "EarlyStopping counter: 1 out of 3\n",
      "=========================\n"
     ]
    }
   ],
   "source": [
    "model = AutoModelForSequenceClassification.from_pretrained(\n",
    "    model_name,\n",
    "    num_labels=2,\n",
    "    output_attentions=False,\n",
    "    output_hidden_states=False,\n",
    "    hidden_dropout_prob=0.35,\n",
    "    attention_probs_dropout_prob=0.25,\n",
    ")\n",
    "model.to(device)\n",
    "\n",
    "# This code is taken from:\n",
    "# https://github.com/huggingface/transformers/blob/5bfcd0485ece086ebcbed2d008813037968a9e58/examples/run_glue.py#L102\n",
    "\n",
    "# Don't apply weight decay to any parameters whose names include these tokens.\n",
    "# (Here, the BERT doesn't have `gamma` or `beta` parameters, only `bias` terms)\n",
    "no_decay = [\"bias\", \"LayerNorm.weight\"]\n",
    "\n",
    "# Separate the `weight` parameters from the `bias` parameters.\n",
    "# - For the `weight` parameters, this specifies a 'weight_decay_rate' of 0.01.\n",
    "# - For the `bias` parameters, the 'weight_decay_rate' is 0.0.\n",
    "optimizer_grouped_parameters = [\n",
    "    # Filter for all parameters which *don't* include 'bias', 'gamma', 'beta'.\n",
    "    {\n",
    "        \"params\": [\n",
    "            p\n",
    "            for n, p in model.named_parameters()\n",
    "            if not any(nd in n for nd in no_decay)\n",
    "        ],\n",
    "        \"weight_decay_rate\": 0.01,\n",
    "    },\n",
    "    # Filter for parameters which *do* include those.\n",
    "    {\n",
    "        \"params\": [\n",
    "            p for n, p in model.named_parameters() if any(nd in n for nd in no_decay)\n",
    "        ],\n",
    "        \"weight_decay_rate\": 0.0,\n",
    "    },\n",
    "]\n",
    "\n",
    "# Note - `optimizer_grouped_parameters` only includes the parameter values, not\n",
    "# the names.\n",
    "\n",
    "N_train = len(Trainset)\n",
    "N_test = len(Validset)\n",
    "print(\"Num of train samples:\", N_train)\n",
    "print(\"Num of valid samples:\", N_test)\n",
    "print()\n",
    "\n",
    "optimizer = AdamW(\n",
    "    optimizer_grouped_parameters,\n",
    "    lr=4e-5,  # args.learning_rate - default is 5e-5, our notebook had 2e-5\n",
    ")\n",
    "\n",
    "train_loader = DataLoader(Trainset, shuffle=True, batch_size=batch_size)\n",
    "valid_loader = DataLoader(Validset, shuffle=False, batch_size=batch_size)\n",
    "\n",
    "# Total number of training steps is [number of batches] x [number of epochs].\n",
    "# (Note that this is not the same as the number of training samples).\n",
    "total_steps = len(train_loader) * epochs\n",
    "\n",
    "scheduler = get_linear_schedule_with_warmup(\n",
    "    optimizer, num_warmup_steps=total_steps * 0.1, num_training_steps=total_steps\n",
    ")\n",
    "\n",
    "history, best_epoch = train_model(\n",
    "    model=model,\n",
    "    train_loader=train_loader,\n",
    "    valid_loader=valid_loader,\n",
    "    optimizer=optimizer,\n",
    "    N_train=N_train,\n",
    "    N_test=N_test,\n",
    "    device=device,\n",
    "    scheduler=scheduler,\n",
    "    path=model_path,\n",
    "    epochs=epochs,\n",
    "    patience=3,\n",
    ")"
   ]
  },
  {
   "cell_type": "code",
   "execution_count": 7,
   "metadata": {},
   "outputs": [],
   "source": [
    "# save trainin_history\n",
    "with open(os.path.join(history_path, \"hist.pkl\"), \"wb\") as f:\n",
    "    pickle.dump(history, f)"
   ]
  },
  {
   "cell_type": "code",
   "execution_count": 8,
   "metadata": {},
   "outputs": [
    {
     "name": "stdout",
     "output_type": "stream",
     "text": [
      "\n",
      "[train average]\n",
      "\n",
      "ACC: 0.56\n",
      "LOSS: 0.67\n",
      "\n",
      "Recall: 0.043\n",
      "Specificity: 1.0\n",
      "Precision: 1.0\n",
      "NPV: 0.55\n",
      "\n",
      "F1: 0.083\n",
      "MCC: 0.15\n",
      "AUC: 0.81\n",
      "\n",
      "\n",
      "[valid average]\n",
      "\n",
      "ACC: 0.2\n",
      "LOSS: 0.72\n",
      "\n",
      "Recall: 0.0\n",
      "Specificity: 1.0\n",
      "Precision: 0.0\n",
      "NPV: 0.2\n",
      "\n",
      "F1: 0.0\n",
      "MCC: 0.0\n",
      "AUC: 1.0\n",
      "\n"
     ]
    }
   ],
   "source": [
    "# metric\n",
    "tr_metric = final_metric(history, mtype=\"train\", best_epoch=best_epoch)\n",
    "va_metric = final_metric(history, mtype=\"valid\", best_epoch=best_epoch)\n",
    "save_metrics(metric_path, \"train\", best_epoch=None, **tr_metric)\n",
    "save_metrics(metric_path, \"valid\", best_epoch=None, **va_metric)"
   ]
  },
  {
   "cell_type": "code",
   "execution_count": 9,
   "metadata": {},
   "outputs": [
    {
     "data": {
      "image/png": "[encoded data removed]",
      "text/plain": [
       "<Figure size 432x288 with 1 Axes>"
      ]
     },
     "metadata": {
      "needs_background": "light"
     },
     "output_type": "display_data"
    },
    {
     "data": {
      "image/png": "[encoded data removed]",
      "text/plain": [
       "<Figure size 432x288 with 1 Axes>"
      ]
     },
     "metadata": {
      "needs_background": "light"
     },
     "output_type": "display_data"
    },
    {
     "data": {
      "image/png": "[encoded data removed]",
      "text/plain": [
       "<Figure size 432x288 with 1 Axes>"
      ]
     },
     "metadata": {
      "needs_background": "light"
     },
     "output_type": "display_data"
    },
    {
     "data": {
      "image/png": "[encoded data removed]",
      "text/plain": [
       "<Figure size 432x288 with 1 Axes>"
      ]
     },
     "metadata": {
      "needs_background": "light"
     },
     "output_type": "display_data"
    }
   ],
   "source": [
    "# plot learning curve\n",
    "plot_lr(\"acc\", history, fig_path=fig_path, best_epoch=best_epoch, show=True)\n",
    "plot_lr(\"loss\", history, fig_path=fig_path, best_epoch=best_epoch, show=True)\n",
    "plot_roc(history, fig_path=fig_path, best_epoch=None, show=True)\n",
    "plot_roc(history, fig_path=fig_path, best_epoch=best_epoch, show=True)"
   ]
  },
  {
   "cell_type": "markdown",
   "metadata": {},
   "source": [
    "# Evaluate on test"
   ]
  },
  {
   "cell_type": "code",
   "execution_count": 10,
   "metadata": {},
   "outputs": [],
   "source": [
    "model_name = \"bert-base-cased\"\n",
    "epochs = 3\n",
    "batch_size = 4"
   ]
  },
  {
   "cell_type": "code",
   "execution_count": 11,
   "metadata": {},
   "outputs": [
    {
     "name": "stdout",
     "output_type": "stream",
     "text": [
      "No GPU available, using the CPU instead.\n",
      "==========\n",
      "\n",
      "metric_path: D:\\user\\Documents\\N26091194\\Projects\\ai_cup-movie\\result\\bert-base-cased_bs_4_epo3\\test\\metrics\n",
      "model_path: D:\\user\\Documents\\N26091194\\Projects\\ai_cup-movie\\result\\bert-base-cased_bs_4_epo3\\train\\model\n",
      "history_path: D:\\user\\Documents\\N26091194\\Projects\\ai_cup-movie\\result\\bert-base-cased_bs_4_epo3\\test\\history\n",
      "fig_path: None\n"
     ]
    }
   ],
   "source": [
    "# load basic library\n",
    "import os\n",
    "import random\n",
    "import numpy as np\n",
    "import pickle\n",
    "from tqdm import tqdm\n",
    "\n",
    "# load torch library\n",
    "import torch\n",
    "import torch.nn.functional as F\n",
    "from torch.utils.data import Dataset, DataLoader, TensorDataset\n",
    "from transformers import (\n",
    "    AutoTokenizer,\n",
    "    AutoModelForSequenceClassification,\n",
    "    AdamW,\n",
    "    get_linear_schedule_with_warmup,\n",
    ")\n",
    "\n",
    "# custum module\n",
    "from tools import *\n",
    "\n",
    "# keep reandom seed\n",
    "seed_val = 0\n",
    "random.seed(seed_val)\n",
    "np.random.seed(seed_val)\n",
    "torch.manual_seed(seed_val)\n",
    "\n",
    "# check gpu\n",
    "device = get_device()\n",
    "\n",
    "# setting path\n",
    "metric_path, model_path, history_path, fig_path = setting_path(\n",
    "    model_name, batch_size, epochs, mode=\"test\"\n",
    ")\n",
    "\n",
    "\n",
    "# load data\n",
    "with open(\"./data/train_test_split/X_te.pkl\", \"rb\") as f:\n",
    "    X_test = pickle.load(f)\n",
    "with open(\"./data/train_test_split/y_te.pkl\", \"rb\") as f:\n",
    "    y_test = pickle.load(f)"
   ]
  },
  {
   "cell_type": "code",
   "execution_count": 12,
   "metadata": {},
   "outputs": [],
   "source": [
    "X_test = X_test[:50]\n",
    "y_test = y_test[:50]"
   ]
  },
  {
   "cell_type": "code",
   "execution_count": 13,
   "metadata": {},
   "outputs": [],
   "source": [
    "# tokenize\n",
    "tokenizer = AutoTokenizer.from_pretrained(model_name, do_lower_case=False)\n",
    "input_ids_te, attention_masks_te, labels_te = tokenizing(\n",
    "    X_test.values, y_test.values, tokenizer\n",
    ")"
   ]
  },
  {
   "cell_type": "code",
   "execution_count": 15,
   "metadata": {},
   "outputs": [],
   "source": [
    "testdataset = TensorDataset(input_ids_te, attention_masks_te, labels_te)"
   ]
  },
  {
   "cell_type": "code",
   "execution_count": 16,
   "metadata": {},
   "outputs": [
    {
     "data": {
      "text/plain": [
       "50"
      ]
     },
     "execution_count": 16,
     "metadata": {},
     "output_type": "execute_result"
    }
   ],
   "source": [
    "print(\"test dataset:\", len(testdataset))"
   ]
  },
  {
   "cell_type": "code",
   "execution_count": 17,
   "metadata": {},
   "outputs": [
    {
     "name": "stderr",
     "output_type": "stream",
     "text": [
      "Some weights of the model checkpoint at bert-base-cased were not used when initializing BertForSequenceClassification: ['cls.predictions.bias', 'cls.predictions.transform.dense.weight', 'cls.predictions.transform.dense.bias', 'cls.predictions.decoder.weight', 'cls.seq_relationship.weight', 'cls.seq_relationship.bias', 'cls.predictions.transform.LayerNorm.weight', 'cls.predictions.transform.LayerNorm.bias']\n",
      "- This IS expected if you are initializing BertForSequenceClassification from the checkpoint of a model trained on another task or with another architecture (e.g. initializing a BertForSequenceClassification model from a BertForPretraining model).\n",
      "- This IS NOT expected if you are initializing BertForSequenceClassification from the checkpoint of a model that you expect to be exactly identical (initializing a BertForSequenceClassification model from a BertForSequenceClassification model).\n",
      "Some weights of BertForSequenceClassification were not initialized from the model checkpoint at bert-base-cased and are newly initialized: ['classifier.weight', 'classifier.bias']\n",
      "You should probably TRAIN this model on a down-stream task to be able to use it for predictions and inference.\n"
     ]
    },
    {
     "data": {
      "text/plain": [
       "<All keys matched successfully>"
      ]
     },
     "execution_count": 17,
     "metadata": {},
     "output_type": "execute_result"
    }
   ],
   "source": [
    "model = AutoModelForSequenceClassification.from_pretrained(\n",
    "    model_name,\n",
    "    num_labels=2,\n",
    "    output_attentions=False,\n",
    "    output_hidden_states=False,\n",
    ")\n",
    "model.to(device)\n",
    "\n",
    "PATH = os.path.join(model_path, \"model.pkl\")\n",
    "model.load_state_dict(torch.load(PATH))"
   ]
  },
  {
   "cell_type": "code",
   "execution_count": 19,
   "metadata": {},
   "outputs": [
    {
     "name": "stdout",
     "output_type": "stream",
     "text": [
      "test loss: 0.67\n",
      "test acc: 0.54\n",
      "-------------------------\n"
     ]
    }
   ],
   "source": [
    "N_test = len(testdataset)\n",
    "\n",
    "test_loader = DataLoader(testdataset, shuffle=False, batch_size=16)\n",
    "\n",
    "history_2 = eval_model(\n",
    "    model=model,\n",
    "    test_loader=test_loader,\n",
    "    N_test=N_test,\n",
    "    device=device,\n",
    ")"
   ]
  },
  {
   "cell_type": "code",
   "execution_count": 20,
   "metadata": {},
   "outputs": [],
   "source": [
    "# save trainin_history\n",
    "with open(os.path.join(history_path, \"hist.pkl\"), \"wb\") as f:\n",
    "    pickle.dump(history_2, f)"
   ]
  },
  {
   "cell_type": "code",
   "execution_count": 21,
   "metadata": {},
   "outputs": [
    {
     "name": "stdout",
     "output_type": "stream",
     "text": [
      "\n",
      "[test average]\n",
      "\n",
      "ACC: 0.54\n",
      "LOSS: 0.67\n",
      "\n",
      "Recall: 0.042\n",
      "Specificity: 1.0\n",
      "Precision: 1.0\n",
      "NPV: 0.53\n",
      "\n",
      "F1: 0.08\n",
      "MCC: 0.15\n",
      "AUC: 0.49\n",
      "\n"
     ]
    }
   ],
   "source": [
    "# save metric\n",
    "te_metric = final_metric(history_2, mtype=\"test\")\n",
    "save_metrics(metric_path, \"test\", best_epoch=None, **te_metric)"
   ]
  },
  {
   "cell_type": "markdown",
   "metadata": {},
   "source": [
    "# Prediction"
   ]
  },
  {
   "cell_type": "code",
   "execution_count": 22,
   "metadata": {},
   "outputs": [],
   "source": [
    "model_name = \"bert-base-cased\"\n",
    "epochs = 3\n",
    "batch_size = 4\n",
    "mode = \"predict\""
   ]
  },
  {
   "cell_type": "code",
   "execution_count": 23,
   "metadata": {},
   "outputs": [
    {
     "name": "stdout",
     "output_type": "stream",
     "text": [
      "No GPU available, using the CPU instead.\n",
      "==========\n",
      "\n",
      "metric_path: D:\\user\\Documents\\N26091194\\Projects\\ai_cup-movie\\result\\bert-base-cased_bs_4_epo3\\test\\metrics\n",
      "model_path: D:\\user\\Documents\\N26091194\\Projects\\ai_cup-movie\\result\\bert-base-cased_bs_4_epo3\\train\\model\n",
      "history_path: D:\\user\\Documents\\N26091194\\Projects\\ai_cup-movie\\result\\bert-base-cased_bs_4_epo3\\test\\history\n",
      "fig_path: None\n"
     ]
    }
   ],
   "source": [
    "# load basic library\n",
    "import os\n",
    "import random\n",
    "import numpy as np\n",
    "import pickle\n",
    "from tqdm import tqdm\n",
    "import pandas as pd\n",
    "\n",
    "# load torch library\n",
    "import torch\n",
    "import torch.nn.functional as F\n",
    "from torch.utils.data import Dataset, DataLoader, TensorDataset\n",
    "from transformers import (\n",
    "    AutoTokenizer,\n",
    "    AutoModelForSequenceClassification,\n",
    "    AdamW,\n",
    "    get_linear_schedule_with_warmup,\n",
    ")\n",
    "\n",
    "# custum module\n",
    "from tools import *\n",
    "\n",
    "# keep reandom seed\n",
    "seed_val = 0\n",
    "random.seed(seed_val)\n",
    "np.random.seed(seed_val)\n",
    "torch.manual_seed(seed_val)\n",
    "\n",
    "# check gpu\n",
    "device = get_device()\n",
    "\n",
    "# setting path\n",
    "metric_path, model_path, history_path, fig_path = setting_path(\n",
    "    model_name, batch_size, epochs, mode=\"test\"\n",
    ")\n",
    "\n",
    "# load data\n",
    "with open(\"./data/test_rm_br.pkl\", \"rb\") as f:\n",
    "    test = pickle.load(f)\n",
    "test_data = test[\"review\"].values"
   ]
  },
  {
   "cell_type": "code",
   "execution_count": 24,
   "metadata": {},
   "outputs": [],
   "source": [
    "test = test[:50]"
   ]
  },
  {
   "cell_type": "code",
   "execution_count": 25,
   "metadata": {},
   "outputs": [],
   "source": [
    "test_data = test[\"review\"].values"
   ]
  },
  {
   "cell_type": "code",
   "execution_count": 26,
   "metadata": {},
   "outputs": [
    {
     "name": "stdout",
     "output_type": "stream",
     "text": [
      "No GPU available, using the CPU instead.\n",
      "==========\n",
      "\n",
      "metric_path: D:\\user\\Documents\\N26091194\\Projects\\ai_cup-movie\\result\\bert-base-cased_bs_4_epo3\\predict\\metrics\n",
      "model_path: D:\\user\\Documents\\N26091194\\Projects\\ai_cup-movie\\result\\bert-base-cased_bs_4_epo3\\train\\model\n",
      "history_path: None\n",
      "fig_path: None\n",
      "Prediction dataset: 50\n"
     ]
    }
   ],
   "source": [
    "# check gpu\n",
    "device = get_device()\n",
    "\n",
    "# setting path\n",
    "metric_path, model_path, _, _ = setting_path(model_name, batch_size, epochs, mode)\n",
    "\n",
    "# tokenize\n",
    "tokenizer = AutoTokenizer.from_pretrained(model_name, do_lower_case=False)\n",
    "input_ids, attention_masks, _ = tokenizing(test_data, None, tokenizer)\n",
    "\n",
    "# dataset\n",
    "testdataset = TensorDataset(input_ids, attention_masks)\n",
    "print(\"Prediction dataset:\", len(testdataset))"
   ]
  },
  {
   "cell_type": "code",
   "execution_count": 28,
   "metadata": {},
   "outputs": [
    {
     "name": "stderr",
     "output_type": "stream",
     "text": [
      "Some weights of the model checkpoint at bert-base-cased were not used when initializing BertForSequenceClassification: ['cls.predictions.bias', 'cls.predictions.transform.dense.weight', 'cls.predictions.transform.dense.bias', 'cls.predictions.decoder.weight', 'cls.seq_relationship.weight', 'cls.seq_relationship.bias', 'cls.predictions.transform.LayerNorm.weight', 'cls.predictions.transform.LayerNorm.bias']\n",
      "- This IS expected if you are initializing BertForSequenceClassification from the checkpoint of a model trained on another task or with another architecture (e.g. initializing a BertForSequenceClassification model from a BertForPretraining model).\n",
      "- This IS NOT expected if you are initializing BertForSequenceClassification from the checkpoint of a model that you expect to be exactly identical (initializing a BertForSequenceClassification model from a BertForSequenceClassification model).\n",
      "Some weights of BertForSequenceClassification were not initialized from the model checkpoint at bert-base-cased and are newly initialized: ['classifier.weight', 'classifier.bias']\n",
      "You should probably TRAIN this model on a down-stream task to be able to use it for predictions and inference.\n"
     ]
    },
    {
     "data": {
      "text/plain": [
       "<All keys matched successfully>"
      ]
     },
     "execution_count": 28,
     "metadata": {},
     "output_type": "execute_result"
    }
   ],
   "source": [
    "# load in model\n",
    "model = AutoModelForSequenceClassification.from_pretrained(\n",
    "    model_name,\n",
    "    num_labels=2,\n",
    "    output_attentions=False,\n",
    "    output_hidden_states=False,\n",
    ")\n",
    "model.to(device)\n",
    "PATH = os.path.join(model_path, \"model.pkl\")\n",
    "model.load_state_dict(torch.load(PATH))"
   ]
  },
  {
   "cell_type": "code",
   "execution_count": 29,
   "metadata": {},
   "outputs": [],
   "source": [
    "# loader\n",
    "test_loader = DataLoader(testdataset, shuffle=False, batch_size=16)"
   ]
  },
  {
   "cell_type": "code",
   "execution_count": 30,
   "metadata": {},
   "outputs": [],
   "source": [
    "# prediction\n",
    "pred = []\n",
    "model.eval()\n",
    "with torch.no_grad():\n",
    "    for batch in test_loader:\n",
    "        b_input_ids = batch[0].to(device)\n",
    "        b_input_mask = batch[1].to(device)\n",
    "\n",
    "        output = model(b_input_ids, attention_mask=b_input_mask)\n",
    "        logits = output[0]\n",
    "\n",
    "        _, yhat = torch.max(logits.data, 1)\n",
    "\n",
    "        pred.extend(yhat.cpu().detach().numpy())"
   ]
  },
  {
   "cell_type": "code",
   "execution_count": 31,
   "metadata": {},
   "outputs": [
    {
     "name": "stdout",
     "output_type": "stream",
     "text": [
      "Answer and prediction have same length: True\n"
     ]
    }
   ],
   "source": [
    "print(\"Answer and prediction have same length:\", len(pred) == len(test))"
   ]
  },
  {
   "cell_type": "code",
   "execution_count": 32,
   "metadata": {},
   "outputs": [
    {
     "name": "stdout",
     "output_type": "stream",
     "text": [
      "output: D:\\user\\Documents\\N26091194\\Projects\\ai_cup-movie\\result\\bert-base-cased_bs_4_epo3\\predict\n"
     ]
    }
   ],
   "source": [
    "# save result\n",
    "path = os.path.abspath(os.path.join(metric_path, \"..\"))\n",
    "print(\"output:\", path)\n",
    "submission = pd.DataFrame({\"ID\": test[\"ID\"].values, \"sentiment\": pred})\n",
    "submission.to_csv(os.path.join(path, \"submission.csv\"), encoding=\"utf-8\", index=False)"
   ]
  },
  {
   "cell_type": "code",
   "execution_count": null,
   "metadata": {},
   "outputs": [],
   "source": []
  }
 ],
 "metadata": {
  "kernelspec": {
   "display_name": "Python 3",
   "language": "python",
   "name": "python3"
  },
  "language_info": {
   "codemirror_mode": {
    "name": "ipython",
    "version": 3
   },
   "file_extension": ".py",
   "mimetype": "text/x-python",
   "name": "python",
   "nbconvert_exporter": "python",
   "pygments_lexer": "ipython3",
   "version": "3.8.6"
  },
  "toc": {
   "base_numbering": 1,
   "nav_menu": {},
   "number_sections": true,
   "sideBar": true,
   "skip_h1_title": true,
   "title_cell": "Table of Contents",
   "title_sidebar": "Contents",
   "toc_cell": false,
   "toc_position": {},
   "toc_section_display": true,
   "toc_window_display": false
  }
 },
 "nbformat": 4,
 "nbformat_minor": 5
}
